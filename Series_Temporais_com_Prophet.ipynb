{
  "nbformat": 4,
  "nbformat_minor": 0,
  "metadata": {
    "colab": {
      "name": "Series Temporais com Prophet",
      "private_outputs": true,
      "provenance": [],
      "authorship_tag": "ABX9TyNBCXzL5c1FgCTDzl6ftuRP",
      "include_colab_link": true
    },
    "kernelspec": {
      "name": "python3",
      "display_name": "Python 3"
    },
    "language_info": {
      "name": "python"
    }
  },
  "cells": [
    {
      "cell_type": "markdown",
      "metadata": {
        "id": "view-in-github",
        "colab_type": "text"
      },
      "source": [
        "<a href=\"https://colab.research.google.com/github/DuplamenteH/Ds/blob/master/Series_Temporais_com_Prophet.ipynb\" target=\"_parent\"><img src=\"https://colab.research.google.com/assets/colab-badge.svg\" alt=\"Open In Colab\"/></a>"
      ]
    },
    {
      "cell_type": "markdown",
      "metadata": {
        "id": "wGj-xSMckqWg"
      },
      "source": [
        "# Previsão de Séries Temporais com o Prophet\n",
        "\n",
        "O projeto trata-se da previsão de outcomes de animais de um abrigo.\n",
        "\n",
        "Como ferramente vamos utilizar o Prophet lib muito famosa e poderosa para lidar com TS(Series Temporais), o framework Prophet é disponibilizado como projeto open source.\n",
        "\n",
        "Aqui esta o [artigo](https://peerj.com/preprints/3190v2/).\n",
        "\n",
        "Resumidamente o Prophet é um framework de forecasting para series temporais, implementado para as linguagens Python e R é capaz de fazer previsões automatizadas e muito mais rápidas.\n",
        "\n",
        "[**Documentação Oficial.**](https://facebook.github.io/prophet/).\n",
        "\n",
        "Por ser um Framework open-source é possivel que Cientistas de dados otimizem parâmetros do framework.\n",
        "\n",
        "## Modelo Preditivo do Prophet:\n",
        "\n",
        "O Prophet foi feito para solucionar problemas do Facebook. Ou seja, é muito forte para lidar com problemas que tenham características como:\n",
        "\n",
        "* Dados coletados por um longo período (meses ou anos), e que possuam o maior detalhamento histórico possível.\n",
        "* Sazonalidades fortes e destacadas.\n",
        "* Feriados ou datas especiais conhecidas *a priori*.\n",
        "* Tendência de crescimento não linear, que se aproxima de um limite.\n",
        "\n",
        "Propeht usa um modelo de séries temporais decomposto, com três componentes principais: tendência, sazonalidade e feriados:\n",
        "\n",
        "$$\n",
        "y(t) = g(t) + s(t) + h(t) + \\varepsilon_t\n",
        "$$\n",
        "\n",
        "onde:\n",
        "\n",
        "* $g(t)$ é a tendência, que modela as mudanças não-periódicas no valor da série temporal;\n",
        "* $s(t)$ representa as mudanças periódicas (como sazonalidade semanal, anual, etc);\n",
        "* $h(t)$ representa os efeitos dos feriados; e\n",
        "* $\\varepsilon_t$ é o erro, as mudanças que não são capturadas pelo modelo (assume-se esse como tendo uma distribuição normal).\n",
        "\n",
        "\n"
      ]
    },
    {
      "cell_type": "markdown",
      "metadata": {
        "id": "3vBwPvOx5lZa"
      },
      "source": [
        "# O Problema:"
      ]
    },
    {
      "cell_type": "markdown",
      "metadata": {
        "id": "ES45slyY5y2K"
      },
      "source": [
        "## Abrigo de animais\n",
        "\n",
        "O centro de animais de Austin, no Texas, provê  abrigo para mais de 16 mill animais por ano, além de outros serviços relacionados a saúde dos animais, independente da raça, idade ou estado de saúde dos mesmos.\n",
        "\n",
        "O objetivo principal do abriga é fazer com que os animais recebam novos lares, seja por adoção, resgate  ou ação social.\n",
        "\n",
        "Porém por maior que seja os esforços do abrigo ainda assim não é possível dar lar a todos os animais, muitos desses animais acabam sendo sacrificados.O abrigo Austin animal Center tem como meta conseguir que 90% dos animais que vivem no abrigo tenham um final feliz.\n",
        "\n",
        "Nossa função aqui é anilizar as saídas dessas animais, com essa análise , espera-se que sejamos capazes de indenitifcar um padrão de adoção.Também esperamos conseguir fazer previsões futuras em relação ao número de saída do abrigo, tendo como objetivo:\n",
        "\n",
        "\n",
        "1. Planejar compras de insumos(remédios, comida, etc);\n",
        "2. Contratações de funcionários e colaboradores;\n",
        "3. Fazer campanhas visando aumentar a adoção de animais.\n",
        "\n",
        "\n",
        "\n",
        "\n",
        "\n"
      ]
    },
    {
      "cell_type": "markdown",
      "metadata": {
        "id": "Hnfhzu8mEMqF"
      },
      "source": [
        "## Os dados.\n",
        "Os dados foram disponibilizados pelo [Austin Animal Center](http://www.austintexas.gov/content/austin-animal-center) e podem ser baixados diretamente no [City of Austin Open Data Portal](https://data.austintexas.gov/Health-and-Community-Services/Austin-Animal-Center-Outcomes/9t4d-g238)."
      ]
    },
    {
      "cell_type": "code",
      "metadata": {
        "id": "n6KKvMWTQtgk"
      },
      "source": [
        "#instalações\n",
        "!pip install plotly==4.14.3\n"
      ],
      "execution_count": null,
      "outputs": []
    },
    {
      "cell_type": "code",
      "metadata": {
        "id": "Z5COM-Z5QxPU"
      },
      "source": [
        "!pip install biokit\n"
      ],
      "execution_count": null,
      "outputs": []
    },
    {
      "cell_type": "code",
      "metadata": {
        "id": "a3VLTLkLkdsc"
      },
      "source": [
        "#importações  de bibliotecas necessárias\n",
        "import warnings\n",
        "warnings.filterwarnings('ignore')\n",
        "\n",
        "import pandas as pd\n",
        "import numpy as np\n",
        "from fbprophet import Prophet\n",
        "from fbprophet.plot import add_changepoints_to_plot\n",
        "from fbprophet.diagnostics import cross_validation\n",
        "from fbprophet.diagnostics import performance_metrics\n",
        "from fbprophet.plot import plot_cross_validation_metric\n",
        "import matplotlib.pyplot as plt\n",
        "import matplotlib as mpl\n",
        "import seaborn as sns\n",
        "\n",
        "import plotly.graph_objects as go\n",
        "from biokit.viz import corrplot\n",
        "import plotly.express as px\n",
        "\n",
        "\n",
        "# configurar a visualização\n",
        "%matplotlib inline\n",
        "%config InlineBackend.figure_format = 'svg'"
      ],
      "execution_count": null,
      "outputs": []
    },
    {
      "cell_type": "code",
      "metadata": {
        "id": "BtPwMYh6E5J-"
      },
      "source": [
        "# importar os dados para um DataFrame\n",
        "df = pd.read_csv(\"https://github.com/carlosfab/escola-data-science/blob/master/datasets/shelter_animal_outcomes.csv?raw=true\")\n",
        "\n",
        "# converter a coluna DateTime para o formato conveniente\n",
        "df.DateTime = pd.to_datetime(df.DateTime)\n",
        "\n",
        "# ver as primeiras 5 entradas\n",
        "df.head()"
      ],
      "execution_count": null,
      "outputs": []
    },
    {
      "cell_type": "markdown",
      "metadata": {
        "id": "CFGlnumkFNdk"
      },
      "source": [
        "## Análise dos dados"
      ]
    },
    {
      "cell_type": "markdown",
      "metadata": {
        "id": "PnOrPCA7Fkpg"
      },
      "source": [
        "Resumo das estatísticas"
      ]
    },
    {
      "cell_type": "code",
      "metadata": {
        "id": "XQHtlWQ6Fg3C"
      },
      "source": [
        "df.describe()"
      ],
      "execution_count": null,
      "outputs": []
    },
    {
      "cell_type": "markdown",
      "metadata": {
        "id": "Xq_iTsOlF_El"
      },
      "source": [
        "vemos que existem muitos dados NaN"
      ]
    },
    {
      "cell_type": "code",
      "metadata": {
        "id": "C-T1joMzGFaL"
      },
      "source": [
        "df.info()"
      ],
      "execution_count": null,
      "outputs": []
    },
    {
      "cell_type": "code",
      "metadata": {
        "id": "JuARou5iGdhL"
      },
      "source": [
        "dfcopia = df.copy()\n",
        "dfcopia.head()"
      ],
      "execution_count": null,
      "outputs": []
    },
    {
      "cell_type": "code",
      "metadata": {
        "id": "fVRAToT0GkJ8"
      },
      "source": [
        "colunas=['Outcome Subtype', 'Name']\n",
        "\n",
        "df.drop(columns=colunas, inplace=True)\n",
        "df.head()"
      ],
      "execution_count": null,
      "outputs": []
    },
    {
      "cell_type": "code",
      "metadata": {
        "id": "5kilkZezE7T_"
      },
      "source": [
        "(df['Outcome Type'].value_counts()/df.shape[0])*100"
      ],
      "execution_count": null,
      "outputs": []
    },
    {
      "cell_type": "code",
      "metadata": {
        "id": "06FpGU07FUoG"
      },
      "source": [
        "adotados = df[df['Outcome Type']=='Adoption']\n",
        "transferidos = df[df['Outcome Type']=='Transfer']\n",
        "mortos_ou_eutanasia =  df.loc[(df['Outcome Type']=='Died') | (df['Outcome Type']=='Euthanasia')]\n",
        "disponiveis = df[df['Outcome Type']=='Disposal']\n",
        "perdidos = df[df['Outcome Type']=='Missing']\n",
        "realocados = df[df['Outcome Type']=='Relocate']\n",
        "Rtn_dono =df[df['Outcome Type']=='Return to Owner']\n",
        "rtn_adocao=df[df['Outcome Type']=='Rto-Adopt']\n",
        "\n"
      ],
      "execution_count": null,
      "outputs": []
    },
    {
      "cell_type": "markdown",
      "metadata": {
        "id": "vOoPw1O4MiUH"
      },
      "source": [
        "Criando um dict com os dados acima, para fazer a plotagem desses dados."
      ]
    },
    {
      "cell_type": "code",
      "metadata": {
        "id": "RWGgFbpbTbxK"
      },
      "source": [
        "dados = {\n",
        "    'adotados':[adotados.shape[0]],\n",
        "    'transferidos':[transferidos.shape[0]],\n",
        "    'mortos_ou_eutanasia':[mortos_ou_eutanasia.shape[0]],\n",
        "    'disponiveis':[disponiveis.shape[0]],\n",
        "    'perdidos':[perdidos.shape[0]],\n",
        "    'realocados':[realocados.shape[0]],\n",
        "    'Rtn_dono':[Rtn_dono.shape[0]],\n",
        "    'rtn_adocao':[rtn_adocao.shape[0]]\n",
        "}\n",
        "dados"
      ],
      "execution_count": null,
      "outputs": []
    },
    {
      "cell_type": "markdown",
      "metadata": {
        "id": "-cOo11CFZTha"
      },
      "source": [
        "Criando um df com o dict de cima"
      ]
    },
    {
      "cell_type": "code",
      "metadata": {
        "id": "jR3DNWFCX0W3"
      },
      "source": [
        "outcomesDF=pd.DataFrame(data=dados,index=['valor'])"
      ],
      "execution_count": null,
      "outputs": []
    },
    {
      "cell_type": "code",
      "metadata": {
        "id": "UxG1gQ8IX83P"
      },
      "source": [
        "outcomesDF"
      ],
      "execution_count": null,
      "outputs": []
    },
    {
      "cell_type": "code",
      "metadata": {
        "id": "W-Jlubx9m7nr"
      },
      "source": [
        "outcomesDF.columns"
      ],
      "execution_count": null,
      "outputs": []
    },
    {
      "cell_type": "markdown",
      "metadata": {
        "id": "X9zuNQvOZZM3"
      },
      "source": [
        "Plotagem dos dados."
      ]
    },
    {
      "cell_type": "code",
      "metadata": {
        "id": "cg8JmMhqnPFa"
      },
      "source": [
        "fig = go.Figure(data=[\n",
        "    go.Bar(name='adotados', x=['adotados'], y=outcomesDF.adotados),\n",
        "    go.Bar(name='transferido', x=['transferidos'], y=outcomesDF.transferidos),\n",
        "    go.Bar(name='Rtn_dono', x=['Rtn_dono'], y=outcomesDF.Rtn_dono), \n",
        "    go.Bar(name='mortos_ou_eutanasia', x=['mortos_ou_eutanasia'], y=outcomesDF.mortos_ou_eutanasia),\n",
        "    go.Bar(name='rtn_adocao', x=['rtn_adocao'], y=outcomesDF.rtn_adocao),\n",
        "    go.Bar(name='Adotadisponiveisdos', x=['disponiveis'], y=outcomesDF.disponiveis),\n",
        "    go.Bar(name='realocados', x=['realocados'], y=outcomesDF.realocados),\n",
        "    \n",
        "])\n",
        "# Change the bar mode\n",
        "fig.update_layout(barmode='group')\n",
        "fig.show()"
      ],
      "execution_count": null,
      "outputs": []
    },
    {
      "cell_type": "code",
      "metadata": {
        "id": "fO_iHr6zpnS9"
      },
      "source": [
        "percentis = (df['Outcome Type'].value_counts()/df.shape[0])*100\n",
        "percentis\n"
      ],
      "execution_count": null,
      "outputs": []
    },
    {
      "cell_type": "code",
      "metadata": {
        "id": "dNDMziEUqPL9"
      },
      "source": [
        "labels = ['Adotados', 'Transferidos', 'Rtn_dono',' Eutanasia','Mortos','Rtn Adocao','Disponiveis para adoção','Perdidos','Realocados']\n",
        "values = df['Outcome Type'].value_counts()\n",
        "\n",
        "fig = go.Figure(data=[go.Pie(labels=labels, values=values, textinfo='percent', insidetextorientation='radial')])\n",
        "fig.show()"
      ],
      "execution_count": null,
      "outputs": []
    },
    {
      "cell_type": "markdown",
      "metadata": {
        "id": "6peL_as8pYHJ"
      },
      "source": [
        "### Observando os gráficos , vemos que o abrigo está fazendo com que a maioria dos animais saia do abrigo com vida e com um dono."
      ]
    },
    {
      "cell_type": "markdown",
      "metadata": {
        "id": "sJ6nPnz9zXLn"
      },
      "source": [
        "## Qual raça mais adotada de gatos e cachorros?"
      ]
    },
    {
      "cell_type": "code",
      "metadata": {
        "id": "lNEh9AKKv850"
      },
      "source": [
        "dogs = adotados[adotados['Animal Type']=='Dog']\n",
        "(dogs['Breed'].value_counts()/dogs.shape[0])*100"
      ],
      "execution_count": null,
      "outputs": []
    },
    {
      "cell_type": "code",
      "metadata": {
        "id": "LTEQE_FHwxSC"
      },
      "source": [
        "cats = adotados[adotados['Animal Type']=='Cat']\n",
        "(cats['Breed'].value_counts()/cats.shape[0])*100"
      ],
      "execution_count": null,
      "outputs": []
    },
    {
      "cell_type": "markdown",
      "metadata": {
        "id": "nubMQmeMzg_l"
      },
      "source": [
        "### Entre os cachorros a disputa é bem acirrada entre o labrador com **10,85%** de adotados contra o o Pit bull Mix com **10,31%**. Já nos gatos temos uma vasta diferença entre o primeiro e o segundo colocado com **68,72%** o primeiro colocado é Domestic Shorthair Mix é a raça de gato mais adotada e  em segundo lugar com **11,23%** é o Domestic Shorthair."
      ]
    },
    {
      "cell_type": "markdown",
      "metadata": {
        "id": "v7I73t2ItTGd"
      },
      "source": [
        "## Feature Eng."
      ]
    },
    {
      "cell_type": "markdown",
      "metadata": {
        "id": "5_RKJ22otZfA"
      },
      "source": [
        "### Nesta parte vamos criar uma nova feature para categoria de adotados, para possamos fazer uma contagem de adotados."
      ]
    },
    {
      "cell_type": "code",
      "metadata": {
        "id": "yPwLzE51oTD7"
      },
      "source": [
        "adotados['outcomeCount']=1\n"
      ],
      "execution_count": null,
      "outputs": []
    },
    {
      "cell_type": "code",
      "metadata": {
        "id": "_v9uQWx2tz64"
      },
      "source": [
        "adotados.head()"
      ],
      "execution_count": null,
      "outputs": []
    },
    {
      "cell_type": "markdown",
      "metadata": {
        "id": "MLkSAqSJuQpk"
      },
      "source": [
        "### Com isso agora conseguimos fazer nossa contagem, agora separar apenas as partes que nos interessa por enquanto. Vamos criar um novo df com nome  *adotTS* onde irá conter apenas a data e nossa nova feature outcomeCount.Nesse df se tornará uma serie temporal, onde o DataTime será nosso index"
      ]
    },
    {
      "cell_type": "code",
      "metadata": {
        "id": "7seeBxBNt_89"
      },
      "source": [
        "adotTS = adotados[['DateTime','outcomeCount']]\n",
        "adotTS = adotTS.set_index('DateTime').sort_index()\n",
        "adotTS.head()"
      ],
      "execution_count": null,
      "outputs": []
    },
    {
      "cell_type": "code",
      "metadata": {
        "id": "I56SM-2aw3J8"
      },
      "source": [
        "adotados.index"
      ],
      "execution_count": null,
      "outputs": []
    },
    {
      "cell_type": "code",
      "metadata": {
        "id": "u8gDiC48vMo0"
      },
      "source": [
        "#grafico Diario\n",
        "fig, ax = plt.subplots(figsize=(15,7.5))\n",
        "adotTS.resample('D').sum().plot(ax=ax)\n",
        "plt.show()"
      ],
      "execution_count": null,
      "outputs": []
    },
    {
      "cell_type": "markdown",
      "metadata": {
        "id": "EaZBFqwjyzT8"
      },
      "source": [
        "Com o grafico diario fica muito conturbado tirar alguma informação."
      ]
    },
    {
      "cell_type": "code",
      "metadata": {
        "id": "BVrqDRbfyzCU"
      },
      "source": [
        ""
      ],
      "execution_count": null,
      "outputs": []
    },
    {
      "cell_type": "code",
      "metadata": {
        "id": "dfttNMmZyg6S"
      },
      "source": [
        "#Grafico mensal\n",
        "fig, ax = plt.subplots(figsize=(15,7.5))\n",
        "adotTS.resample('M').sum().plot(ax=ax)\n",
        "plt.show()"
      ],
      "execution_count": null,
      "outputs": []
    },
    {
      "cell_type": "code",
      "metadata": {
        "id": "3z5LtBn8yl_7"
      },
      "source": [
        "#Grafico anual\n",
        "fig, ax = plt.subplots(figsize=(15,7.5))\n",
        "adotTS.resample('Y').sum().plot(ax=ax)\n",
        "plt.show()"
      ],
      "execution_count": null,
      "outputs": []
    },
    {
      "cell_type": "code",
      "metadata": {
        "id": "taFnCxHXyH1N"
      },
      "source": [
        ""
      ],
      "execution_count": null,
      "outputs": []
    },
    {
      "cell_type": "markdown",
      "metadata": {
        "id": "GkQmkUtjzpT7"
      },
      "source": [
        "## Modelos com o Prophet\n",
        "\n",
        "Primeiro definimos um objeto *Prophet()* e depois para treinar usamos\n",
        "o metodo *fit()* no metodo passaremos o nosso DF que ter configurado a primeira coluna deve ter o nome **ds** e ira conter os horários de data. A segunda coluna deve ter o nome  **y** e deve ter os valores..\n",
        "\n",
        "\n",
        "~~~Python\n",
        "modelo = Prophet()\n",
        "modelo.fit(df)\n",
        "~~~"
      ]
    },
    {
      "cell_type": "markdown",
      "metadata": {
        "id": "0e57j9Up1czE"
      },
      "source": [
        "### Modelo Diario."
      ]
    },
    {
      "cell_type": "code",
      "metadata": {
        "id": "ihzYKVemiRbK"
      },
      "source": [
        "\"\"\"\n",
        "\n",
        "        Modificação do Dataset.\n",
        "\n",
        "\n",
        "\"\"\"\n",
        "\n",
        "prophet_df = adotTS.resample('D').sum().reset_index().rename(columns = {'DateTime':'ds', 'outcomeCount':'y'})"
      ],
      "execution_count": null,
      "outputs": []
    },
    {
      "cell_type": "code",
      "metadata": {
        "id": "ZILbM7QjiuB1"
      },
      "source": [
        "prophet_df"
      ],
      "execution_count": null,
      "outputs": []
    },
    {
      "cell_type": "code",
      "metadata": {
        "id": "xqR9_c6AzxA_"
      },
      "source": [
        "\"\"\"\n",
        "\n",
        "    Criação, treino e plotagem de componentes nas próximas 3 células.\n",
        "\n",
        "\"\"\"\n",
        "model = Prophet()\n",
        "model.add_country_holidays(country_name='US')\n",
        "model.fit(prophet_df)\n",
        "\n",
        "#periodo da previsão\n",
        "future = model.make_future_dataframe(periods = 365)\n",
        "\n",
        "#realizar a previsão para o período estabelecido\n",
        "forecast = model.predict(future)"
      ],
      "execution_count": null,
      "outputs": []
    },
    {
      "cell_type": "code",
      "metadata": {
        "id": "Rb84IycGjVOs"
      },
      "source": [
        "model.plot(forecast, xlabel='Data', ylabel='Adoções');"
      ],
      "execution_count": null,
      "outputs": []
    },
    {
      "cell_type": "code",
      "metadata": {
        "id": "eymFe9e6jcw7"
      },
      "source": [
        "# separar os componentes do modelo\n",
        "model.plot_components(forecast);"
      ],
      "execution_count": null,
      "outputs": []
    },
    {
      "cell_type": "markdown",
      "metadata": {
        "id": "ZcKuKCuxkYec"
      },
      "source": [
        "Vemos que nos sábados tem uma taxa mais alta de adoções, e as taxas mais baixas é na , e o mês que mais tem adoção é um julho."
      ]
    },
    {
      "cell_type": "markdown",
      "metadata": {
        "id": "HiZHOK_hlIql"
      },
      "source": [
        "### Modelo semanal"
      ]
    },
    {
      "cell_type": "code",
      "metadata": {
        "id": "BDgDq7w0joAi"
      },
      "source": [
        "prophet_df2 = adotTS.resample('W').sum().reset_index().rename(columns = {'DateTime':'ds', 'outcomeCount':'y'})\n",
        "model2 = Prophet()\n",
        "model2.add_country_holidays(country_name='US')\n",
        "model2.fit(prophet_df2)\n",
        "\n",
        "#periodo da previsão\n",
        "future2 = model2.make_future_dataframe(periods = 52)\n",
        "\n",
        "#realizar a previsão para o período estabelecido\n",
        "forecast2 = model2.predict(future2)"
      ],
      "execution_count": null,
      "outputs": []
    },
    {
      "cell_type": "code",
      "metadata": {
        "id": "cVBn3n1alhLd"
      },
      "source": [
        "# visualizar o gráfico com as previsões\n",
        "model2.plot(forecast2, xlabel='Data', ylabel='Adoções');"
      ],
      "execution_count": null,
      "outputs": []
    },
    {
      "cell_type": "code",
      "metadata": {
        "id": "bOVRlJTGlwT9"
      },
      "source": [
        "# separar os componentes do modelo\n",
        "model2.plot_components(forecast2);"
      ],
      "execution_count": null,
      "outputs": []
    },
    {
      "cell_type": "markdown",
      "metadata": {
        "id": "pZm4pKdamjJy"
      },
      "source": [
        "# Avaliação dos modelos"
      ]
    },
    {
      "cell_type": "markdown",
      "metadata": {
        "id": "StpSoXTImnQ6"
      },
      "source": [
        "## Modelo diario"
      ]
    },
    {
      "cell_type": "code",
      "metadata": {
        "id": "dstW3_2olxGM"
      },
      "source": [
        "from fbprophet.diagnostics import cross_validation\n",
        "df_cv = cross_validation(model, horizon = '365 days')\n",
        "df_cv.head()"
      ],
      "execution_count": null,
      "outputs": []
    },
    {
      "cell_type": "code",
      "metadata": {
        "id": "YPGO3qxamrm5"
      },
      "source": [
        "from fbprophet.diagnostics import performance_metrics\n",
        "df_p = performance_metrics(df_cv)\n",
        "df_p.head()"
      ],
      "execution_count": null,
      "outputs": []
    },
    {
      "cell_type": "code",
      "metadata": {
        "id": "DoDLJxz1m8d4"
      },
      "source": [
        "from fbprophet.plot import plot_cross_validation_metric\n",
        "fig = plot_cross_validation_metric(df_cv, metric='mdape')"
      ],
      "execution_count": null,
      "outputs": []
    },
    {
      "cell_type": "code",
      "metadata": {
        "id": "tJCEigGanHan"
      },
      "source": [
        "fig = plot_cross_validation_metric(df_cv, metric='mae')"
      ],
      "execution_count": null,
      "outputs": []
    },
    {
      "cell_type": "code",
      "metadata": {
        "id": "ERFyikgvnMiv"
      },
      "source": [
        "fig = plot_cross_validation_metric(df_cv, metric='rmse')"
      ],
      "execution_count": null,
      "outputs": []
    },
    {
      "cell_type": "code",
      "metadata": {
        "id": "LDnrWRkJnt8S"
      },
      "source": [
        "fig = plot_cross_validation_metric(df_cv, metric='mse')"
      ],
      "execution_count": null,
      "outputs": []
    },
    {
      "cell_type": "code",
      "metadata": {
        "id": "GnSz16aBnxcd"
      },
      "source": [
        "fig = plot_cross_validation_metric(df_cv, metric='coverage')"
      ],
      "execution_count": null,
      "outputs": []
    },
    {
      "cell_type": "code",
      "metadata": {
        "id": "z6xqZH9EoA08"
      },
      "source": [
        ""
      ],
      "execution_count": null,
      "outputs": []
    },
    {
      "cell_type": "markdown",
      "metadata": {
        "id": "a986Wp7voGyv"
      },
      "source": [
        "## Modelo semanal"
      ]
    },
    {
      "cell_type": "code",
      "metadata": {
        "id": "tRKvy88joIzx"
      },
      "source": [
        "from fbprophet.diagnostics import cross_validation\n",
        "df_cv2 = cross_validation(model2, horizon = '365 days')\n",
        "\n",
        "from fbprophet.diagnostics import performance_metrics\n",
        "df_p2 = performance_metrics(df_cv2)\n",
        "\n",
        ";"
      ],
      "execution_count": null,
      "outputs": []
    },
    {
      "cell_type": "code",
      "metadata": {
        "id": "xd2MsapOokUK"
      },
      "source": [
        "df_p2.head()"
      ],
      "execution_count": null,
      "outputs": []
    },
    {
      "cell_type": "code",
      "metadata": {
        "id": "otuluFnGp1ej"
      },
      "source": [
        "df_p2.tail()"
      ],
      "execution_count": null,
      "outputs": []
    },
    {
      "cell_type": "code",
      "metadata": {
        "id": "GPrLQF3QopB7"
      },
      "source": [
        "from fbprophet.plot import plot_cross_validation_metric\n",
        "plot_cross_validation_metric(df_cv2, metric='mape');"
      ],
      "execution_count": null,
      "outputs": []
    },
    {
      "cell_type": "code",
      "metadata": {
        "id": "ng4sidh0oV5s"
      },
      "source": [
        "plot_cross_validation_metric(df_cv2, metric='mse');"
      ],
      "execution_count": null,
      "outputs": []
    },
    {
      "cell_type": "code",
      "metadata": {
        "id": "j1oHfQVPocJb"
      },
      "source": [
        "plot_cross_validation_metric(df_cv2, metric='mae');"
      ],
      "execution_count": null,
      "outputs": []
    },
    {
      "cell_type": "code",
      "metadata": {
        "id": "z5qhX9xAoeLt"
      },
      "source": [
        "plot_cross_validation_metric(df_cv2, metric='mdape');"
      ],
      "execution_count": null,
      "outputs": []
    },
    {
      "cell_type": "code",
      "metadata": {
        "id": "MY_BQp2royZp"
      },
      "source": [
        "plot_cross_validation_metric(df_cv2, metric='rmse');"
      ],
      "execution_count": null,
      "outputs": []
    }
  ]
}