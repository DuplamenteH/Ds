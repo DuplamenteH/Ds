{
  "nbformat": 4,
  "nbformat_minor": 0,
  "metadata": {
    "colab": {
      "name": "Aula1",
      "provenance": [],
      "collapsed_sections": [],
      "authorship_tag": "ABX9TyPkL5AwC9Awdpy9BbNm4txi",
      "include_colab_link": true
    },
    "kernelspec": {
      "name": "python3",
      "display_name": "Python 3"
    }
  },
  "cells": [
    {
      "cell_type": "markdown",
      "metadata": {
        "id": "view-in-github",
        "colab_type": "text"
      },
      "source": [
        "<a href=\"https://colab.research.google.com/github/DuplamenteH/Ds/blob/master/Aula1.ipynb\" target=\"_parent\"><img src=\"https://colab.research.google.com/assets/colab-badge.svg\" alt=\"Open In Colab\"/></a>"
      ]
    },
    {
      "cell_type": "markdown",
      "metadata": {
        "id": "rFgLNulrPJcl",
        "colab_type": "text"
      },
      "source": [
        "# Analisando as Notas em geral"
      ]
    },
    {
      "cell_type": "code",
      "metadata": {
        "id": "KYPyyjiNAxbC",
        "colab_type": "code",
        "outputId": "a1e6cb8c-71a1-43eb-df3f-87ebae960144",
        "colab": {
          "base_uri": "https://localhost:8080/",
          "height": 204
        }
      },
      "source": [
        "import pandas as pd\n",
        "data = pd.read_csv('ratings.csv')\n",
        "data.head(5)"
      ],
      "execution_count": 1,
      "outputs": [
        {
          "output_type": "execute_result",
          "data": {
            "text/html": [
              "<div>\n",
              "<style scoped>\n",
              "    .dataframe tbody tr th:only-of-type {\n",
              "        vertical-align: middle;\n",
              "    }\n",
              "\n",
              "    .dataframe tbody tr th {\n",
              "        vertical-align: top;\n",
              "    }\n",
              "\n",
              "    .dataframe thead th {\n",
              "        text-align: right;\n",
              "    }\n",
              "</style>\n",
              "<table border=\"1\" class=\"dataframe\">\n",
              "  <thead>\n",
              "    <tr style=\"text-align: right;\">\n",
              "      <th></th>\n",
              "      <th>userId</th>\n",
              "      <th>movieId</th>\n",
              "      <th>rating</th>\n",
              "      <th>timestamp</th>\n",
              "    </tr>\n",
              "  </thead>\n",
              "  <tbody>\n",
              "    <tr>\n",
              "      <th>0</th>\n",
              "      <td>1</td>\n",
              "      <td>1</td>\n",
              "      <td>4.0</td>\n",
              "      <td>964982703</td>\n",
              "    </tr>\n",
              "    <tr>\n",
              "      <th>1</th>\n",
              "      <td>1</td>\n",
              "      <td>3</td>\n",
              "      <td>4.0</td>\n",
              "      <td>964981247</td>\n",
              "    </tr>\n",
              "    <tr>\n",
              "      <th>2</th>\n",
              "      <td>1</td>\n",
              "      <td>6</td>\n",
              "      <td>4.0</td>\n",
              "      <td>964982224</td>\n",
              "    </tr>\n",
              "    <tr>\n",
              "      <th>3</th>\n",
              "      <td>1</td>\n",
              "      <td>47</td>\n",
              "      <td>5.0</td>\n",
              "      <td>964983815</td>\n",
              "    </tr>\n",
              "    <tr>\n",
              "      <th>4</th>\n",
              "      <td>1</td>\n",
              "      <td>50</td>\n",
              "      <td>5.0</td>\n",
              "      <td>964982931</td>\n",
              "    </tr>\n",
              "  </tbody>\n",
              "</table>\n",
              "</div>"
            ],
            "text/plain": [
              "   userId  movieId  rating  timestamp\n",
              "0       1        1     4.0  964982703\n",
              "1       1        3     4.0  964981247\n",
              "2       1        6     4.0  964982224\n",
              "3       1       47     5.0  964983815\n",
              "4       1       50     5.0  964982931"
            ]
          },
          "metadata": {
            "tags": []
          },
          "execution_count": 1
        }
      ]
    },
    {
      "cell_type": "code",
      "metadata": {
        "id": "4IpA4lg_C_uL",
        "colab_type": "code",
        "outputId": "f6dc603c-2bc8-43b9-8d12-a6f87b8ebe3e",
        "colab": {
          "base_uri": "https://localhost:8080/",
          "height": 34
        }
      },
      "source": [
        "data['rating'].unique()"
      ],
      "execution_count": 2,
      "outputs": [
        {
          "output_type": "execute_result",
          "data": {
            "text/plain": [
              "array([4. , 5. , 3. , 2. , 1. , 4.5, 3.5, 2.5, 0.5, 1.5])"
            ]
          },
          "metadata": {
            "tags": []
          },
          "execution_count": 2
        }
      ]
    },
    {
      "cell_type": "code",
      "metadata": {
        "id": "w1FJUIDHEnXP",
        "colab_type": "code",
        "outputId": "f63283a1-5bc6-4660-e1e7-c74f4f5f215d",
        "colab": {
          "base_uri": "https://localhost:8080/",
          "height": 204
        }
      },
      "source": [
        "data['rating'].value_counts()"
      ],
      "execution_count": 3,
      "outputs": [
        {
          "output_type": "execute_result",
          "data": {
            "text/plain": [
              "4.0    26818\n",
              "3.0    20047\n",
              "5.0    13211\n",
              "3.5    13136\n",
              "4.5     8551\n",
              "2.0     7551\n",
              "2.5     5550\n",
              "1.0     2811\n",
              "1.5     1791\n",
              "0.5     1370\n",
              "Name: rating, dtype: int64"
            ]
          },
          "metadata": {
            "tags": []
          },
          "execution_count": 3
        }
      ]
    },
    {
      "cell_type": "code",
      "metadata": {
        "id": "THd7MnMIE0Jx",
        "colab_type": "code",
        "outputId": "9fbe325b-c475-465f-98ef-bad8f379efec",
        "colab": {
          "base_uri": "https://localhost:8080/",
          "height": 34
        }
      },
      "source": [
        "data['rating'].mean()\n",
        " "
      ],
      "execution_count": 4,
      "outputs": [
        {
          "output_type": "execute_result",
          "data": {
            "text/plain": [
              "3.501556983616962"
            ]
          },
          "metadata": {
            "tags": []
          },
          "execution_count": 4
        }
      ]
    },
    {
      "cell_type": "code",
      "metadata": {
        "id": "2aVH3SLuGAQO",
        "colab_type": "code",
        "outputId": "3d28880e-7cf7-4dbb-a8b4-f1f4deee7045",
        "colab": {
          "base_uri": "https://localhost:8080/",
          "height": 34
        }
      },
      "source": [
        "data['rating'].median()  "
      ],
      "execution_count": 5,
      "outputs": [
        {
          "output_type": "execute_result",
          "data": {
            "text/plain": [
              "3.5"
            ]
          },
          "metadata": {
            "tags": []
          },
          "execution_count": 5
        }
      ]
    },
    {
      "cell_type": "code",
      "metadata": {
        "id": "X7_BdCQTGKRr",
        "colab_type": "code",
        "outputId": "a49031bf-678f-432f-abda-5c38fe2018ed",
        "colab": {
          "base_uri": "https://localhost:8080/",
          "height": 282
        }
      },
      "source": [
        "data.rating.plot(kind='hist')"
      ],
      "execution_count": 6,
      "outputs": [
        {
          "output_type": "execute_result",
          "data": {
            "text/plain": [
              "<matplotlib.axes._subplots.AxesSubplot at 0x7f2bb20a57f0>"
            ]
          },
          "metadata": {
            "tags": []
          },
          "execution_count": 6
        },
        {
          "output_type": "display_data",
          "data": {
            "image/png": "[encoded data removed]",
            "text/plain": [
              "<Figure size 432x288 with 1 Axes>"
            ]
          },
          "metadata": {
            "tags": []
          }
        }
      ]
    },
    {
      "cell_type": "code",
      "metadata": {
        "id": "kLYR-a3BJguM",
        "colab_type": "code",
        "outputId": "64a733bc-5d06-447b-f305-e1be47de7288",
        "colab": {
          "base_uri": "https://localhost:8080/",
          "height": 170
        }
      },
      "source": [
        "data.rating.describe()"
      ],
      "execution_count": 7,
      "outputs": [
        {
          "output_type": "execute_result",
          "data": {
            "text/plain": [
              "count    100836.000000\n",
              "mean          3.501557\n",
              "std           1.042529\n",
              "min           0.500000\n",
              "25%           3.000000\n",
              "50%           3.500000\n",
              "75%           4.000000\n",
              "max           5.000000\n",
              "Name: rating, dtype: float64"
            ]
          },
          "metadata": {
            "tags": []
          },
          "execution_count": 7
        }
      ]
    },
    {
      "cell_type": "code",
      "metadata": {
        "id": "5H03RCrnKE0S",
        "colab_type": "code",
        "outputId": "bc222dc0-a359-46c0-e91d-fdb193cdfd53",
        "colab": {
          "base_uri": "https://localhost:8080/",
          "height": 296
        }
      },
      "source": [
        "import seaborn as sns\n",
        "\n",
        "sns.boxplot(data.rating)"
      ],
      "execution_count": 8,
      "outputs": [
        {
          "output_type": "execute_result",
          "data": {
            "text/plain": [
              "<matplotlib.axes._subplots.AxesSubplot at 0x7f2ba7400e80>"
            ]
          },
          "metadata": {
            "tags": []
          },
          "execution_count": 8
        },
        {
          "output_type": "display_data",
          "data": {
            "image/png": "[encoded data removed]",
            "text/plain": [
              "<Figure size 432x288 with 1 Axes>"
            ]
          },
          "metadata": {
            "tags": []
          }
        }
      ]
    },
    {
      "cell_type": "code",
      "metadata": {
        "id": "5dtHdkrbKlNl",
        "colab_type": "code",
        "colab": {}
      },
      "source": [
        "data.columns = [\"usuarioId\", \"filmeId\", \"nota\", \"momento\"]"
      ],
      "execution_count": 0,
      "outputs": []
    },
    {
      "cell_type": "code",
      "metadata": {
        "id": "fgTb_K4fLLlk",
        "colab_type": "code",
        "outputId": "87ac3632-1838-476b-b137-d0b365e29f0b",
        "colab": {
          "base_uri": "https://localhost:8080/",
          "height": 359
        }
      },
      "source": [
        "data.head(10)"
      ],
      "execution_count": 10,
      "outputs": [
        {
          "output_type": "execute_result",
          "data": {
            "text/html": [
              "<div>\n",
              "<style scoped>\n",
              "    .dataframe tbody tr th:only-of-type {\n",
              "        vertical-align: middle;\n",
              "    }\n",
              "\n",
              "    .dataframe tbody tr th {\n",
              "        vertical-align: top;\n",
              "    }\n",
              "\n",
              "    .dataframe thead th {\n",
              "        text-align: right;\n",
              "    }\n",
              "</style>\n",
              "<table border=\"1\" class=\"dataframe\">\n",
              "  <thead>\n",
              "    <tr style=\"text-align: right;\">\n",
              "      <th></th>\n",
              "      <th>usuarioId</th>\n",
              "      <th>filmeId</th>\n",
              "      <th>nota</th>\n",
              "      <th>momento</th>\n",
              "    </tr>\n",
              "  </thead>\n",
              "  <tbody>\n",
              "    <tr>\n",
              "      <th>0</th>\n",
              "      <td>1</td>\n",
              "      <td>1</td>\n",
              "      <td>4.0</td>\n",
              "      <td>964982703</td>\n",
              "    </tr>\n",
              "    <tr>\n",
              "      <th>1</th>\n",
              "      <td>1</td>\n",
              "      <td>3</td>\n",
              "      <td>4.0</td>\n",
              "      <td>964981247</td>\n",
              "    </tr>\n",
              "    <tr>\n",
              "      <th>2</th>\n",
              "      <td>1</td>\n",
              "      <td>6</td>\n",
              "      <td>4.0</td>\n",
              "      <td>964982224</td>\n",
              "    </tr>\n",
              "    <tr>\n",
              "      <th>3</th>\n",
              "      <td>1</td>\n",
              "      <td>47</td>\n",
              "      <td>5.0</td>\n",
              "      <td>964983815</td>\n",
              "    </tr>\n",
              "    <tr>\n",
              "      <th>4</th>\n",
              "      <td>1</td>\n",
              "      <td>50</td>\n",
              "      <td>5.0</td>\n",
              "      <td>964982931</td>\n",
              "    </tr>\n",
              "    <tr>\n",
              "      <th>5</th>\n",
              "      <td>1</td>\n",
              "      <td>70</td>\n",
              "      <td>3.0</td>\n",
              "      <td>964982400</td>\n",
              "    </tr>\n",
              "    <tr>\n",
              "      <th>6</th>\n",
              "      <td>1</td>\n",
              "      <td>101</td>\n",
              "      <td>5.0</td>\n",
              "      <td>964980868</td>\n",
              "    </tr>\n",
              "    <tr>\n",
              "      <th>7</th>\n",
              "      <td>1</td>\n",
              "      <td>110</td>\n",
              "      <td>4.0</td>\n",
              "      <td>964982176</td>\n",
              "    </tr>\n",
              "    <tr>\n",
              "      <th>8</th>\n",
              "      <td>1</td>\n",
              "      <td>151</td>\n",
              "      <td>5.0</td>\n",
              "      <td>964984041</td>\n",
              "    </tr>\n",
              "    <tr>\n",
              "      <th>9</th>\n",
              "      <td>1</td>\n",
              "      <td>157</td>\n",
              "      <td>5.0</td>\n",
              "      <td>964984100</td>\n",
              "    </tr>\n",
              "  </tbody>\n",
              "</table>\n",
              "</div>"
            ],
            "text/plain": [
              "   usuarioId  filmeId  nota    momento\n",
              "0          1        1   4.0  964982703\n",
              "1          1        3   4.0  964981247\n",
              "2          1        6   4.0  964982224\n",
              "3          1       47   5.0  964983815\n",
              "4          1       50   5.0  964982931\n",
              "5          1       70   3.0  964982400\n",
              "6          1      101   5.0  964980868\n",
              "7          1      110   4.0  964982176\n",
              "8          1      151   5.0  964984041\n",
              "9          1      157   5.0  964984100"
            ]
          },
          "metadata": {
            "tags": []
          },
          "execution_count": 10
        }
      ]
    },
    {
      "cell_type": "markdown",
      "metadata": {
        "id": "-zqgjA2APWEk",
        "colab_type": "text"
      },
      "source": [
        "# Carregando os Filmes"
      ]
    },
    {
      "cell_type": "code",
      "metadata": {
        "id": "10xJIECZLrAp",
        "colab_type": "code",
        "outputId": "18a58c75-da7e-49df-c12c-51692b6b9cb9",
        "colab": {
          "base_uri": "https://localhost:8080/",
          "height": 204
        }
      },
      "source": [
        "filmes = pd.read_csv('movies.csv')\n",
        "filmes.columns=[\"idfilme\",\"titulo\",\"genero\"]\n",
        "filmes.head(5)"
      ],
      "execution_count": 11,
      "outputs": [
        {
          "output_type": "execute_result",
          "data": {
            "text/html": [
              "<div>\n",
              "<style scoped>\n",
              "    .dataframe tbody tr th:only-of-type {\n",
              "        vertical-align: middle;\n",
              "    }\n",
              "\n",
              "    .dataframe tbody tr th {\n",
              "        vertical-align: top;\n",
              "    }\n",
              "\n",
              "    .dataframe thead th {\n",
              "        text-align: right;\n",
              "    }\n",
              "</style>\n",
              "<table border=\"1\" class=\"dataframe\">\n",
              "  <thead>\n",
              "    <tr style=\"text-align: right;\">\n",
              "      <th></th>\n",
              "      <th>idfilme</th>\n",
              "      <th>titulo</th>\n",
              "      <th>genero</th>\n",
              "    </tr>\n",
              "  </thead>\n",
              "  <tbody>\n",
              "    <tr>\n",
              "      <th>0</th>\n",
              "      <td>1</td>\n",
              "      <td>Toy Story (1995)</td>\n",
              "      <td>Adventure|Animation|Children|Comedy|Fantasy</td>\n",
              "    </tr>\n",
              "    <tr>\n",
              "      <th>1</th>\n",
              "      <td>2</td>\n",
              "      <td>Jumanji (1995)</td>\n",
              "      <td>Adventure|Children|Fantasy</td>\n",
              "    </tr>\n",
              "    <tr>\n",
              "      <th>2</th>\n",
              "      <td>3</td>\n",
              "      <td>Grumpier Old Men (1995)</td>\n",
              "      <td>Comedy|Romance</td>\n",
              "    </tr>\n",
              "    <tr>\n",
              "      <th>3</th>\n",
              "      <td>4</td>\n",
              "      <td>Waiting to Exhale (1995)</td>\n",
              "      <td>Comedy|Drama|Romance</td>\n",
              "    </tr>\n",
              "    <tr>\n",
              "      <th>4</th>\n",
              "      <td>5</td>\n",
              "      <td>Father of the Bride Part II (1995)</td>\n",
              "      <td>Comedy</td>\n",
              "    </tr>\n",
              "  </tbody>\n",
              "</table>\n",
              "</div>"
            ],
            "text/plain": [
              "   idfilme  ...                                       genero\n",
              "0        1  ...  Adventure|Animation|Children|Comedy|Fantasy\n",
              "1        2  ...                   Adventure|Children|Fantasy\n",
              "2        3  ...                               Comedy|Romance\n",
              "3        4  ...                         Comedy|Drama|Romance\n",
              "4        5  ...                                       Comedy\n",
              "\n",
              "[5 rows x 3 columns]"
            ]
          },
          "metadata": {
            "tags": []
          },
          "execution_count": 11
        }
      ]
    },
    {
      "cell_type": "markdown",
      "metadata": {
        "id": "ivCCevGYPcZG",
        "colab_type": "text"
      },
      "source": [
        "# Analisando as notas dos Filmes específicos \n"
      ]
    },
    {
      "cell_type": "code",
      "metadata": {
        "id": "5nj_ewcrNhnv",
        "colab_type": "code",
        "colab": {}
      },
      "source": [
        "dataToyStory=data.query(\"filmeId==1\")"
      ],
      "execution_count": 0,
      "outputs": []
    },
    {
      "cell_type": "code",
      "metadata": {
        "id": "dKwtNKbhOk9q",
        "colab_type": "code",
        "outputId": "a7061418-fa76-4bcd-9cfd-7d194e9cec26",
        "colab": {
          "base_uri": "https://localhost:8080/",
          "height": 34
        }
      },
      "source": [
        "dataToyStory.nota.mean()"
      ],
      "execution_count": 13,
      "outputs": [
        {
          "output_type": "execute_result",
          "data": {
            "text/plain": [
              "3.9209302325581397"
            ]
          },
          "metadata": {
            "tags": []
          },
          "execution_count": 13
        }
      ]
    },
    {
      "cell_type": "code",
      "metadata": {
        "id": "YjbpzFRQLvSb",
        "colab_type": "code",
        "colab": {
          "base_uri": "https://localhost:8080/",
          "height": 136
        },
        "outputId": "65fade16-dff7-4a79-f457-ad22a1b0d6ef"
      },
      "source": [
        "medias_por_filme=data.groupby(\"filmeId\").mean()[\"nota\"]\n",
        "medias_por_filme.head(5)"
      ],
      "execution_count": 14,
      "outputs": [
        {
          "output_type": "execute_result",
          "data": {
            "text/plain": [
              "filmeId\n",
              "1    3.920930\n",
              "2    3.431818\n",
              "3    3.259615\n",
              "4    2.357143\n",
              "5    3.071429\n",
              "Name: nota, dtype: float64"
            ]
          },
          "metadata": {
            "tags": []
          },
          "execution_count": 14
        }
      ]
    },
    {
      "cell_type": "code",
      "metadata": {
        "id": "cQJhiG5xN_-O",
        "colab_type": "code",
        "outputId": "70be0f3f-7ee7-4623-c83e-bbd3a848c3c7",
        "colab": {
          "base_uri": "https://localhost:8080/",
          "height": 282
        }
      },
      "source": [
        "medias_por_filme.plot(kind='hist')"
      ],
      "execution_count": 15,
      "outputs": [
        {
          "output_type": "execute_result",
          "data": {
            "text/plain": [
              "<matplotlib.axes._subplots.AxesSubplot at 0x7f2ba7066a90>"
            ]
          },
          "metadata": {
            "tags": []
          },
          "execution_count": 15
        },
        {
          "output_type": "display_data",
          "data": {
            "image/png": "[encoded data removed]",
            "text/plain": [
              "<Figure size 432x288 with 1 Axes>"
            ]
          },
          "metadata": {
            "tags": []
          }
        }
      ]
    },
    {
      "cell_type": "code",
      "metadata": {
        "id": "rs3gtJHxOjc7",
        "colab_type": "code",
        "outputId": "b542b929-df33-4672-848c-d9b85f01b818",
        "colab": {
          "base_uri": "https://localhost:8080/",
          "height": 595
        }
      },
      "source": [
        "import matplotlib.pyplot as plt\n",
        "\n",
        "plt.figure(figsize=(15,10))\n",
        "sns.boxplot(y=medias_por_filme)\n"
      ],
      "execution_count": 16,
      "outputs": [
        {
          "output_type": "execute_result",
          "data": {
            "text/plain": [
              "<matplotlib.axes._subplots.AxesSubplot at 0x7f2ba5d7cba8>"
            ]
          },
          "metadata": {
            "tags": []
          },
          "execution_count": 16
        },
        {
          "output_type": "display_data",
          "data": {
            "image/png": "[encoded data removed]",
            "text/plain": [
              "<Figure size 1080x720 with 1 Axes>"
            ]
          },
          "metadata": {
            "tags": []
          }
        }
      ]
    },
    {
      "cell_type": "code",
      "metadata": {
        "id": "bWildQ16Ost2",
        "colab_type": "code",
        "outputId": "acaa3548-3f42-43bf-8ea7-4010fc8fbf2c",
        "colab": {
          "base_uri": "https://localhost:8080/",
          "height": 170
        }
      },
      "source": [
        "medias_por_filme.describe()"
      ],
      "execution_count": 17,
      "outputs": [
        {
          "output_type": "execute_result",
          "data": {
            "text/plain": [
              "count    9724.000000\n",
              "mean        3.262448\n",
              "std         0.869874\n",
              "min         0.500000\n",
              "25%         2.800000\n",
              "50%         3.416667\n",
              "75%         3.911765\n",
              "max         5.000000\n",
              "Name: nota, dtype: float64"
            ]
          },
          "metadata": {
            "tags": []
          },
          "execution_count": 17
        }
      ]
    },
    {
      "cell_type": "code",
      "metadata": {
        "id": "hmRzFp47Pjgj",
        "colab_type": "code",
        "outputId": "a7c0db72-8f8a-430f-8415-3fda7c429572",
        "colab": {
          "base_uri": "https://localhost:8080/",
          "height": 514
        }
      },
      "source": [
        "plt.figure(figsize=(20,8))\n",
        "sns.distplot(medias_por_filme)"
      ],
      "execution_count": 18,
      "outputs": [
        {
          "output_type": "execute_result",
          "data": {
            "text/plain": [
              "<matplotlib.axes._subplots.AxesSubplot at 0x7f2ba5d47390>"
            ]
          },
          "metadata": {
            "tags": []
          },
          "execution_count": 18
        },
        {
          "output_type": "display_data",
          "data": {
            "image/png": "[encoded data removed]",
            "text/plain": [
              "<Figure size 1440x576 with 1 Axes>"
            ]
          },
          "metadata": {
            "tags": []
          }
        }
      ]
    },
    {
      "cell_type": "code",
      "metadata": {
        "id": "lZIcZKQaWqYy",
        "colab_type": "code",
        "outputId": "29a15222-6625-462c-836a-d915a3f9b61a",
        "colab": {
          "base_uri": "https://localhost:8080/",
          "height": 717
        }
      },
      "source": [
        "data_tmdb = pd.read_csv(\"tmdb_5000_movies.csv\")\n",
        "data_tmdb.head()"
      ],
      "execution_count": 19,
      "outputs": [
        {
          "output_type": "execute_result",
          "data": {
            "text/html": [
              "<div>\n",
              "<style scoped>\n",
              "    .dataframe tbody tr th:only-of-type {\n",
              "        vertical-align: middle;\n",
              "    }\n",
              "\n",
              "    .dataframe tbody tr th {\n",
              "        vertical-align: top;\n",
              "    }\n",
              "\n",
              "    .dataframe thead th {\n",
              "        text-align: right;\n",
              "    }\n",
              "</style>\n",
              "<table border=\"1\" class=\"dataframe\">\n",
              "  <thead>\n",
              "    <tr style=\"text-align: right;\">\n",
              "      <th></th>\n",
              "      <th>budget</th>\n",
              "      <th>genres</th>\n",
              "      <th>homepage</th>\n",
              "      <th>id</th>\n",
              "      <th>keywords</th>\n",
              "      <th>original_language</th>\n",
              "      <th>original_title</th>\n",
              "      <th>overview</th>\n",
              "      <th>popularity</th>\n",
              "      <th>production_companies</th>\n",
              "      <th>production_countries</th>\n",
              "      <th>release_date</th>\n",
              "      <th>revenue</th>\n",
              "      <th>runtime</th>\n",
              "      <th>spoken_languages</th>\n",
              "      <th>status</th>\n",
              "      <th>tagline</th>\n",
              "      <th>title</th>\n",
              "      <th>vote_average</th>\n",
              "      <th>vote_count</th>\n",
              "    </tr>\n",
              "  </thead>\n",
              "  <tbody>\n",
              "    <tr>\n",
              "      <th>0</th>\n",
              "      <td>237000000</td>\n",
              "      <td>[{\"id\": 28, \"name\": \"Action\"}, {\"id\": 12, \"nam...</td>\n",
              "      <td>http://www.avatarmovie.com/</td>\n",
              "      <td>19995</td>\n",
              "      <td>[{\"id\": 1463, \"name\": \"culture clash\"}, {\"id\":...</td>\n",
              "      <td>en</td>\n",
              "      <td>Avatar</td>\n",
              "      <td>In the 22nd century, a paraplegic Marine is di...</td>\n",
              "      <td>150.437577</td>\n",
              "      <td>[{\"name\": \"Ingenious Film Partners\", \"id\": 289...</td>\n",
              "      <td>[{\"iso_3166_1\": \"US\", \"name\": \"United States o...</td>\n",
              "      <td>2009-12-10</td>\n",
              "      <td>2787965087</td>\n",
              "      <td>162.0</td>\n",
              "      <td>[{\"iso_639_1\": \"en\", \"name\": \"English\"}, {\"iso...</td>\n",
              "      <td>Released</td>\n",
              "      <td>Enter the World of Pandora.</td>\n",
              "      <td>Avatar</td>\n",
              "      <td>7.2</td>\n",
              "      <td>11800</td>\n",
              "    </tr>\n",
              "    <tr>\n",
              "      <th>1</th>\n",
              "      <td>300000000</td>\n",
              "      <td>[{\"id\": 12, \"name\": \"Adventure\"}, {\"id\": 14, \"...</td>\n",
              "      <td>http://disney.go.com/disneypictures/pirates/</td>\n",
              "      <td>285</td>\n",
              "      <td>[{\"id\": 270, \"name\": \"ocean\"}, {\"id\": 726, \"na...</td>\n",
              "      <td>en</td>\n",
              "      <td>Pirates of the Caribbean: At World's End</td>\n",
              "      <td>Captain Barbossa, long believed to be dead, ha...</td>\n",
              "      <td>139.082615</td>\n",
              "      <td>[{\"name\": \"Walt Disney Pictures\", \"id\": 2}, {\"...</td>\n",
              "      <td>[{\"iso_3166_1\": \"US\", \"name\": \"United States o...</td>\n",
              "      <td>2007-05-19</td>\n",
              "      <td>961000000</td>\n",
              "      <td>169.0</td>\n",
              "      <td>[{\"iso_639_1\": \"en\", \"name\": \"English\"}]</td>\n",
              "      <td>Released</td>\n",
              "      <td>At the end of the world, the adventure begins.</td>\n",
              "      <td>Pirates of the Caribbean: At World's End</td>\n",
              "      <td>6.9</td>\n",
              "      <td>4500</td>\n",
              "    </tr>\n",
              "    <tr>\n",
              "      <th>2</th>\n",
              "      <td>245000000</td>\n",
              "      <td>[{\"id\": 28, \"name\": \"Action\"}, {\"id\": 12, \"nam...</td>\n",
              "      <td>http://www.sonypictures.com/movies/spectre/</td>\n",
              "      <td>206647</td>\n",
              "      <td>[{\"id\": 470, \"name\": \"spy\"}, {\"id\": 818, \"name...</td>\n",
              "      <td>en</td>\n",
              "      <td>Spectre</td>\n",
              "      <td>A cryptic message from Bond’s past sends him o...</td>\n",
              "      <td>107.376788</td>\n",
              "      <td>[{\"name\": \"Columbia Pictures\", \"id\": 5}, {\"nam...</td>\n",
              "      <td>[{\"iso_3166_1\": \"GB\", \"name\": \"United Kingdom\"...</td>\n",
              "      <td>2015-10-26</td>\n",
              "      <td>880674609</td>\n",
              "      <td>148.0</td>\n",
              "      <td>[{\"iso_639_1\": \"fr\", \"name\": \"Fran\\u00e7ais\"},...</td>\n",
              "      <td>Released</td>\n",
              "      <td>A Plan No One Escapes</td>\n",
              "      <td>Spectre</td>\n",
              "      <td>6.3</td>\n",
              "      <td>4466</td>\n",
              "    </tr>\n",
              "    <tr>\n",
              "      <th>3</th>\n",
              "      <td>250000000</td>\n",
              "      <td>[{\"id\": 28, \"name\": \"Action\"}, {\"id\": 80, \"nam...</td>\n",
              "      <td>http://www.thedarkknightrises.com/</td>\n",
              "      <td>49026</td>\n",
              "      <td>[{\"id\": 849, \"name\": \"dc comics\"}, {\"id\": 853,...</td>\n",
              "      <td>en</td>\n",
              "      <td>The Dark Knight Rises</td>\n",
              "      <td>Following the death of District Attorney Harve...</td>\n",
              "      <td>112.312950</td>\n",
              "      <td>[{\"name\": \"Legendary Pictures\", \"id\": 923}, {\"...</td>\n",
              "      <td>[{\"iso_3166_1\": \"US\", \"name\": \"United States o...</td>\n",
              "      <td>2012-07-16</td>\n",
              "      <td>1084939099</td>\n",
              "      <td>165.0</td>\n",
              "      <td>[{\"iso_639_1\": \"en\", \"name\": \"English\"}]</td>\n",
              "      <td>Released</td>\n",
              "      <td>The Legend Ends</td>\n",
              "      <td>The Dark Knight Rises</td>\n",
              "      <td>7.6</td>\n",
              "      <td>9106</td>\n",
              "    </tr>\n",
              "    <tr>\n",
              "      <th>4</th>\n",
              "      <td>260000000</td>\n",
              "      <td>[{\"id\": 28, \"name\": \"Action\"}, {\"id\": 12, \"nam...</td>\n",
              "      <td>http://movies.disney.com/john-carter</td>\n",
              "      <td>49529</td>\n",
              "      <td>[{\"id\": 818, \"name\": \"based on novel\"}, {\"id\":...</td>\n",
              "      <td>en</td>\n",
              "      <td>John Carter</td>\n",
              "      <td>John Carter is a war-weary, former military ca...</td>\n",
              "      <td>43.926995</td>\n",
              "      <td>[{\"name\": \"Walt Disney Pictures\", \"id\": 2}]</td>\n",
              "      <td>[{\"iso_3166_1\": \"US\", \"name\": \"United States o...</td>\n",
              "      <td>2012-03-07</td>\n",
              "      <td>284139100</td>\n",
              "      <td>132.0</td>\n",
              "      <td>[{\"iso_639_1\": \"en\", \"name\": \"English\"}]</td>\n",
              "      <td>Released</td>\n",
              "      <td>Lost in our world, found in another.</td>\n",
              "      <td>John Carter</td>\n",
              "      <td>6.1</td>\n",
              "      <td>2124</td>\n",
              "    </tr>\n",
              "  </tbody>\n",
              "</table>\n",
              "</div>"
            ],
            "text/plain": [
              "      budget  ... vote_count\n",
              "0  237000000  ...      11800\n",
              "1  300000000  ...       4500\n",
              "2  245000000  ...       4466\n",
              "3  250000000  ...       9106\n",
              "4  260000000  ...       2124\n",
              "\n",
              "[5 rows x 20 columns]"
            ]
          },
          "metadata": {
            "tags": []
          },
          "execution_count": 19
        }
      ]
    },
    {
      "cell_type": "code",
      "metadata": {
        "id": "1-_qUNBDXArD",
        "colab_type": "code",
        "outputId": "5dcf8d17-62f0-4805-d573-b52954860d24",
        "colab": {
          "base_uri": "https://localhost:8080/",
          "height": 85
        }
      },
      "source": [
        "data_tmdb.original_language.unique()"
      ],
      "execution_count": 20,
      "outputs": [
        {
          "output_type": "execute_result",
          "data": {
            "text/plain": [
              "array(['en', 'ja', 'fr', 'zh', 'es', 'de', 'hi', 'ru', 'ko', 'te', 'cn',\n",
              "       'it', 'nl', 'ta', 'sv', 'th', 'da', 'xx', 'hu', 'cs', 'pt', 'is',\n",
              "       'tr', 'nb', 'af', 'pl', 'he', 'ar', 'vi', 'ky', 'id', 'ro', 'fa',\n",
              "       'no', 'sl', 'ps', 'el'], dtype=object)"
            ]
          },
          "metadata": {
            "tags": []
          },
          "execution_count": 20
        }
      ]
    },
    {
      "cell_type": "code",
      "metadata": {
        "id": "rq2qFuCvXXaw",
        "colab_type": "code",
        "outputId": "f3136638-2178-449d-dcff-cf1ec5268c99",
        "colab": {
          "base_uri": "https://localhost:8080/",
          "height": 136
        }
      },
      "source": [
        "data_tmdb.vote_average.unique()"
      ],
      "execution_count": 21,
      "outputs": [
        {
          "output_type": "execute_result",
          "data": {
            "text/plain": [
              "array([ 7.2,  6.9,  6.3,  7.6,  6.1,  5.9,  7.4,  7.3,  5.7,  5.4,  7. ,\n",
              "        6.5,  6.4,  6.2,  7.1,  5.8,  6.6,  7.5,  5.5,  6.7,  6.8,  6. ,\n",
              "        5.1,  7.8,  5.6,  5.2,  8.2,  7.7,  5.3,  8. ,  4.8,  4.9,  7.9,\n",
              "        8.1,  4.7,  5. ,  4.2,  4.4,  4.1,  3.7,  3.6,  3. ,  3.9,  4.3,\n",
              "        4.5,  3.4,  4.6,  8.3,  3.5,  4. ,  2.3,  3.2,  0. ,  3.8,  2.9,\n",
              "        8.5,  1.9,  3.1,  3.3,  2.2,  0.5,  9.3,  8.4,  2.7, 10. ,  1. ,\n",
              "        2. ,  2.8,  9.5,  2.6,  2.4])"
            ]
          },
          "metadata": {
            "tags": []
          },
          "execution_count": 21
        }
      ]
    },
    {
      "cell_type": "code",
      "metadata": {
        "id": "yMG9oq7Kbb_Q",
        "colab_type": "code",
        "outputId": "8f10eee2-85dd-4aae-b061-eaefc2505697",
        "colab": {
          "base_uri": "https://localhost:8080/",
          "height": 1000
        }
      },
      "source": [
        "data_tmdb.original_language.value_counts().to_frame()"
      ],
      "execution_count": 22,
      "outputs": [
        {
          "output_type": "execute_result",
          "data": {
            "text/html": [
              "<div>\n",
              "<style scoped>\n",
              "    .dataframe tbody tr th:only-of-type {\n",
              "        vertical-align: middle;\n",
              "    }\n",
              "\n",
              "    .dataframe tbody tr th {\n",
              "        vertical-align: top;\n",
              "    }\n",
              "\n",
              "    .dataframe thead th {\n",
              "        text-align: right;\n",
              "    }\n",
              "</style>\n",
              "<table border=\"1\" class=\"dataframe\">\n",
              "  <thead>\n",
              "    <tr style=\"text-align: right;\">\n",
              "      <th></th>\n",
              "      <th>original_language</th>\n",
              "    </tr>\n",
              "  </thead>\n",
              "  <tbody>\n",
              "    <tr>\n",
              "      <th>en</th>\n",
              "      <td>4505</td>\n",
              "    </tr>\n",
              "    <tr>\n",
              "      <th>fr</th>\n",
              "      <td>70</td>\n",
              "    </tr>\n",
              "    <tr>\n",
              "      <th>es</th>\n",
              "      <td>32</td>\n",
              "    </tr>\n",
              "    <tr>\n",
              "      <th>zh</th>\n",
              "      <td>27</td>\n",
              "    </tr>\n",
              "    <tr>\n",
              "      <th>de</th>\n",
              "      <td>27</td>\n",
              "    </tr>\n",
              "    <tr>\n",
              "      <th>hi</th>\n",
              "      <td>19</td>\n",
              "    </tr>\n",
              "    <tr>\n",
              "      <th>ja</th>\n",
              "      <td>16</td>\n",
              "    </tr>\n",
              "    <tr>\n",
              "      <th>it</th>\n",
              "      <td>14</td>\n",
              "    </tr>\n",
              "    <tr>\n",
              "      <th>cn</th>\n",
              "      <td>12</td>\n",
              "    </tr>\n",
              "    <tr>\n",
              "      <th>ru</th>\n",
              "      <td>11</td>\n",
              "    </tr>\n",
              "    <tr>\n",
              "      <th>ko</th>\n",
              "      <td>11</td>\n",
              "    </tr>\n",
              "    <tr>\n",
              "      <th>pt</th>\n",
              "      <td>9</td>\n",
              "    </tr>\n",
              "    <tr>\n",
              "      <th>da</th>\n",
              "      <td>7</td>\n",
              "    </tr>\n",
              "    <tr>\n",
              "      <th>sv</th>\n",
              "      <td>5</td>\n",
              "    </tr>\n",
              "    <tr>\n",
              "      <th>nl</th>\n",
              "      <td>4</td>\n",
              "    </tr>\n",
              "    <tr>\n",
              "      <th>fa</th>\n",
              "      <td>4</td>\n",
              "    </tr>\n",
              "    <tr>\n",
              "      <th>th</th>\n",
              "      <td>3</td>\n",
              "    </tr>\n",
              "    <tr>\n",
              "      <th>he</th>\n",
              "      <td>3</td>\n",
              "    </tr>\n",
              "    <tr>\n",
              "      <th>ta</th>\n",
              "      <td>2</td>\n",
              "    </tr>\n",
              "    <tr>\n",
              "      <th>ar</th>\n",
              "      <td>2</td>\n",
              "    </tr>\n",
              "    <tr>\n",
              "      <th>ro</th>\n",
              "      <td>2</td>\n",
              "    </tr>\n",
              "    <tr>\n",
              "      <th>id</th>\n",
              "      <td>2</td>\n",
              "    </tr>\n",
              "    <tr>\n",
              "      <th>cs</th>\n",
              "      <td>2</td>\n",
              "    </tr>\n",
              "    <tr>\n",
              "      <th>is</th>\n",
              "      <td>1</td>\n",
              "    </tr>\n",
              "    <tr>\n",
              "      <th>nb</th>\n",
              "      <td>1</td>\n",
              "    </tr>\n",
              "    <tr>\n",
              "      <th>ps</th>\n",
              "      <td>1</td>\n",
              "    </tr>\n",
              "    <tr>\n",
              "      <th>pl</th>\n",
              "      <td>1</td>\n",
              "    </tr>\n",
              "    <tr>\n",
              "      <th>af</th>\n",
              "      <td>1</td>\n",
              "    </tr>\n",
              "    <tr>\n",
              "      <th>tr</th>\n",
              "      <td>1</td>\n",
              "    </tr>\n",
              "    <tr>\n",
              "      <th>vi</th>\n",
              "      <td>1</td>\n",
              "    </tr>\n",
              "    <tr>\n",
              "      <th>hu</th>\n",
              "      <td>1</td>\n",
              "    </tr>\n",
              "    <tr>\n",
              "      <th>ky</th>\n",
              "      <td>1</td>\n",
              "    </tr>\n",
              "    <tr>\n",
              "      <th>el</th>\n",
              "      <td>1</td>\n",
              "    </tr>\n",
              "    <tr>\n",
              "      <th>sl</th>\n",
              "      <td>1</td>\n",
              "    </tr>\n",
              "    <tr>\n",
              "      <th>xx</th>\n",
              "      <td>1</td>\n",
              "    </tr>\n",
              "    <tr>\n",
              "      <th>te</th>\n",
              "      <td>1</td>\n",
              "    </tr>\n",
              "    <tr>\n",
              "      <th>no</th>\n",
              "      <td>1</td>\n",
              "    </tr>\n",
              "  </tbody>\n",
              "</table>\n",
              "</div>"
            ],
            "text/plain": [
              "    original_language\n",
              "en               4505\n",
              "fr                 70\n",
              "es                 32\n",
              "zh                 27\n",
              "de                 27\n",
              "hi                 19\n",
              "ja                 16\n",
              "it                 14\n",
              "cn                 12\n",
              "ru                 11\n",
              "ko                 11\n",
              "pt                  9\n",
              "da                  7\n",
              "sv                  5\n",
              "nl                  4\n",
              "fa                  4\n",
              "th                  3\n",
              "he                  3\n",
              "ta                  2\n",
              "ar                  2\n",
              "ro                  2\n",
              "id                  2\n",
              "cs                  2\n",
              "is                  1\n",
              "nb                  1\n",
              "ps                  1\n",
              "pl                  1\n",
              "af                  1\n",
              "tr                  1\n",
              "vi                  1\n",
              "hu                  1\n",
              "ky                  1\n",
              "el                  1\n",
              "sl                  1\n",
              "xx                  1\n",
              "te                  1\n",
              "no                  1"
            ]
          },
          "metadata": {
            "tags": []
          },
          "execution_count": 22
        }
      ]
    },
    {
      "cell_type": "code",
      "metadata": {
        "id": "gvWnHUajbi0r",
        "colab_type": "code",
        "outputId": "54733588-f139-44b5-f968-189435b38d0a",
        "colab": {
          "base_uri": "https://localhost:8080/",
          "height": 1000
        }
      },
      "source": [
        "data_tmdb.original_language.value_counts().to_frame().reset_index()"
      ],
      "execution_count": 23,
      "outputs": [
        {
          "output_type": "execute_result",
          "data": {
            "text/html": [
              "<div>\n",
              "<style scoped>\n",
              "    .dataframe tbody tr th:only-of-type {\n",
              "        vertical-align: middle;\n",
              "    }\n",
              "\n",
              "    .dataframe tbody tr th {\n",
              "        vertical-align: top;\n",
              "    }\n",
              "\n",
              "    .dataframe thead th {\n",
              "        text-align: right;\n",
              "    }\n",
              "</style>\n",
              "<table border=\"1\" class=\"dataframe\">\n",
              "  <thead>\n",
              "    <tr style=\"text-align: right;\">\n",
              "      <th></th>\n",
              "      <th>index</th>\n",
              "      <th>original_language</th>\n",
              "    </tr>\n",
              "  </thead>\n",
              "  <tbody>\n",
              "    <tr>\n",
              "      <th>0</th>\n",
              "      <td>en</td>\n",
              "      <td>4505</td>\n",
              "    </tr>\n",
              "    <tr>\n",
              "      <th>1</th>\n",
              "      <td>fr</td>\n",
              "      <td>70</td>\n",
              "    </tr>\n",
              "    <tr>\n",
              "      <th>2</th>\n",
              "      <td>es</td>\n",
              "      <td>32</td>\n",
              "    </tr>\n",
              "    <tr>\n",
              "      <th>3</th>\n",
              "      <td>zh</td>\n",
              "      <td>27</td>\n",
              "    </tr>\n",
              "    <tr>\n",
              "      <th>4</th>\n",
              "      <td>de</td>\n",
              "      <td>27</td>\n",
              "    </tr>\n",
              "    <tr>\n",
              "      <th>5</th>\n",
              "      <td>hi</td>\n",
              "      <td>19</td>\n",
              "    </tr>\n",
              "    <tr>\n",
              "      <th>6</th>\n",
              "      <td>ja</td>\n",
              "      <td>16</td>\n",
              "    </tr>\n",
              "    <tr>\n",
              "      <th>7</th>\n",
              "      <td>it</td>\n",
              "      <td>14</td>\n",
              "    </tr>\n",
              "    <tr>\n",
              "      <th>8</th>\n",
              "      <td>cn</td>\n",
              "      <td>12</td>\n",
              "    </tr>\n",
              "    <tr>\n",
              "      <th>9</th>\n",
              "      <td>ru</td>\n",
              "      <td>11</td>\n",
              "    </tr>\n",
              "    <tr>\n",
              "      <th>10</th>\n",
              "      <td>ko</td>\n",
              "      <td>11</td>\n",
              "    </tr>\n",
              "    <tr>\n",
              "      <th>11</th>\n",
              "      <td>pt</td>\n",
              "      <td>9</td>\n",
              "    </tr>\n",
              "    <tr>\n",
              "      <th>12</th>\n",
              "      <td>da</td>\n",
              "      <td>7</td>\n",
              "    </tr>\n",
              "    <tr>\n",
              "      <th>13</th>\n",
              "      <td>sv</td>\n",
              "      <td>5</td>\n",
              "    </tr>\n",
              "    <tr>\n",
              "      <th>14</th>\n",
              "      <td>nl</td>\n",
              "      <td>4</td>\n",
              "    </tr>\n",
              "    <tr>\n",
              "      <th>15</th>\n",
              "      <td>fa</td>\n",
              "      <td>4</td>\n",
              "    </tr>\n",
              "    <tr>\n",
              "      <th>16</th>\n",
              "      <td>th</td>\n",
              "      <td>3</td>\n",
              "    </tr>\n",
              "    <tr>\n",
              "      <th>17</th>\n",
              "      <td>he</td>\n",
              "      <td>3</td>\n",
              "    </tr>\n",
              "    <tr>\n",
              "      <th>18</th>\n",
              "      <td>ta</td>\n",
              "      <td>2</td>\n",
              "    </tr>\n",
              "    <tr>\n",
              "      <th>19</th>\n",
              "      <td>ar</td>\n",
              "      <td>2</td>\n",
              "    </tr>\n",
              "    <tr>\n",
              "      <th>20</th>\n",
              "      <td>ro</td>\n",
              "      <td>2</td>\n",
              "    </tr>\n",
              "    <tr>\n",
              "      <th>21</th>\n",
              "      <td>id</td>\n",
              "      <td>2</td>\n",
              "    </tr>\n",
              "    <tr>\n",
              "      <th>22</th>\n",
              "      <td>cs</td>\n",
              "      <td>2</td>\n",
              "    </tr>\n",
              "    <tr>\n",
              "      <th>23</th>\n",
              "      <td>is</td>\n",
              "      <td>1</td>\n",
              "    </tr>\n",
              "    <tr>\n",
              "      <th>24</th>\n",
              "      <td>nb</td>\n",
              "      <td>1</td>\n",
              "    </tr>\n",
              "    <tr>\n",
              "      <th>25</th>\n",
              "      <td>ps</td>\n",
              "      <td>1</td>\n",
              "    </tr>\n",
              "    <tr>\n",
              "      <th>26</th>\n",
              "      <td>pl</td>\n",
              "      <td>1</td>\n",
              "    </tr>\n",
              "    <tr>\n",
              "      <th>27</th>\n",
              "      <td>af</td>\n",
              "      <td>1</td>\n",
              "    </tr>\n",
              "    <tr>\n",
              "      <th>28</th>\n",
              "      <td>tr</td>\n",
              "      <td>1</td>\n",
              "    </tr>\n",
              "    <tr>\n",
              "      <th>29</th>\n",
              "      <td>vi</td>\n",
              "      <td>1</td>\n",
              "    </tr>\n",
              "    <tr>\n",
              "      <th>30</th>\n",
              "      <td>hu</td>\n",
              "      <td>1</td>\n",
              "    </tr>\n",
              "    <tr>\n",
              "      <th>31</th>\n",
              "      <td>ky</td>\n",
              "      <td>1</td>\n",
              "    </tr>\n",
              "    <tr>\n",
              "      <th>32</th>\n",
              "      <td>el</td>\n",
              "      <td>1</td>\n",
              "    </tr>\n",
              "    <tr>\n",
              "      <th>33</th>\n",
              "      <td>sl</td>\n",
              "      <td>1</td>\n",
              "    </tr>\n",
              "    <tr>\n",
              "      <th>34</th>\n",
              "      <td>xx</td>\n",
              "      <td>1</td>\n",
              "    </tr>\n",
              "    <tr>\n",
              "      <th>35</th>\n",
              "      <td>te</td>\n",
              "      <td>1</td>\n",
              "    </tr>\n",
              "    <tr>\n",
              "      <th>36</th>\n",
              "      <td>no</td>\n",
              "      <td>1</td>\n",
              "    </tr>\n",
              "  </tbody>\n",
              "</table>\n",
              "</div>"
            ],
            "text/plain": [
              "   index  original_language\n",
              "0     en               4505\n",
              "1     fr                 70\n",
              "2     es                 32\n",
              "3     zh                 27\n",
              "4     de                 27\n",
              "5     hi                 19\n",
              "6     ja                 16\n",
              "7     it                 14\n",
              "8     cn                 12\n",
              "9     ru                 11\n",
              "10    ko                 11\n",
              "11    pt                  9\n",
              "12    da                  7\n",
              "13    sv                  5\n",
              "14    nl                  4\n",
              "15    fa                  4\n",
              "16    th                  3\n",
              "17    he                  3\n",
              "18    ta                  2\n",
              "19    ar                  2\n",
              "20    ro                  2\n",
              "21    id                  2\n",
              "22    cs                  2\n",
              "23    is                  1\n",
              "24    nb                  1\n",
              "25    ps                  1\n",
              "26    pl                  1\n",
              "27    af                  1\n",
              "28    tr                  1\n",
              "29    vi                  1\n",
              "30    hu                  1\n",
              "31    ky                  1\n",
              "32    el                  1\n",
              "33    sl                  1\n",
              "34    xx                  1\n",
              "35    te                  1\n",
              "36    no                  1"
            ]
          },
          "metadata": {
            "tags": []
          },
          "execution_count": 23
        }
      ]
    },
    {
      "cell_type": "code",
      "metadata": {
        "id": "MzhiUA4LbmOC",
        "colab_type": "code",
        "outputId": "cc78584a-fd33-46af-8408-e4d3c2723e4b",
        "colab": {
          "base_uri": "https://localhost:8080/",
          "height": 204
        }
      },
      "source": [
        "contagem_de_lingua = data_tmdb.original_language.value_counts().to_frame().reset_index()\n",
        "contagem_de_lingua.columns = [\"original_language\", \"total\"]\n",
        "contagem_de_lingua.head()"
      ],
      "execution_count": 24,
      "outputs": [
        {
          "output_type": "execute_result",
          "data": {
            "text/html": [
              "<div>\n",
              "<style scoped>\n",
              "    .dataframe tbody tr th:only-of-type {\n",
              "        vertical-align: middle;\n",
              "    }\n",
              "\n",
              "    .dataframe tbody tr th {\n",
              "        vertical-align: top;\n",
              "    }\n",
              "\n",
              "    .dataframe thead th {\n",
              "        text-align: right;\n",
              "    }\n",
              "</style>\n",
              "<table border=\"1\" class=\"dataframe\">\n",
              "  <thead>\n",
              "    <tr style=\"text-align: right;\">\n",
              "      <th></th>\n",
              "      <th>original_language</th>\n",
              "      <th>total</th>\n",
              "    </tr>\n",
              "  </thead>\n",
              "  <tbody>\n",
              "    <tr>\n",
              "      <th>0</th>\n",
              "      <td>en</td>\n",
              "      <td>4505</td>\n",
              "    </tr>\n",
              "    <tr>\n",
              "      <th>1</th>\n",
              "      <td>fr</td>\n",
              "      <td>70</td>\n",
              "    </tr>\n",
              "    <tr>\n",
              "      <th>2</th>\n",
              "      <td>es</td>\n",
              "      <td>32</td>\n",
              "    </tr>\n",
              "    <tr>\n",
              "      <th>3</th>\n",
              "      <td>zh</td>\n",
              "      <td>27</td>\n",
              "    </tr>\n",
              "    <tr>\n",
              "      <th>4</th>\n",
              "      <td>de</td>\n",
              "      <td>27</td>\n",
              "    </tr>\n",
              "  </tbody>\n",
              "</table>\n",
              "</div>"
            ],
            "text/plain": [
              "  original_language  total\n",
              "0                en   4505\n",
              "1                fr     70\n",
              "2                es     32\n",
              "3                zh     27\n",
              "4                de     27"
            ]
          },
          "metadata": {
            "tags": []
          },
          "execution_count": 24
        }
      ]
    },
    {
      "cell_type": "code",
      "metadata": {
        "id": "uv1Xy8ctb02n",
        "colab_type": "code",
        "outputId": "605057ae-f314-46d2-93f8-78aa59375cfd",
        "colab": {
          "base_uri": "https://localhost:8080/",
          "height": 297
        }
      },
      "source": [
        "sns.barplot(x=\"original_language\", y=\"total\", data = contagem_de_lingua)"
      ],
      "execution_count": 25,
      "outputs": [
        {
          "output_type": "execute_result",
          "data": {
            "text/plain": [
              "<matplotlib.axes._subplots.AxesSubplot at 0x7f2ba573d390>"
            ]
          },
          "metadata": {
            "tags": []
          },
          "execution_count": 25
        },
        {
          "output_type": "display_data",
          "data": {
            "image/png": "[encoded data removed]",
            "text/plain": [
              "<Figure size 432x288 with 1 Axes>"
            ]
          },
          "metadata": {
            "tags": []
          }
        }
      ]
    },
    {
      "cell_type": "code",
      "metadata": {
        "id": "N5we8PBDb21B",
        "colab_type": "code",
        "outputId": "518dce8a-969d-4856-93c2-aeb6216818f6",
        "colab": {
          "base_uri": "https://localhost:8080/",
          "height": 386
        }
      },
      "source": [
        "sns.catplot(x=\"original_language\",kind=\"count\",data=contagem_de_lingua)"
      ],
      "execution_count": 35,
      "outputs": [
        {
          "output_type": "execute_result",
          "data": {
            "text/plain": [
              "<seaborn.axisgrid.FacetGrid at 0x7f2ba2cd6390>"
            ]
          },
          "metadata": {
            "tags": []
          },
          "execution_count": 35
        },
        {
          "output_type": "display_data",
          "data": {
            "image/png": "[encoded data removed]",
            "text/plain": [
              "<Figure size 360x360 with 1 Axes>"
            ]
          },
          "metadata": {
            "tags": []
          }
        }
      ]
    },
    {
      "cell_type": "code",
      "metadata": {
        "id": "GdV4u7fDcobm",
        "colab_type": "code",
        "outputId": "b9ea2ded-3509-4211-ca12-bf297fade10a",
        "colab": {
          "base_uri": "https://localhost:8080/",
          "height": 297
        }
      },
      "source": [
        "sns.barplot(x=\"original_language\", y=\"total\", data = contagem_de_lingua)"
      ],
      "execution_count": 27,
      "outputs": [
        {
          "output_type": "execute_result",
          "data": {
            "text/plain": [
              "<matplotlib.axes._subplots.AxesSubplot at 0x7f2ba2cef908>"
            ]
          },
          "metadata": {
            "tags": []
          },
          "execution_count": 27
        },
        {
          "output_type": "display_data",
          "data": {
            "image/png": "[encoded data removed]",
            "text/plain": [
              "<Figure size 432x288 with 1 Axes>"
            ]
          },
          "metadata": {
            "tags": []
          }
        }
      ]
    },
    {
      "cell_type": "code",
      "metadata": {
        "id": "kMiHiGRpeu8D",
        "colab_type": "code",
        "outputId": "ab5cce61-7934-4c9f-9ddd-ba7c7af6d5ae",
        "colab": {
          "base_uri": "https://localhost:8080/",
          "height": 1000
        }
      },
      "source": [
        "plt.pie(contagem_de_lingua[\"total\"], labels = contagem_de_lingua[\"original_language\"])"
      ],
      "execution_count": 28,
      "outputs": [
        {
          "output_type": "execute_result",
          "data": {
            "text/plain": [
              "([<matplotlib.patches.Wedge at 0x7f2ba2b90588>,\n",
              "  <matplotlib.patches.Wedge at 0x7f2ba2b90b00>,\n",
              "  <matplotlib.patches.Wedge at 0x7f2ba2b90fd0>,\n",
              "  <matplotlib.patches.Wedge at 0x7f2ba2b9d550>,\n",
              "  <matplotlib.patches.Wedge at 0x7f2ba2b9da58>,\n",
              "  <matplotlib.patches.Wedge at 0x7f2ba2b9df60>,\n",
              "  <matplotlib.patches.Wedge at 0x7f2ba2ba84a8>,\n",
              "  <matplotlib.patches.Wedge at 0x7f2ba2ba89b0>,\n",
              "  <matplotlib.patches.Wedge at 0x7f2ba2ba8eb8>,\n",
              "  <matplotlib.patches.Wedge at 0x7f2ba2b36400>,\n",
              "  <matplotlib.patches.Wedge at 0x7f2ba2b6f2e8>,\n",
              "  <matplotlib.patches.Wedge at 0x7f2ba2b36dd8>,\n",
              "  <matplotlib.patches.Wedge at 0x7f2ba2b43320>,\n",
              "  <matplotlib.patches.Wedge at 0x7f2ba2b43828>,\n",
              "  <matplotlib.patches.Wedge at 0x7f2ba2b43d30>,\n",
              "  <matplotlib.patches.Wedge at 0x7f2ba2b4f278>,\n",
              "  <matplotlib.patches.Wedge at 0x7f2ba2b4f780>,\n",
              "  <matplotlib.patches.Wedge at 0x7f2ba2b4fc88>,\n",
              "  <matplotlib.patches.Wedge at 0x7f2ba2b591d0>,\n",
              "  <matplotlib.patches.Wedge at 0x7f2ba2b596d8>,\n",
              "  <matplotlib.patches.Wedge at 0x7f2ba2b59be0>,\n",
              "  <matplotlib.patches.Wedge at 0x7f2ba2b65128>,\n",
              "  <matplotlib.patches.Wedge at 0x7f2ba2b65630>,\n",
              "  <matplotlib.patches.Wedge at 0x7f2ba2b65b38>,\n",
              "  <matplotlib.patches.Wedge at 0x7f2ba2af2080>,\n",
              "  <matplotlib.patches.Wedge at 0x7f2ba2af2588>,\n",
              "  <matplotlib.patches.Wedge at 0x7f2ba2af2a90>,\n",
              "  <matplotlib.patches.Wedge at 0x7f2ba2af2f98>,\n",
              "  <matplotlib.patches.Wedge at 0x7f2ba2afe4e0>,\n",
              "  <matplotlib.patches.Wedge at 0x7f2ba2afe9e8>,\n",
              "  <matplotlib.patches.Wedge at 0x7f2ba2afeef0>,\n",
              "  <matplotlib.patches.Wedge at 0x7f2ba2b08438>,\n",
              "  <matplotlib.patches.Wedge at 0x7f2ba2b08940>,\n",
              "  <matplotlib.patches.Wedge at 0x7f2ba2b08e48>,\n",
              "  <matplotlib.patches.Wedge at 0x7f2ba2b14390>,\n",
              "  <matplotlib.patches.Wedge at 0x7f2ba2b14898>,\n",
              "  <matplotlib.patches.Wedge at 0x7f2ba2b14da0>],\n",
              " [Text(-1.0791697536499925, 0.2130554923183512, 'en'),\n",
              "  Text(1.0355355017029462, -0.3710339940124459, 'fr'),\n",
              "  Text(1.0579676486019882, -0.3011718023181785, 'es'),\n",
              "  Text(1.0687996606645356, -0.26012936274741094, 'zh'),\n",
              "  Text(1.0773191105706255, -0.22222406260195313, 'de'),\n",
              "  Text(1.0835167978583342, -0.18971386021801853, 'hi'),\n",
              "  Text(1.0875756432724297, -0.16486121484618815, 'ja'),\n",
              "  Text(1.0906010773146022, -0.14348968659882622, 'it'),\n",
              "  Text(1.092883487371409, -0.12492270822755745, 'cn'),\n",
              "  Text(1.0946390911069936, -0.10846778425161549, 'ru'),\n",
              "  Text(1.0960865535188649, -0.09270527058984593, 'ko'),\n",
              "  Text(1.0972054830031333, -0.07835896928789601, 'pt'),\n",
              "  Text(1.097965443340663, -0.06687215586282344, 'da'),\n",
              "  Text(1.0984565010300316, -0.05825217030171998, 'sv'),\n",
              "  Text(1.0987803851616647, -0.0517847968421653, 'nl'),\n",
              "  Text(1.0990363161210686, -0.04603450713357274, 'fa'),\n",
              "  Text(1.0992355702663055, -0.04100196411527794, 'th'),\n",
              "  Text(1.0993880184234357, -0.03668766750546649, 'he'),\n",
              "  Text(1.0995021239019234, -0.033091985965784415, 'ta'),\n",
              "  Text(1.099584941078101, -0.03021518416739545, 'ar'),\n",
              "  Text(1.0996602312343366, -0.027338175536150495, 'ro'),\n",
              "  Text(1.099727993855245, -0.024460979766119193, 'id'),\n",
              "  Text(1.0997882284769684, -0.02158361655264929, 'cs'),\n",
              "  Text(1.0998284639438185, -0.01942549610642471, 'is'),\n",
              "  Text(1.0998529348820232, -0.01798670707495573, 'nb'),\n",
              "  Text(1.0998755236058106, -0.01654788726224571, 'ps'),\n",
              "  Text(1.0998962300765243, -0.01510903913059323, 'pl'),\n",
              "  Text(1.0999150542587282, -0.013670165142345335, 'af'),\n",
              "  Text(1.0999319961202083, -0.012231267759896247, 'tr'),\n",
              "  Text(1.0999470556319713, -0.01079234944567632, 'vi'),\n",
              "  Text(1.099960232768245, -0.00935341266215563, 'hu'),\n",
              "  Text(1.0999715275064792, -0.007914459871831963, 'ky'),\n",
              "  Text(1.0999809398273452, -0.006475493537234394, 'el'),\n",
              "  Text(1.0999884697147349, -0.005036516120911278, 'sl'),\n",
              "  Text(1.0999941171557621, -0.0035975300854338356, 'xx'),\n",
              "  Text(1.0999978821407626, -0.0021585378933851127, 'te'),\n",
              "  Text(1.0999997646632929, -0.0007195420073586872, 'no')])"
            ]
          },
          "metadata": {
            "tags": []
          },
          "execution_count": 28
        },
        {
          "output_type": "display_data",
          "data": {
            "image/png": "[encoded data removed]",
            "text/plain": [
              "<Figure size 432x288 with 1 Axes>"
            ]
          },
          "metadata": {
            "tags": []
          }
        }
      ]
    },
    {
      "cell_type": "code",
      "metadata": {
        "id": "FAz5h-rjew7B",
        "colab_type": "code",
        "outputId": "ff0b8b16-4b2e-4ec6-b6f3-aef2564fbe61",
        "colab": {
          "base_uri": "https://localhost:8080/",
          "height": 34
        }
      },
      "source": [
        "total_por_lingua = data_tmdb[\"original_language\"].value_counts()\n",
        "total_por_lingua.loc[\"en\"]"
      ],
      "execution_count": 29,
      "outputs": [
        {
          "output_type": "execute_result",
          "data": {
            "text/plain": [
              "4505"
            ]
          },
          "metadata": {
            "tags": []
          },
          "execution_count": 29
        }
      ]
    },
    {
      "cell_type": "code",
      "metadata": {
        "id": "ZdY22sAle5Z5",
        "colab_type": "code",
        "outputId": "fdbda444-2def-4813-ef1c-bd6e88b73f3a",
        "colab": {
          "base_uri": "https://localhost:8080/",
          "height": 34
        }
      },
      "source": [
        "total_por_lingua = data_tmdb[\"original_language\"].value_counts()\n",
        "total_geral = total_por_lingua.sum()\n",
        "total_de_ingles = total_por_lingua.loc[\"en\"]\n",
        "total_do_resto = total_geral - total_de_ingles\n",
        "print(total_de_ingles, total_do_resto)"
      ],
      "execution_count": 30,
      "outputs": [
        {
          "output_type": "stream",
          "text": [
            "4505 298\n"
          ],
          "name": "stdout"
        }
      ]
    },
    {
      "cell_type": "code",
      "metadata": {
        "id": "-AXptIEqfCnw",
        "colab_type": "code",
        "outputId": "0d5e27ab-488d-4f8e-9339-0f2bdc643eac",
        "colab": {
          "base_uri": "https://localhost:8080/",
          "height": 111
        }
      },
      "source": [
        "dados = {\n",
        "    'lingua' : ['ingles','outros'],\n",
        "    'total' : [total_de_ingles, total_do_resto]\n",
        "\n",
        "}\n",
        "\n",
        "pd.DataFrame(dados)"
      ],
      "execution_count": 31,
      "outputs": [
        {
          "output_type": "execute_result",
          "data": {
            "text/html": [
              "<div>\n",
              "<style scoped>\n",
              "    .dataframe tbody tr th:only-of-type {\n",
              "        vertical-align: middle;\n",
              "    }\n",
              "\n",
              "    .dataframe tbody tr th {\n",
              "        vertical-align: top;\n",
              "    }\n",
              "\n",
              "    .dataframe thead th {\n",
              "        text-align: right;\n",
              "    }\n",
              "</style>\n",
              "<table border=\"1\" class=\"dataframe\">\n",
              "  <thead>\n",
              "    <tr style=\"text-align: right;\">\n",
              "      <th></th>\n",
              "      <th>lingua</th>\n",
              "      <th>total</th>\n",
              "    </tr>\n",
              "  </thead>\n",
              "  <tbody>\n",
              "    <tr>\n",
              "      <th>0</th>\n",
              "      <td>ingles</td>\n",
              "      <td>4505</td>\n",
              "    </tr>\n",
              "    <tr>\n",
              "      <th>1</th>\n",
              "      <td>outros</td>\n",
              "      <td>298</td>\n",
              "    </tr>\n",
              "  </tbody>\n",
              "</table>\n",
              "</div>"
            ],
            "text/plain": [
              "   lingua  total\n",
              "0  ingles   4505\n",
              "1  outros    298"
            ]
          },
          "metadata": {
            "tags": []
          },
          "execution_count": 31
        }
      ]
    },
    {
      "cell_type": "code",
      "metadata": {
        "id": "PY5tLKjVfGup",
        "colab_type": "code",
        "outputId": "5ed3803f-5bdc-4e1f-8cf7-c0a89e1a13ea",
        "colab": {
          "base_uri": "https://localhost:8080/",
          "height": 111
        }
      },
      "source": [
        "dados = {\n",
        "    'lingua' : ['ingles','outros'],\n",
        "    'total' : [total_de_ingles, total_do_resto]\n",
        "\n",
        "}\n",
        "\n",
        "dados = pd.DataFrame(dados)\n",
        "dados"
      ],
      "execution_count": 32,
      "outputs": [
        {
          "output_type": "execute_result",
          "data": {
            "text/html": [
              "<div>\n",
              "<style scoped>\n",
              "    .dataframe tbody tr th:only-of-type {\n",
              "        vertical-align: middle;\n",
              "    }\n",
              "\n",
              "    .dataframe tbody tr th {\n",
              "        vertical-align: top;\n",
              "    }\n",
              "\n",
              "    .dataframe thead th {\n",
              "        text-align: right;\n",
              "    }\n",
              "</style>\n",
              "<table border=\"1\" class=\"dataframe\">\n",
              "  <thead>\n",
              "    <tr style=\"text-align: right;\">\n",
              "      <th></th>\n",
              "      <th>lingua</th>\n",
              "      <th>total</th>\n",
              "    </tr>\n",
              "  </thead>\n",
              "  <tbody>\n",
              "    <tr>\n",
              "      <th>0</th>\n",
              "      <td>ingles</td>\n",
              "      <td>4505</td>\n",
              "    </tr>\n",
              "    <tr>\n",
              "      <th>1</th>\n",
              "      <td>outros</td>\n",
              "      <td>298</td>\n",
              "    </tr>\n",
              "  </tbody>\n",
              "</table>\n",
              "</div>"
            ],
            "text/plain": [
              "   lingua  total\n",
              "0  ingles   4505\n",
              "1  outros    298"
            ]
          },
          "metadata": {
            "tags": []
          },
          "execution_count": 32
        }
      ]
    },
    {
      "cell_type": "code",
      "metadata": {
        "id": "tyN5q1pafL8J",
        "colab_type": "code",
        "outputId": "3827cd63-7584-40b2-ea11-4be47f1de67d",
        "colab": {
          "base_uri": "https://localhost:8080/",
          "height": 296
        }
      },
      "source": [
        "sns.barplot(data = dados, x = 'lingua', y = 'total')"
      ],
      "execution_count": 33,
      "outputs": [
        {
          "output_type": "execute_result",
          "data": {
            "text/plain": [
              "<matplotlib.axes._subplots.AxesSubplot at 0x7f2ba2abe160>"
            ]
          },
          "metadata": {
            "tags": []
          },
          "execution_count": 33
        },
        {
          "output_type": "display_data",
          "data": {
            "image/png": "[encoded data removed]",
            "text/plain": [
              "<Figure size 432x288 with 1 Axes>"
            ]
          },
          "metadata": {
            "tags": []
          }
        }
      ]
    },
    {
      "cell_type": "code",
      "metadata": {
        "id": "Fn5wqjKo5nqz",
        "colab_type": "code",
        "colab": {
          "base_uri": "https://localhost:8080/",
          "height": 316
        },
        "outputId": "b4c0de95-840b-4566-fa7c-d4e1d415da3e"
      },
      "source": [
        "plt.pie(dados[\"total\"], labels = dados[\"lingua\"])"
      ],
      "execution_count": 34,
      "outputs": [
        {
          "output_type": "execute_result",
          "data": {
            "text/plain": [
              "([<matplotlib.patches.Wedge at 0x7f2ba55eeba8>,\n",
              "  <matplotlib.patches.Wedge at 0x7f2ba2c7bc18>],\n",
              " [Text(-1.0791697536499925, 0.2130554923183512, 'ingles'),\n",
              "  Text(1.0791697511565306, -0.2130555049482467, 'outros')])"
            ]
          },
          "metadata": {
            "tags": []
          },
          "execution_count": 34
        },
        {
          "output_type": "display_data",
          "data": {
            "image/png": "[encoded data removed]",
            "text/plain": [
              "<Figure size 432x288 with 1 Axes>"
            ]
          },
          "metadata": {
            "tags": []
          }
        }
      ]
    },
    {
      "cell_type": "code",
      "metadata": {
        "id": "iYQXQlS_AWD-",
        "colab_type": "code",
        "colab": {
          "base_uri": "https://localhost:8080/",
          "height": 646
        },
        "outputId": "49d705c1-e95e-4ad1-a7e9-17b7ec2d0931"
      },
      "source": [
        "total_de_linguas_de_outros_filmes = data_tmdb.query(\"original_language != 'en' \").original_language.value_counts()\n",
        "total_de_linguas_de_outros_filmes"
      ],
      "execution_count": 44,
      "outputs": [
        {
          "output_type": "execute_result",
          "data": {
            "text/plain": [
              "fr    70\n",
              "es    32\n",
              "zh    27\n",
              "de    27\n",
              "hi    19\n",
              "ja    16\n",
              "it    14\n",
              "cn    12\n",
              "ko    11\n",
              "ru    11\n",
              "pt     9\n",
              "da     7\n",
              "sv     5\n",
              "nl     4\n",
              "fa     4\n",
              "he     3\n",
              "th     3\n",
              "ar     2\n",
              "ta     2\n",
              "ro     2\n",
              "id     2\n",
              "cs     2\n",
              "pl     1\n",
              "ps     1\n",
              "sl     1\n",
              "tr     1\n",
              "nb     1\n",
              "hu     1\n",
              "is     1\n",
              "ky     1\n",
              "te     1\n",
              "vi     1\n",
              "xx     1\n",
              "no     1\n",
              "af     1\n",
              "el     1\n",
              "Name: original_language, dtype: int64"
            ]
          },
          "metadata": {
            "tags": []
          },
          "execution_count": 44
        }
      ]
    },
    {
      "cell_type": "code",
      "metadata": {
        "id": "PkuAlOtm7wgv",
        "colab_type": "code",
        "colab": {
          "base_uri": "https://localhost:8080/",
          "height": 386
        },
        "outputId": "26dae4b5-199c-4d92-9b27-b8b82c598127"
      },
      "source": [
        "filmes_sem_lingua_original_inglesa = data_tmdb.query(\"original_language != 'en' \")\n",
        "\n",
        "sns.catplot(x=\"original_language\", kind=\"count\",data=filmes_sem_lingua_original_inglesa,\n",
        "            aspect=2,\n",
        "            palette=\"GnBu_d\",\n",
        "            order=total_de_linguas_de_outros_filmes.index)\n"
      ],
      "execution_count": 49,
      "outputs": [
        {
          "output_type": "execute_result",
          "data": {
            "text/plain": [
              "<seaborn.axisgrid.FacetGrid at 0x7f2ba02d8e10>"
            ]
          },
          "metadata": {
            "tags": []
          },
          "execution_count": 49
        },
        {
          "output_type": "display_data",
          "data": {
            "image/png": "[encoded data removed]",
            "text/plain": [
              "<Figure size 720x360 with 1 Axes>"
            ]
          },
          "metadata": {
            "tags": []
          }
        }
      ]
    },
    {
      "cell_type": "code",
      "metadata": {
        "id": "qV8MHhjz8vOa",
        "colab_type": "code",
        "colab": {
          "base_uri": "https://localhost:8080/",
          "height": 386
        },
        "outputId": "c3e3033e-10a9-45af-dbf2-b1eda93fe13b"
      },
      "source": [
        "sns.catplot(x=\"original_language\", kind=\"count\",data=filmes_sem_lingua_original_inglesa,\n",
        "            aspect=3,\n",
        "            order=total_de_linguas_de_outros_filmes.index)"
      ],
      "execution_count": 48,
      "outputs": [
        {
          "output_type": "execute_result",
          "data": {
            "text/plain": [
              "<seaborn.axisgrid.FacetGrid at 0x7f2ba03ef828>"
            ]
          },
          "metadata": {
            "tags": []
          },
          "execution_count": 48
        },
        {
          "output_type": "display_data",
          "data": {
            "image/png": "[encoded data removed]",
            "text/plain": [
              "<Figure size 1080x360 with 1 Axes>"
            ]
          },
          "metadata": {
            "tags": []
          }
        }
      ]
    },
    {
      "cell_type": "code",
      "metadata": {
        "id": "NYCsGpbALWYw",
        "colab_type": "code",
        "colab": {
          "base_uri": "https://localhost:8080/",
          "height": 111
        },
        "outputId": "12617b44-66f0-44b7-9486-06bd9cd22a79"
      },
      "source": [
        "filmes.head(2)"
      ],
      "execution_count": 51,
      "outputs": [
        {
          "output_type": "execute_result",
          "data": {
            "text/html": [
              "<div>\n",
              "<style scoped>\n",
              "    .dataframe tbody tr th:only-of-type {\n",
              "        vertical-align: middle;\n",
              "    }\n",
              "\n",
              "    .dataframe tbody tr th {\n",
              "        vertical-align: top;\n",
              "    }\n",
              "\n",
              "    .dataframe thead th {\n",
              "        text-align: right;\n",
              "    }\n",
              "</style>\n",
              "<table border=\"1\" class=\"dataframe\">\n",
              "  <thead>\n",
              "    <tr style=\"text-align: right;\">\n",
              "      <th></th>\n",
              "      <th>idfilme</th>\n",
              "      <th>titulo</th>\n",
              "      <th>genero</th>\n",
              "    </tr>\n",
              "  </thead>\n",
              "  <tbody>\n",
              "    <tr>\n",
              "      <th>0</th>\n",
              "      <td>1</td>\n",
              "      <td>Toy Story (1995)</td>\n",
              "      <td>Adventure|Animation|Children|Comedy|Fantasy</td>\n",
              "    </tr>\n",
              "    <tr>\n",
              "      <th>1</th>\n",
              "      <td>2</td>\n",
              "      <td>Jumanji (1995)</td>\n",
              "      <td>Adventure|Children|Fantasy</td>\n",
              "    </tr>\n",
              "  </tbody>\n",
              "</table>\n",
              "</div>"
            ],
            "text/plain": [
              "   idfilme            titulo                                       genero\n",
              "0        1  Toy Story (1995)  Adventure|Animation|Children|Comedy|Fantasy\n",
              "1        2    Jumanji (1995)                   Adventure|Children|Fantasy"
            ]
          },
          "metadata": {
            "tags": []
          },
          "execution_count": 51
        }
      ]
    },
    {
      "cell_type": "code",
      "metadata": {
        "id": "_lkDtzYQLlNE",
        "colab_type": "code",
        "colab": {
          "base_uri": "https://localhost:8080/",
          "height": 204
        },
        "outputId": "cc984d0e-05a3-4264-ce43-0e57ea408f33"
      },
      "source": [
        "data.head()"
      ],
      "execution_count": 54,
      "outputs": [
        {
          "output_type": "execute_result",
          "data": {
            "text/html": [
              "<div>\n",
              "<style scoped>\n",
              "    .dataframe tbody tr th:only-of-type {\n",
              "        vertical-align: middle;\n",
              "    }\n",
              "\n",
              "    .dataframe tbody tr th {\n",
              "        vertical-align: top;\n",
              "    }\n",
              "\n",
              "    .dataframe thead th {\n",
              "        text-align: right;\n",
              "    }\n",
              "</style>\n",
              "<table border=\"1\" class=\"dataframe\">\n",
              "  <thead>\n",
              "    <tr style=\"text-align: right;\">\n",
              "      <th></th>\n",
              "      <th>usuarioId</th>\n",
              "      <th>filmeId</th>\n",
              "      <th>nota</th>\n",
              "      <th>momento</th>\n",
              "    </tr>\n",
              "  </thead>\n",
              "  <tbody>\n",
              "    <tr>\n",
              "      <th>0</th>\n",
              "      <td>1</td>\n",
              "      <td>1</td>\n",
              "      <td>4.0</td>\n",
              "      <td>964982703</td>\n",
              "    </tr>\n",
              "    <tr>\n",
              "      <th>1</th>\n",
              "      <td>1</td>\n",
              "      <td>3</td>\n",
              "      <td>4.0</td>\n",
              "      <td>964981247</td>\n",
              "    </tr>\n",
              "    <tr>\n",
              "      <th>2</th>\n",
              "      <td>1</td>\n",
              "      <td>6</td>\n",
              "      <td>4.0</td>\n",
              "      <td>964982224</td>\n",
              "    </tr>\n",
              "    <tr>\n",
              "      <th>3</th>\n",
              "      <td>1</td>\n",
              "      <td>47</td>\n",
              "      <td>5.0</td>\n",
              "      <td>964983815</td>\n",
              "    </tr>\n",
              "    <tr>\n",
              "      <th>4</th>\n",
              "      <td>1</td>\n",
              "      <td>50</td>\n",
              "      <td>5.0</td>\n",
              "      <td>964982931</td>\n",
              "    </tr>\n",
              "  </tbody>\n",
              "</table>\n",
              "</div>"
            ],
            "text/plain": [
              "   usuarioId  filmeId  nota    momento\n",
              "0          1        1   4.0  964982703\n",
              "1          1        3   4.0  964981247\n",
              "2          1        6   4.0  964982224\n",
              "3          1       47   5.0  964983815\n",
              "4          1       50   5.0  964982931"
            ]
          },
          "metadata": {
            "tags": []
          },
          "execution_count": 54
        }
      ]
    },
    {
      "cell_type": "code",
      "metadata": {
        "id": "HbB68BOhMQm0",
        "colab_type": "code",
        "colab": {
          "base_uri": "https://localhost:8080/",
          "height": 34
        },
        "outputId": "325d0d00-45d1-4303-e567-36d9c882ceed"
      },
      "source": [
        "notas_toyStory = data.query(\"filmeId == 1\")\n",
        "notas_Jumanji = data.query(\"filmeId == 2\")\n",
        "print(len(notas_toyStory),len(notas_Jumanji))"
      ],
      "execution_count": 56,
      "outputs": [
        {
          "output_type": "stream",
          "text": [
            "215 110\n"
          ],
          "name": "stdout"
        }
      ]
    },
    {
      "cell_type": "code",
      "metadata": {
        "id": "AFyfIxn2NWME",
        "colab_type": "code",
        "colab": {
          "base_uri": "https://localhost:8080/",
          "height": 51
        },
        "outputId": "f60ab16c-a0bf-4233-9792-84460245aaa0"
      },
      "source": [
        "print(\"Nota média do Toy Story %.2f\" % notas_toyStory.nota.mean())\n",
        "print(\"Nota média do Jumanji %.2f\" % notas_Jumanji.nota.mean())"
      ],
      "execution_count": 57,
      "outputs": [
        {
          "output_type": "stream",
          "text": [
            "Nota média do Toy Story 3.92\n",
            "Nota média do Jumanji 3.43\n"
          ],
          "name": "stdout"
        }
      ]
    },
    {
      "cell_type": "code",
      "metadata": {
        "id": "79X8wbLWOKCX",
        "colab_type": "code",
        "colab": {
          "base_uri": "https://localhost:8080/",
          "height": 51
        },
        "outputId": "13b79c50-fea6-4db7-e93d-5c201b73b720"
      },
      "source": [
        "print(\"Nota média do Toy Story %.2f\" % notas_toyStory.nota.median())\n",
        "print(\"Nota média do Jumanji %.2f\" % notas_Jumanji.nota.median())"
      ],
      "execution_count": 58,
      "outputs": [
        {
          "output_type": "stream",
          "text": [
            "Nota média do Toy Story 4.00\n",
            "Nota média do Jumanji 3.50\n"
          ],
          "name": "stdout"
        }
      ]
    },
    {
      "cell_type": "code",
      "metadata": {
        "id": "3_Ns7s4aPf9K",
        "colab_type": "code",
        "colab": {
          "base_uri": "https://localhost:8080/",
          "height": 296
        },
        "outputId": "b3d7d6fd-6f76-4300-f907-f6c02b062176"
      },
      "source": [
        "sns.boxplot(x = \"filmeId\", y = \"nota\", data = data.query(\"filmeId in (1,2,3,4,5)\"))"
      ],
      "execution_count": 59,
      "outputs": [
        {
          "output_type": "execute_result",
          "data": {
            "text/plain": [
              "<matplotlib.axes._subplots.AxesSubplot at 0x7f2ba0b27d68>"
            ]
          },
          "metadata": {
            "tags": []
          },
          "execution_count": 59
        },
        {
          "output_type": "display_data",
          "data": {
            "image/png": "[encoded data removed]",
            "text/plain": [
              "<Figure size 432x288 with 1 Axes>"
            ]
          },
          "metadata": {
            "tags": []
          }
        }
      ]
    },
    {
      "cell_type": "code",
      "metadata": {
        "id": "v7FS0jNNPfzO",
        "colab_type": "code",
        "colab": {
          "base_uri": "https://localhost:8080/",
          "height": 34
        },
        "outputId": "1242df52-22c0-4e05-caa5-062ce61ba113"
      },
      "source": [
        "print(\"Desvio padrão do Jumanji %.2f\" % notas_Jumanji.nota.std(), \"Desvio padrão do Toy Story %.2f\" % notas_toyStory.nota.std())"
      ],
      "execution_count": 60,
      "outputs": [
        {
          "output_type": "stream",
          "text": [
            "Desvio padrão do Jumanji 0.88 Desvio padrão do Toy Story 0.83\n"
          ],
          "name": "stdout"
        }
      ]
    },
    {
      "cell_type": "code",
      "metadata": {
        "id": "IB5ooHBkQiFv",
        "colab_type": "code",
        "colab": {}
      },
      "source": [
        "import matplotlib.pyplot as plt \n",
        "import numpy as np "
      ],
      "execution_count": 0,
      "outputs": []
    },
    {
      "cell_type": "code",
      "metadata": {
        "id": "L9NjijdjQju2",
        "colab_type": "code",
        "colab": {}
      },
      "source": [
        "filme1 = np.append(np.array([2.5] * 10), np.array([3.5] * 10))\n",
        "filme2 = np.append(np.array([5] * 10), np.array([1] * 10))"
      ],
      "execution_count": 0,
      "outputs": []
    },
    {
      "cell_type": "code",
      "metadata": {
        "id": "Seh-clrmQm8V",
        "colab_type": "code",
        "colab": {
          "base_uri": "https://localhost:8080/",
          "height": 68
        },
        "outputId": "c5839b4a-080e-4484-98b0-72463e7343b1"
      },
      "source": [
        "print(filme1.mean(), filme2.mean())\n",
        "print(np.std(filme1), np.std(filme2))\n",
        "print(np.median(filme1), np.median(filme2))"
      ],
      "execution_count": 63,
      "outputs": [
        {
          "output_type": "stream",
          "text": [
            "3.0 3.0\n",
            "0.5 2.0\n",
            "3.0 3.0\n"
          ],
          "name": "stdout"
        }
      ]
    },
    {
      "cell_type": "code",
      "metadata": {
        "id": "ET380CawQrIm",
        "colab_type": "code",
        "colab": {
          "base_uri": "https://localhost:8080/",
          "height": 520
        },
        "outputId": "c777b1fb-d8fd-4c2b-b769-0eb176fd975a"
      },
      "source": [
        "plt.hist(filme1)\n",
        "plt.hist(filme2)\n",
        "\n",
        "plt.boxplot([filme1, filme2])"
      ],
      "execution_count": 64,
      "outputs": [
        {
          "output_type": "execute_result",
          "data": {
            "text/plain": [
              "{'boxes': [<matplotlib.lines.Line2D at 0x7f2b9ffb74e0>,\n",
              "  <matplotlib.lines.Line2D at 0x7f2b9fe60908>],\n",
              " 'caps': [<matplotlib.lines.Line2D at 0x7f2b9fe54b00>,\n",
              "  <matplotlib.lines.Line2D at 0x7f2b9fe54e80>,\n",
              "  <matplotlib.lines.Line2D at 0x7f2b9fdeb400>,\n",
              "  <matplotlib.lines.Line2D at 0x7f2b9fdeb780>],\n",
              " 'fliers': [<matplotlib.lines.Line2D at 0x7f2b9fe605c0>,\n",
              "  <matplotlib.lines.Line2D at 0x7f2b9fdebe80>],\n",
              " 'means': [],\n",
              " 'medians': [<matplotlib.lines.Line2D at 0x7f2b9fe60240>,\n",
              "  <matplotlib.lines.Line2D at 0x7f2b9fdebb00>],\n",
              " 'whiskers': [<matplotlib.lines.Line2D at 0x7f2b9fe54400>,\n",
              "  <matplotlib.lines.Line2D at 0x7f2b9fe54780>,\n",
              "  <matplotlib.lines.Line2D at 0x7f2b9fe60cc0>,\n",
              "  <matplotlib.lines.Line2D at 0x7f2b9fdeb080>]}"
            ]
          },
          "metadata": {
            "tags": []
          },
          "execution_count": 64
        },
        {
          "output_type": "display_data",
          "data": {
            "image/png": "[encoded data removed]",
            "text/plain": [
              "<Figure size 432x288 with 1 Axes>"
            ]
          },
          "metadata": {
            "tags": []
          }
        }
      ]
    },
    {
      "cell_type": "code",
      "metadata": {
        "id": "NJK_AaAnQ1Rt",
        "colab_type": "code",
        "colab": {
          "base_uri": "https://localhost:8080/",
          "height": 520
        },
        "outputId": "7a953443-bacd-4cb0-bf84-0ad7e937a68e"
      },
      "source": [
        "%matplotlib inline\n",
        "plt.boxplot([notas_toyStory.nota, notas_Jumanji.nota])\n"
      ],
      "execution_count": 67,
      "outputs": [
        {
          "output_type": "execute_result",
          "data": {
            "text/plain": [
              "{'boxes': [<matplotlib.lines.Line2D at 0x7f2b9fd149b0>,\n",
              "  <matplotlib.lines.Line2D at 0x7f2b9fcb11d0>],\n",
              " 'caps': [<matplotlib.lines.Line2D at 0x7f2b9fd233c8>,\n",
              "  <matplotlib.lines.Line2D at 0x7f2b9fd23748>,\n",
              "  <matplotlib.lines.Line2D at 0x7f2b9fcb1c88>,\n",
              "  <matplotlib.lines.Line2D at 0x7f2b9fcbc048>],\n",
              " 'fliers': [<matplotlib.lines.Line2D at 0x7f2b9fd23e48>,\n",
              "  <matplotlib.lines.Line2D at 0x7f2b9fcbc748>],\n",
              " 'means': [],\n",
              " 'medians': [<matplotlib.lines.Line2D at 0x7f2b9fd23ac8>,\n",
              "  <matplotlib.lines.Line2D at 0x7f2b9fcbc3c8>],\n",
              " 'whiskers': [<matplotlib.lines.Line2D at 0x7f2b9fd14c88>,\n",
              "  <matplotlib.lines.Line2D at 0x7f2b9fd23048>,\n",
              "  <matplotlib.lines.Line2D at 0x7f2b9fcb1588>,\n",
              "  <matplotlib.lines.Line2D at 0x7f2b9fcb1908>]}"
            ]
          },
          "metadata": {
            "tags": []
          },
          "execution_count": 67
        },
        {
          "output_type": "display_data",
          "data": {
            "image/png": "[encoded data removed]",
            "text/plain": [
              "<Figure size 432x288 with 1 Axes>"
            ]
          },
          "metadata": {
            "tags": []
          }
        }
      ]
    }
  ]
}