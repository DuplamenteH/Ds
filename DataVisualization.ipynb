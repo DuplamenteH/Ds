{
  "nbformat": 4,
  "nbformat_minor": 0,
  "metadata": {
    "colab": {
      "name": "DataVisualization",
      "private_outputs": true,
      "provenance": [],
      "toc_visible": true,
      "authorship_tag": "ABX9TyOH5tXTBlCse1Zp955BUTvV",
      "include_colab_link": true
    },
    "kernelspec": {
      "name": "python3",
      "display_name": "Python 3"
    }
  },
  "cells": [
    {
      "cell_type": "markdown",
      "metadata": {
        "id": "view-in-github",
        "colab_type": "text"
      },
      "source": [
        "<a href=\"https://colab.research.google.com/github/DuplamenteH/Ds/blob/master/DataVisualization.ipynb\" target=\"_parent\"><img src=\"https://colab.research.google.com/assets/colab-badge.svg\" alt=\"Open In Colab\"/></a>"
      ]
    },
    {
      "cell_type": "markdown",
      "metadata": {
        "id": "9NyDr16sKiu7"
      },
      "source": [
        "# Aula 01\r\n",
        "\r\n",
        "\r\n",
        "------\r\n",
        "\r\n",
        "\r\n",
        "\r\n",
        "\r\n",
        "\r\n"
      ]
    },
    {
      "cell_type": "code",
      "metadata": {
        "id": "H4h4p34jKdCp"
      },
      "source": [
        "import pandas as pd\r\n",
        "import matplotlib.pyplot as plt\r\n",
        "%matplotlib inline"
      ],
      "execution_count": null,
      "outputs": []
    },
    {
      "cell_type": "code",
      "metadata": {
        "id": "RtNHu7UNKsAo"
      },
      "source": [
        "path_dados = 'https://raw.githubusercontent.com/DuplamenteH/dados/main/monitoramento_tempo.csv'\r\n",
        "\r\n",
        "\r\n",
        "\r\n",
        "df = pd.read_csv(path_dados)\r\n",
        "df.head()"
      ],
      "execution_count": null,
      "outputs": []
    },
    {
      "cell_type": "code",
      "metadata": {
        "id": "iR_l5WYhM3XW"
      },
      "source": [
        "df.info()"
      ],
      "execution_count": null,
      "outputs": []
    },
    {
      "cell_type": "code",
      "metadata": {
        "id": "mVQ5Dc0JMsd_"
      },
      "source": [
        "df['data'] = pd.to_datetime(df['data'])"
      ],
      "execution_count": null,
      "outputs": []
    },
    {
      "cell_type": "code",
      "metadata": {
        "id": "3AZYiAaPM7Up"
      },
      "source": [
        "df.info()"
      ],
      "execution_count": null,
      "outputs": []
    },
    {
      "cell_type": "code",
      "metadata": {
        "id": "dlTwFD6AND3d"
      },
      "source": [
        "plt.figure(figsize=(15,8))\r\n",
        "plt.plot(df['data'], df['temperatura'])\r\n",
        "plt.title('Temperatura no tempo');"
      ],
      "execution_count": null,
      "outputs": []
    },
    {
      "cell_type": "code",
      "metadata": {
        "id": "sGifYnECPIdi"
      },
      "source": [
        "fig = plt.figure(figsize=(15,8))\r\n",
        "eixo = fig.add_axes([0, 0, 1, 1])\r\n",
        "eixo.plot(df['data'], df['temperatura'])\r\n",
        "\r\n",
        "eixo.set_title('Temperatura no momento', fontsize=25)\r\n",
        "eixo.set_ylabel('Temperatura', fontsize=20)\r\n",
        "eixo.set_xlabel('Data', fontsize=20)\r\n",
        "eixo.legend(['Temperatura'], loc = 'lower right', fontsize=15);"
      ],
      "execution_count": null,
      "outputs": []
    },
    {
      "cell_type": "code",
      "metadata": {
        "id": "F1-zscy1NGfW"
      },
      "source": [
        "fig = plt.figure(figsize=(15,8))\r\n",
        "eixo = fig.add_axes([0, 0, 1, 1])\r\n",
        "eixo.plot(df['data'], df['temperatura'], color= 'darkmagenta')\r\n",
        "\r\n",
        "eixo.set_title('Temperatura no momento', fontsize=25)\r\n",
        "eixo.set_ylabel('Temperatura', fontsize=20)\r\n",
        "eixo.set_xlabel('Data', fontsize=20)\r\n",
        "eixo.legend(['Temperatura'], loc = 'lower right', fontsize=15);"
      ],
      "execution_count": null,
      "outputs": []
    },
    {
      "cell_type": "markdown",
      "metadata": {
        "id": "P1phWTtVO99z"
      },
      "source": [
        "# Aula 02"
      ]
    },
    {
      "cell_type": "code",
      "metadata": {
        "id": "sFXIU7PbPEp9"
      },
      "source": [
        "fig = plt.figure(figsize=(15,8))\r\n",
        "eixo = fig.add_axes([0, 0, 1, 1])\r\n",
        "eixo.plot(df['data'], df['temperatura'], color = 'g', ls = 'dotted')\r\n",
        "\r\n",
        "eixo.set_title('Temperatura no momento', fontsize=25)\r\n",
        "eixo.set_ylabel('Temperatura', fontsize=20)\r\n",
        "eixo.set_xlabel('Data', fontsize=20)\r\n",
        "eixo.legend(['Temperatura'], loc = 'lower right', fontsize=15)"
      ],
      "execution_count": null,
      "outputs": []
    },
    {
      "cell_type": "markdown",
      "metadata": {
        "id": "3o0bKMp4Zsuz"
      },
      "source": [
        "colocando limite no eixo x\r\n"
      ]
    },
    {
      "cell_type": "code",
      "metadata": {
        "id": "WXOBdyUJZ67J"
      },
      "source": [
        "import datetime"
      ],
      "execution_count": null,
      "outputs": []
    },
    {
      "cell_type": "code",
      "metadata": {
        "id": "he9WZLadZmyK"
      },
      "source": [
        "fig = plt.figure(figsize=(15,8))\r\n",
        "eixo = fig.add_axes([0, 0, 1, 1])\r\n",
        "eixo.plot(df['data'], df['temperatura'], color = 'g', marker='o')\r\n",
        "\r\n",
        "eixo.set_xlim(datetime.datetime(2014,1,1),datetime.datetime(2015,1,1))\r\n",
        "eixo.set_title('Temperatura no momento', fontsize=25)\r\n",
        "eixo.set_ylabel('Temperatura', fontsize=20)\r\n",
        "eixo.set_xlabel('Data', fontsize=20)\r\n",
        "eixo.legend(['Temperatura'], loc = 'lower right', fontsize=15)"
      ],
      "execution_count": null,
      "outputs": []
    },
    {
      "cell_type": "markdown",
      "metadata": {
        "id": "9Pwukz7EaW5A"
      },
      "source": [
        "colocando grid"
      ]
    },
    {
      "cell_type": "code",
      "metadata": {
        "id": "cVRGw489aVwY"
      },
      "source": [
        "fig = plt.figure(figsize=(15,8))\r\n",
        "eixo = fig.add_axes([0, 0, 1, 1])\r\n",
        "eixo.plot(df['data'], df['temperatura'], color = 'g')\r\n",
        "\r\n",
        "eixo.set_xlim(datetime.datetime(2014,1,1),datetime.datetime(2015,1,1))\r\n",
        "eixo.set_title('Temperatura no momento', fontsize=25)\r\n",
        "eixo.set_ylabel('Temperatura', fontsize=20)\r\n",
        "eixo.set_xlabel('Data', fontsize=20)\r\n",
        "eixo.legend(['Temperatura'], loc = 'lower right', fontsize=15)\r\n",
        "eixo.grid(True)"
      ],
      "execution_count": null,
      "outputs": []
    },
    {
      "cell_type": "markdown",
      "metadata": {
        "id": "wd-o4JHxcFHx"
      },
      "source": [
        "grafico com 2 eixos\r\n"
      ]
    },
    {
      "cell_type": "code",
      "metadata": {
        "id": "alV3v6o0cEmA"
      },
      "source": [
        "fig = plt.figure(figsize=(15,8))\r\n",
        "eixo = fig.add_axes([0, 0, 1, 1])\r\n",
        "eixo2 = fig.add_axes([0.7,0.65,0.3,0.3])\r\n",
        "\r\n",
        "\r\n",
        "eixo.plot(df['data'], df['temperatura'], color= 'g')\r\n",
        "eixo.set_xlim(datetime.datetime(2014,1,1),datetime.datetime(2015,1,1))\r\n",
        "eixo.set_title('Temperatura no 2014', fontsize=25, pad=20)\r\n",
        "eixo.set_ylabel('Temperatura', fontsize=20)\r\n",
        "eixo.set_xlabel('Data', fontsize=20)\r\n",
        "eixo.legend(['Temperatura'], loc = 'lower right', fontsize=15)\r\n",
        "\r\n",
        "eixo2.plot(df['data'], df['temperatura'], color='b')\r\n",
        "eixo2.set_title('Temperatura no momento', fontsize=15)\r\n",
        "eixo2.set_ylabel('Temperatura', fontsize=10)\r\n",
        "eixo2.set_xlabel('Data', fontsize=10)\r\n",
        "eixo2.legend(['Temperatura'], loc = 'best', fontsize=8)\r\n",
        "\r\n",
        "eixo.grid(True);\r\n",
        "eixo2.grid(True);"
      ],
      "execution_count": null,
      "outputs": []
    },
    {
      "cell_type": "markdown",
      "metadata": {
        "id": "itexEWRQeN3I"
      },
      "source": [
        "mudando os limites de x\r\n"
      ]
    },
    {
      "cell_type": "code",
      "metadata": {
        "id": "4zyJUK9QeNeL"
      },
      "source": [
        "fig = plt.figure(figsize=(15,8))\r\n",
        "eixo = fig.add_axes([0,0,1,1])\r\n",
        "eixo2 = fig.add_axes([0.7,0.65,0.3,0.3])\r\n",
        "\r\n",
        "eixo.grid(True)\r\n",
        "eixo.plot(df['data'], df['temperatura'], color = 'g')\r\n",
        "eixo.set_xlim(datetime.datetime(2014,5,1),datetime.datetime(2014,6,1))\r\n",
        "eixo.set_ylim(270, 320)\r\n",
        "eixo.set_title('Temperatura em maio/2014', fontsize=25)\r\n",
        "eixo.legend(['Temperatura'], loc = 'lower right', fontsize=15)\r\n",
        "eixo.set_ylabel('Temperatura', fontsize=20)\r\n",
        "eixo.set_xlabel('Data', fontsize=20)\r\n",
        "\r\n",
        "\r\n",
        "azul_esquerda = df['data'] < datetime.datetime(2014,5,1)\r\n",
        "azul_direita = df['data'] > datetime.datetime(2014,6,1)\r\n",
        "\r\n",
        "\r\n",
        "eixo2.grid(True)\r\n",
        "eixo2.plot(df['data'], df['temperatura'], color = 'g')\r\n",
        "eixo2.plot(df[azul_esquerda]['data'], df[azul_esquerda]['temperatura'], color = 'b')\r\n",
        "eixo2.plot(df[azul_direita]['data'], df[azul_direita]['temperatura'], color = 'b')\r\n",
        "eixo2.set_xlim(datetime.datetime(2014,1,1),datetime.datetime(2015,1,1))\r\n",
        "eixo2.set_title('Temperatura em 2014', fontsize=15)\r\n",
        "eixo2.legend(['Temperatura'], loc = 'best', fontsize=8)\r\n",
        "eixo2.set_ylabel('Temperatura', fontsize=10)\r\n",
        "eixo2.set_xlabel('Data', fontsize=10);"
      ],
      "execution_count": null,
      "outputs": []
    },
    {
      "cell_type": "markdown",
      "metadata": {
        "id": "HvPvn5objJmz"
      },
      "source": [
        "# Aula 03"
      ]
    },
    {
      "cell_type": "code",
      "metadata": {
        "id": "4UqSa1VXZwQJ"
      },
      "source": [
        "fig = plt.figure(figsize = (15,8))\r\n",
        "eixo = fig.add_axes([0,0,1,1])\r\n",
        "eixo.plot(df['data'], df['temperatura'], color = 'g')\r\n",
        "eixo.set_title('Temperatura no momento', fontsize = 25, pad = 20)\r\n",
        "eixo.set_xlabel('Data', fontsize=20)\r\n",
        "eixo.set_ylabel('Temperatura', fontsize=20)\r\n",
        "eixo.legend(['Temperatura'], loc='lower right', fontsize=15)\r\n",
        "eixo.grid(True)\r\n",
        "\r\n",
        "\r\n",
        "eixo.axhline(max(df['temperatura']), color = 'k', linestyle='--')\r\n",
        "eixo.axhline(min(df['temperatura']), color = 'k', linestyle='--')\r\n",
        "x1 = df['data'][df['temperatura'].idxmax()]\r\n",
        "y1 = max(df['temperatura'])\r\n",
        "eixo.annotate('Máximo', xy=(x1,y1), fontsize=20);"
      ],
      "execution_count": null,
      "outputs": []
    },
    {
      "cell_type": "markdown",
      "metadata": {
        "id": "t-OddnFujasK"
      },
      "source": [
        "colocando setas"
      ]
    },
    {
      "cell_type": "code",
      "metadata": {
        "id": "d4jSkcv1jCrO"
      },
      "source": [
        "fig = plt.figure(figsize = (15,8))\r\n",
        "eixo = fig.add_axes([0,0,1,1])\r\n",
        "eixo.plot(df['data'], df['temperatura'], color = 'g')\r\n",
        "eixo.set_title('Temperatura no momento', fontsize = 25, pad = 20)\r\n",
        "eixo.set_xlabel('Data', fontsize=20)\r\n",
        "eixo.set_ylabel('Temperatura', fontsize=20)\r\n",
        "eixo.legend(['Temperatura'], loc='lower right', fontsize=15)\r\n",
        "eixo.grid(True)\r\n",
        "\r\n",
        "\r\n",
        "eixo.axhline(max(df['temperatura']), color = 'k', linestyle='--')\r\n",
        "eixo.axhline(min(df['temperatura']), color = 'k', linestyle='--')\r\n",
        "x1 = df['data'][df['temperatura'].idxmax()]\r\n",
        "y1 = max(df['temperatura'])\r\n",
        "\r\n",
        "x2 = df['data'][df['temperatura'].idxmax() - 7000]\r\n",
        "y2 = max(df['temperatura']) - 5\r\n",
        "\r\n",
        "eixo.annotate('Máximo', xy=(x1,y1), fontsize=20, \r\n",
        "              xytext=(x2,y2), arrowprops=dict(facecolor='k'))\r\n",
        "\r\n",
        "x1 = df['data'][df['temperatura'].idxmin()]\r\n",
        "y1 = min(df['temperatura'])\r\n",
        "\r\n",
        "x2 = df['data'][df['temperatura'].idxmin() - 7000]\r\n",
        "y2 = min(df['temperatura']) + 5\r\n",
        "\r\n",
        "eixo.annotate('Mínimo', xy=(x1,y1), fontsize=20, \r\n",
        "              xytext=(x2,y2), arrowprops=dict(facecolor='k'));"
      ],
      "execution_count": null,
      "outputs": []
    },
    {
      "cell_type": "markdown",
      "metadata": {
        "id": "RX4RUVn7ot0z"
      },
      "source": [
        "temperatura por dia"
      ]
    },
    {
      "cell_type": "code",
      "metadata": {
        "id": "8TsKSyR6o26m"
      },
      "source": [
        "temperatura_por_dia_da_semana = df.groupby('dia_da_semana')['temperatura'].mean()\r\n",
        "nome_dias = ['Domingo', 'Segunda', 'Terça', 'Quarta', 'Quinta', 'Sexta', 'Sábado']\r\n",
        "temperatura_por_dia_da_semana = temperatura_por_dia_da_semana[nome_dias]\r\n",
        "temperatura_por_dia_da_semana"
      ],
      "execution_count": null,
      "outputs": []
    },
    {
      "cell_type": "code",
      "metadata": {
        "id": "7Xgfn2jIjqMu"
      },
      "source": [
        "fig = plt.figure(figsize=(15,8))\r\n",
        "eixo = fig.add_axes([0,0,1,1])\r\n",
        "\r\n",
        "explodir = [0.1,0,0,0,0,0.1,0.1]\r\n",
        "\r\n",
        "eixo.pie(temperatura_por_dia_da_semana, labels=temperatura_por_dia_da_semana.index,\r\n",
        "         autopct='%.1f%%', explode=explodir, shadow=True)\r\n",
        "eixo.set_title('Temperatura por dia da semana', size=15, pad=10);"
      ],
      "execution_count": null,
      "outputs": []
    },
    {
      "cell_type": "markdown",
      "metadata": {
        "id": "0wKvu_-Vpwb6"
      },
      "source": [
        "# AULA 04\r\n"
      ]
    },
    {
      "cell_type": "code",
      "metadata": {
        "id": "gHX2hwjYp0KO"
      },
      "source": [
        "import numpy as np\r\n",
        "import pandas as pd\r\n",
        "import matplotlib.pyplot as plt\r\n",
        "\r\n",
        "%matplotlib inline"
      ],
      "execution_count": null,
      "outputs": []
    },
    {
      "cell_type": "code",
      "metadata": {
        "id": "K15Bv4elp6XO"
      },
      "source": [
        "df = pd.read_csv('https://raw.githubusercontent.com/DuplamenteH/dados/main/iris.csv')\r\n",
        "df.head()"
      ],
      "execution_count": null,
      "outputs": []
    },
    {
      "cell_type": "code",
      "metadata": {
        "id": "RqDEuZN7qHh3"
      },
      "source": [
        "fig = plt.figure(figsize=(15,8))\r\n",
        "eixo = fig.add_axes([0,0,1,1])\r\n",
        "\r\n",
        "eixo.scatter(df['comprimento_sépala'], df['largura_sépala'])\r\n",
        "eixo.set_title('Gráfico de dispersão', fontsize=25, pad=15)\r\n",
        "eixo.set_xlabel('Comprimento da sépala', fontsize=15)\r\n",
        "eixo.set_ylabel('Largura da sépala', fontsize=15);"
      ],
      "execution_count": null,
      "outputs": []
    },
    {
      "cell_type": "code",
      "metadata": {
        "id": "Rj0PLyWKqKlX"
      },
      "source": [
        "fig = plt.figure(figsize=(15,8))\r\n",
        "eixo = fig.add_axes([0,0,1,1])\r\n",
        "\r\n",
        "cores = {'Iris-setosa': 'r', 'Iris-versicolor': 'b', 'Iris-virginica': 'g'}\r\n",
        "marcadores = {'Iris-setosa': 'x', 'Iris-versicolor': 'o', 'Iris-virginica': 'v'}\r\n",
        "\r\n",
        "for especie in df['espécie'].unique():\r\n",
        "    tmp = df[df['espécie'] == especie]\r\n",
        "    eixo.scatter(tmp['comprimento_sépala'], tmp['largura_sépala'],\r\n",
        "                 color=cores[especie], marker=marcadores[especie],\r\n",
        "                 s=100)\r\n",
        "\r\n",
        "eixo.set_title('Gráfico de dispersão', fontsize=25, pad=15)\r\n",
        "eixo.set_xlabel('Comprimento da sépala', fontsize=15)\r\n",
        "eixo.set_ylabel('Largura da sépala', fontsize=15)\r\n",
        "eixo.legend(cores, fontsize=20)\r\n",
        "eixo.tick_params(labelsize=15);"
      ],
      "execution_count": null,
      "outputs": []
    },
    {
      "cell_type": "markdown",
      "metadata": {
        "id": "j6mm8K4DqysP"
      },
      "source": [
        "boxplot"
      ]
    },
    {
      "cell_type": "code",
      "metadata": {
        "id": "ecPB0mWpq0pW"
      },
      "source": [
        "fig = plt.figure(figsize=(10,8))\r\n",
        "eixo = fig.add_axes([0,0,1,1])\r\n",
        "\r\n",
        "cores = ['red', 'blue', 'orange', 'green']\r\n",
        "\r\n",
        "caixas = eixo.boxplot(df.drop('espécie', axis=1).values, patch_artist=True)\r\n",
        "eixo.set_title('Gráfico de caixa', fontsize=15, pad=10)\r\n",
        "eixo.set_xticklabels(df.drop('espécie', axis=1).columns)\r\n",
        "\r\n",
        "for caixa, cor in zip(caixas['boxes'], cores):\r\n",
        "    caixa.set(color=cor)\r\n",
        "\r\n",
        "for outlier in caixas['fliers']:\r\n",
        "    outlier.set(marker='x', markersize=8)"
      ],
      "execution_count": null,
      "outputs": []
    },
    {
      "cell_type": "markdown",
      "metadata": {
        "id": "n-6guOr1rBZO"
      },
      "source": [
        "histogramas"
      ]
    },
    {
      "cell_type": "code",
      "metadata": {
        "id": "yg_h9kozrCk2"
      },
      "source": [
        "fig = plt.figure(figsize=(15,10))\r\n",
        "eixo = fig.add_axes([0,0,1,1])\r\n",
        "\r\n",
        "eixo.hist(df['comprimento_pétala'], bins=20, density=True)\r\n",
        "eixo.set_title('Histograma', fontsize=15, pad=10)\r\n",
        "eixo.set_xlabel('Comprimento da pétala', fontsize=15)\r\n",
        "eixo.grid(True);"
      ],
      "execution_count": null,
      "outputs": []
    },
    {
      "cell_type": "markdown",
      "metadata": {
        "id": "gl9nk1VcrZZ2"
      },
      "source": [
        "# AULA 05"
      ]
    },
    {
      "cell_type": "code",
      "metadata": {
        "id": "TxJ04uEIrb7l"
      },
      "source": [
        "fig = plt.figure(figsize=(15,10))\r\n",
        "eixo = fig.add_axes([0,0,1,1])\r\n",
        "\r\n",
        "mu, sigma = df['comprimento_pétala'].mean(), df['comprimento_pétala'].std()\r\n",
        "\r\n",
        "eixo.hist(df['comprimento_pétala'], bins=20)\r\n",
        "eixo.set_title('Histograma', fontsize=15, pad=10)\r\n",
        "eixo.set_xlabel('Comprimento da pétala', fontsize=15)\r\n",
        "eixo.grid(True)\r\n",
        "\r\n",
        "eixo.annotate('$mu = {0:.2f}$\\n$sigma = {1:.2f}$'.format(mu, sigma),\r\n",
        "               xy=(4.5, 20), fontsize=20);"
      ],
      "execution_count": null,
      "outputs": []
    },
    {
      "cell_type": "markdown",
      "metadata": {
        "id": "nFmC8QJnrtHn"
      },
      "source": [
        "mais infos"
      ]
    },
    {
      "cell_type": "code",
      "metadata": {
        "id": "U8g3-2DprepG"
      },
      "source": [
        "\r\n",
        "fig = plt.figure(figsize=(15,10))\r\n",
        "eixo = fig.add_axes([0,0,1,1])\r\n",
        "\r\n",
        "mu, sigma = df['comprimento_pétala'].mean(), df['comprimento_pétala'].std()\r\n",
        "\r\n",
        "eixo.hist(df['comprimento_pétala'], bins=20)\r\n",
        "eixo.set_title('Histograma', fontsize=15, pad=10)\r\n",
        "eixo.set_xlabel('Comprimento da pétala', fontsize=15)\r\n",
        "eixo.grid(True)\r\n",
        "\r\n",
        "eixo.annotate('$\\mu = {0:.2f}$\\n$\\sigma = {1:.2f}$'.format(mu, sigma),\r\n",
        "               xy=(4.5, 20), fontsize=20)\r\n",
        "\r\n",
        "eixo.axvline(mu, color = 'k', linestyle='--')\r\n",
        "eixo.annotate('média', xy=(mu-1.3, 28), fontsize=20)\r\n",
        "\r\n",
        "eixo.axvline(df['comprimento_pétala'].median(), color='g', linestyle='--')\r\n",
        "eixo.annotate('mediana', xy=(df['comprimento_pétala'].median(), 31), fontsize=20);"
      ],
      "execution_count": null,
      "outputs": []
    },
    {
      "cell_type": "markdown",
      "metadata": {
        "id": "1clNXK2GsedD"
      },
      "source": [
        "juntando todos os graficos"
      ]
    },
    {
      "cell_type": "code",
      "metadata": {
        "id": "ZHLWPiDss73-"
      },
      "source": [
        "fig = plt.figure(figsize=(5,4))\r\n",
        "eixo = fig.add_axes([0,0,1,1])\r\n",
        "\r\n",
        "df_iv = df[df['espécie'] == 'Iris-versicolor']\r\n",
        "\r\n",
        "mu, sigma = df_iv['comprimento_pétala'].mean(), df_iv['comprimento_pétala'].std()\r\n",
        "\r\n",
        "eixo.hist(df_iv['comprimento_pétala'], bins=20)\r\n",
        "eixo.set_title('Iris Versicolor', fontsize=15, pad=10)\r\n",
        "eixo.set_xlabel('Comprimento da pétala', fontsize=15)\r\n",
        "eixo.grid(True)\r\n",
        "\r\n",
        "eixo.annotate('$\\mu = {0:.2f}$\\n$\\sigma = {1:.2f}$'.format(mu, sigma),\r\n",
        "               xy=(4.6, 6), fontsize=20)\r\n",
        "\r\n",
        "eixo.axvline(mu, color = 'k', linestyle='--')\r\n",
        "eixo.annotate('média', xy=(mu-0.5, 5.5), fontsize=20)\r\n",
        "\r\n",
        "eixo.axvline(df_iv['comprimento_pétala'].median(), color='g', linestyle='--')\r\n",
        "eixo.annotate('mediana', xy=(df_iv['comprimento_pétala'].median()-0.7, 6.5), fontsize=20,\r\n",
        "               color='g')"
      ],
      "execution_count": null,
      "outputs": []
    },
    {
      "cell_type": "code",
      "metadata": {
        "id": "LKwO0P8os_xh"
      },
      "source": [
        "fig.savefig('histograma_iv.png', bbox_inches='tight')"
      ],
      "execution_count": null,
      "outputs": []
    },
    {
      "cell_type": "code",
      "metadata": {
        "id": "YpyW7v9nstfH"
      },
      "source": [
        "fig = plt.figure(figsize=(5,4))\r\n",
        "eixo = fig.add_axes([0,0,1,1])\r\n",
        "\r\n",
        "df_iv = df[df['espécie'] == 'Iris-versicolor']\r\n",
        "\r\n",
        "mu, sigma = df_iv['comprimento_pétala'].mean(), df_iv['comprimento_pétala'].std()\r\n",
        "\r\n",
        "eixo.hist(df_iv['comprimento_pétala'], bins=20)\r\n",
        "eixo.set_title('Iris Versicolor', fontsize=15, pad=10)\r\n",
        "eixo.set_xlabel('Comprimento da pétala', fontsize=15)\r\n",
        "eixo.grid(True)\r\n",
        "\r\n",
        "eixo.annotate('$\\mu = {0:.2f}$\\n$\\sigma = {1:.2f}$'.format(mu, sigma),\r\n",
        "               xy=(4.6, 6), fontsize=20)\r\n",
        "\r\n",
        "eixo.axvline(mu, color = 'k', linestyle='--')\r\n",
        "eixo.annotate('média', xy=(mu-0.5, 5.5), fontsize=20)\r\n",
        "\r\n",
        "eixo.axvline(df_iv['comprimento_pétala'].median(), color='g', linestyle='--')\r\n",
        "eixo.annotate('mediana', xy=(df_iv['comprimento_pétala'].median()-0.7, 6.5), fontsize=20,\r\n",
        "               color='g')"
      ],
      "execution_count": null,
      "outputs": []
    },
    {
      "cell_type": "code",
      "metadata": {
        "id": "A0oolgXMsnzb"
      },
      "source": [
        "fig = plt.figure(figsize=(5,4))\r\n",
        "eixo = fig.add_axes([0,0,1,1])\r\n",
        "\r\n",
        "df_is = df[df['espécie'] == 'Iris-setosa']\r\n",
        "\r\n",
        "mu, sigma = df_is['comprimento_pétala'].mean(), df_is['comprimento_pétala'].std()\r\n",
        "\r\n",
        "eixo.hist(df_is['comprimento_pétala'], bins=20)\r\n",
        "eixo.set_title('Iris Setosa', fontsize=15, pad=10)\r\n",
        "eixo.set_xlabel('Comprimento da pétala', fontsize=15)\r\n",
        "eixo.grid(True)\r\n",
        "\r\n",
        "eixo.annotate('$\\mu = {0:.2f}$\\n$\\sigma = {1:.2f}$'.format(mu, sigma),\r\n",
        "               xy=(1.7, 7), fontsize=20)\r\n",
        "\r\n",
        "eixo.axvline(mu, color = 'k', linestyle='--')\r\n",
        "eixo.annotate('média', xy=(mu-0.2, 13.5), fontsize=20)\r\n",
        "\r\n",
        "eixo.axvline(df_is['comprimento_pétala'].median(), color='g', linestyle='--')\r\n",
        "eixo.annotate('mediana', xy=(df_is['comprimento_pétala'].median()+0.05, 12), fontsize=20,\r\n",
        "               color='g')\r\n",
        "\r\n",
        "fig.savefig('histograma_is.png', bbox_inches='tight')"
      ],
      "execution_count": null,
      "outputs": []
    },
    {
      "cell_type": "code",
      "metadata": {
        "id": "7LQjgsf4ro8u"
      },
      "source": [
        "fig = plt.figure(figsize=(5,4))\r\n",
        "eixo = fig.add_axes([0,0,1,1])\r\n",
        "\r\n",
        "df_ivc = df[df['espécie'] == 'Iris-virginica']\r\n",
        "\r\n",
        "mu, sigma = df_ivc['comprimento_pétala'].mean(), df_ivc['comprimento_pétala'].std()\r\n",
        "\r\n",
        "eixo.hist(df_ivc['comprimento_pétala'], bins=20)\r\n",
        "eixo.set_title('Iris Virginca', fontsize=15, pad=10)\r\n",
        "eixo.set_xlabel('Comprimento da pétala', fontsize=15)\r\n",
        "eixo.grid(True)\r\n",
        "\r\n",
        "eixo.annotate('$\\mu = {0:.2f}$\\n$\\sigma = {1:.2f}$'.format(mu, sigma),\r\n",
        "               xy=(6.3, 7), fontsize=20)\r\n",
        "\r\n",
        "eixo.axvline(mu, color = 'k', linestyle='--')\r\n",
        "eixo.annotate('média', xy=(mu, 8), fontsize=20)\r\n",
        "\r\n",
        "eixo.axvline(df_ivc['comprimento_pétala'].median(), color='g', linestyle='--')\r\n",
        "eixo.annotate('mediana', xy=(df_ivc['comprimento_pétala'].median(), 7), fontsize=20,\r\n",
        "               color='g')\r\n",
        "\r\n",
        "fig.savefig('histograma_ivg.png', bbox_inches='tight')"
      ],
      "execution_count": null,
      "outputs": []
    },
    {
      "cell_type": "code",
      "metadata": {
        "id": "WEhWbszwsinG"
      },
      "source": [
        "from PIL import Image\r\n",
        "\r\n",
        "largura, altura = Image.open('histograma_ivg.png').size\r\n",
        "combinada = Image.new(\"RGB\", (3*largura, altura))\r\n",
        "intervalo = 0\r\n",
        "for imagem in map(Image.open, ['histograma_iv.png', 'histograma_is.png',\r\n",
        "                               'histograma_ivg.png']):\r\n",
        "    combinada.paste(imagem, (intervalo, 0))\r\n",
        "    intervalo += largura\r\n",
        "\r\n",
        "combinada.save('combinada.png')"
      ],
      "execution_count": null,
      "outputs": []
    },
    {
      "cell_type": "code",
      "metadata": {
        "id": "MDbxKdjXtE6F"
      },
      "source": [
        ""
      ],
      "execution_count": null,
      "outputs": []
    }
  ]
}