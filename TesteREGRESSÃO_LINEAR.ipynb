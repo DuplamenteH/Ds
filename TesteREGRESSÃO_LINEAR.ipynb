{
  "nbformat": 4,
  "nbformat_minor": 0,
  "metadata": {
    "colab": {
      "name": "TesteREGRESSÃO_LINEAR.ipynb",
      "provenance": [],
      "authorship_tag": "ABX9TyNzCebzRNwVKpXXfLl2K+VF",
      "include_colab_link": true
    },
    "kernelspec": {
      "name": "python3",
      "display_name": "Python 3"
    }
  },
  "cells": [
    {
      "cell_type": "markdown",
      "metadata": {
        "id": "view-in-github",
        "colab_type": "text"
      },
      "source": [
        "<a href=\"https://colab.research.google.com/github/DuplamenteH/Ds/blob/master/TesteREGRESS%C3%83O_LINEAR.ipynb\" target=\"_parent\"><img src=\"https://colab.research.google.com/assets/colab-badge.svg\" alt=\"Open In Colab\"/></a>"
      ]
    },
    {
      "cell_type": "code",
      "metadata": {
        "id": "SyMl4yZZdMtX",
        "colab_type": "code",
        "colab": {}
      },
      "source": [
        "import pickle"
      ],
      "execution_count": 2,
      "outputs": []
    },
    {
      "cell_type": "code",
      "metadata": {
        "id": "OpanzTfddirw",
        "colab_type": "code",
        "colab": {}
      },
      "source": [
        "modelo = open('modelo_consumo_beer','rb')\n",
        "lm_new = pickle.load(modelo)\n",
        "modelo.close()"
      ],
      "execution_count": 4,
      "outputs": []
    },
    {
      "cell_type": "code",
      "metadata": {
        "id": "Vi2t6e93dj0e",
        "colab_type": "code",
        "colab": {
          "base_uri": "https://localhost:8080/",
          "height": 34
        },
        "outputId": "e1f5f4d2-47f8-45d0-c50a-5a7e4d84ad50"
      },
      "source": [
        "temp_max = 30.5\n",
        "chuva = 0.2\n",
        "fds = 0\n",
        "entrada = [[temp_max, chuva, fds]]\n",
        "print('{0:.2f} litros'.format(lm_new.predict(entrada)[0]))"
      ],
      "execution_count": 9,
      "outputs": [
        {
          "output_type": "stream",
          "text": [
            "26829.73 litros\n"
          ],
          "name": "stdout"
        }
      ]
    },
    {
      "cell_type": "code",
      "metadata": {
        "id": "jalBzFHNduhu",
        "colab_type": "code",
        "colab": {
          "base_uri": "https://localhost:8080/",
          "height": 34
        },
        "outputId": "b0a34353-bfa4-4f09-8b32-d4be4b11c860"
      },
      "source": [
        "temp_max = 30.5\n",
        "chuva = 0.2\n",
        "fds = 1\n",
        "entrada = [[temp_max, chuva, fds]]\n",
        "print('{0:.2f} litros'.format(lm_new.predict(entrada)[0]))"
      ],
      "execution_count": 17,
      "outputs": [
        {
          "output_type": "stream",
          "text": [
            "32209.58 litros\n"
          ],
          "name": "stdout"
        }
      ]
    },
    {
      "cell_type": "code",
      "metadata": {
        "id": "A3JS0ZHOdvws",
        "colab_type": "code",
        "colab": {
          "base_uri": "https://localhost:8080/",
          "height": 34
        },
        "outputId": "f7b180e9-d1f3-49f2-f1b7-61175de53742"
      },
      "source": [
        "temp_max = 35.5\n",
        "chuva = 0.2\n",
        "fds = 1\n",
        "entrada = [[temp_max, chuva, fds]]\n",
        "print('{0:.2f} litros'.format(lm_new.predict(entrada)[0]))"
      ],
      "execution_count": 13,
      "outputs": [
        {
          "output_type": "stream",
          "text": [
            "35651.08 litros\n"
          ],
          "name": "stdout"
        }
      ]
    },
    {
      "cell_type": "code",
      "metadata": {
        "id": "vr3tlfz_eP0R",
        "colab_type": "code",
        "colab": {}
      },
      "source": [
        "temp_max = 30\n",
        "chuva = 0.2\n",
        "fds = 1\n",
        "listaprevisões = []\n",
        "lista2 = []\n",
        "for i in range(1,5):\n",
        "    temp_max = temp_max+i\n",
        "    entrada = [[temp_max, chuva, fds]]\n",
        "    listaprevisões.append(lm_new.predict(entrada)[0].round(2))\n",
        "\n",
        "for i in range(1,5):\n",
        "    temp_max = temp_max+5\n",
        "    entrada = [[temp_max, chuva, fds]]\n",
        "    lista2.append(lm_new.predict(entrada)[0].round(2))\n",
        "\n"
      ],
      "execution_count": 49,
      "outputs": []
    },
    {
      "cell_type": "code",
      "metadata": {
        "id": "_VoxhP0-eZYH",
        "colab_type": "code",
        "colab": {
          "base_uri": "https://localhost:8080/",
          "height": 84
        },
        "outputId": "9eed4f36-7f6c-44f4-c585-84e5576999a2"
      },
      "source": [
        "for number in range(len(listaprevisões)):\n",
        "    print(listaprevisões[number])"
      ],
      "execution_count": 50,
      "outputs": [
        {
          "output_type": "stream",
          "text": [
            "32553.73\n",
            "33930.33\n",
            "35995.23\n",
            "38748.43\n"
          ],
          "name": "stdout"
        }
      ]
    },
    {
      "cell_type": "code",
      "metadata": {
        "id": "7MjL9ZZpg2_o",
        "colab_type": "code",
        "colab": {
          "base_uri": "https://localhost:8080/",
          "height": 84
        },
        "outputId": "fed6cc25-7d00-4b82-9d51-f3cc6f1349c9"
      },
      "source": [
        "for number in range(len(lista2)):\n",
        "    print(lista2[number])"
      ],
      "execution_count": 51,
      "outputs": [
        {
          "output_type": "stream",
          "text": [
            "42189.94\n",
            "45631.44\n",
            "49072.94\n",
            "52514.44\n"
          ],
          "name": "stdout"
        }
      ]
    },
    {
      "cell_type": "code",
      "metadata": {
        "id": "vZHKFFU_ieGD",
        "colab_type": "code",
        "colab": {}
      },
      "source": [
        ""
      ],
      "execution_count": null,
      "outputs": []
    }
  ]
}