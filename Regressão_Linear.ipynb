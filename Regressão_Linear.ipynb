{
  "nbformat": 4,
  "nbformat_minor": 0,
  "metadata": {
    "kernelspec": {
      "display_name": "Python 3",
      "language": "python",
      "name": "python3"
    },
    "language_info": {
      "codemirror_mode": {
        "name": "ipython",
        "version": 3
      },
      "file_extension": ".py",
      "mimetype": "text/x-python",
      "name": "python",
      "nbconvert_exporter": "python",
      "pygments_lexer": "ipython3",
      "version": "3.6.5"
    },
    "colab": {
      "name": "Regressão Linear.ipynb",
      "provenance": [],
      "include_colab_link": true
    }
  },
  "cells": [
    {
      "cell_type": "markdown",
      "metadata": {
        "id": "view-in-github",
        "colab_type": "text"
      },
      "source": [
        "<a href=\"https://colab.research.google.com/github/DuplamenteH/Ds/blob/master/Regress%C3%A3o_Linear.ipynb\" target=\"_parent\"><img src=\"https://colab.research.google.com/assets/colab-badge.svg\" alt=\"Open In Colab\"/></a>"
      ]
    },
    {
      "cell_type": "markdown",
      "metadata": {
        "id": "oEFRi5kGq6x8",
        "colab_type": "text"
      },
      "source": [
        "<h1 style='color: green; font-size: 36px; font-weight: bold;'>Data Science - Regressão Linear</h1>"
      ]
    },
    {
      "cell_type": "markdown",
      "metadata": {
        "id": "nb1_JPT4q6x_",
        "colab_type": "text"
      },
      "source": [
        "# <font color='red' style='font-size: 30px;'>Conhecendo o Dataset</font>\n",
        "<hr style='border: 2px solid red;'>"
      ]
    },
    {
      "cell_type": "markdown",
      "metadata": {
        "id": "5AZngdEwq6yA",
        "colab_type": "text"
      },
      "source": [
        "## Importando bibliotecas\n",
        "\n",
        "https://matplotlib.org/\n",
        "\n",
        "https://pandas.pydata.org/\n",
        "\n",
        "http://www.numpy.org/"
      ]
    },
    {
      "cell_type": "code",
      "metadata": {
        "id": "-e4eOnbHrKcp",
        "colab_type": "code",
        "colab": {
          "base_uri": "https://localhost:8080/",
          "height": 122
        },
        "outputId": "1ffa2215-d4e4-40c2-977a-9a8a4bd25995"
      },
      "source": [
        "from google.colab import drive\n",
        "drive.mount('/content/drive')"
      ],
      "execution_count": 1,
      "outputs": [
        {
          "output_type": "stream",
          "text": [
            "Go to this URL in a browser: https://accounts.google.com/o/oauth2/auth?client_id=947318989803-6bn6qk8qdgf4n4g3pfee6491hc0brc4i.apps.googleusercontent.com&redirect_uri=urn%3aietf%3awg%3aoauth%3a2.0%3aoob&response_type=code&scope=email%20https%3a%2f%2fwww.googleapis.com%2fauth%2fdocs.test%20https%3a%2f%2fwww.googleapis.com%2fauth%2fdrive%20https%3a%2f%2fwww.googleapis.com%2fauth%2fdrive.photos.readonly%20https%3a%2f%2fwww.googleapis.com%2fauth%2fpeopleapi.readonly\n",
            "\n",
            "Enter your authorization code:\n",
            "··········\n",
            "Mounted at /content/drive\n"
          ],
          "name": "stdout"
        }
      ]
    },
    {
      "cell_type": "code",
      "metadata": {
        "id": "xSVXBna1q6yC",
        "colab_type": "code",
        "colab": {}
      },
      "source": [
        "data = '/content/drive/My Drive/DadosAlura/Dados/Consumo_cerveja.csv'\n",
        "\n",
        "path = 'drive/My Drive/DadosAlura/'"
      ],
      "execution_count": 0,
      "outputs": []
    },
    {
      "cell_type": "code",
      "metadata": {
        "id": "DrDF-6Vesqm9",
        "colab_type": "code",
        "colab": {}
      },
      "source": [
        "import matplotlib.pyplot as plt\n",
        "import pandas as pd\n",
        "import numpy as np\n"
      ],
      "execution_count": 0,
      "outputs": []
    },
    {
      "cell_type": "markdown",
      "metadata": {
        "id": "38sA25dXq6yL",
        "colab_type": "text"
      },
      "source": [
        "## Bibliotecas opcionais\n",
        "\n",
        "https://docs.python.org/3/library/warnings.html"
      ]
    },
    {
      "cell_type": "code",
      "metadata": {
        "id": "zCsN0_Egq6yN",
        "colab_type": "code",
        "colab": {}
      },
      "source": [
        ""
      ],
      "execution_count": 0,
      "outputs": []
    },
    {
      "cell_type": "markdown",
      "metadata": {
        "id": "mBYLRIVxq6yT",
        "colab_type": "text"
      },
      "source": [
        "## O Dataset e o Projeto\n",
        "<hr>\n",
        "\n",
        "### Fonte: https://www.kaggle.com/dongeorge/beer-consumption-sao-paulo\n",
        "\n",
        "### Descrição:\n",
        "<p style='font-size: 18px; line-height: 2; margin: 10px 50px; text-align: justify;'>A cerveja é uma das bebidas mais democráticas e consumidas no mundo. Não sem razão, é perfeito para quase todas as situações, desde o happy hour até grandes festas de casamento.</p>\n",
        "\n",
        "<p style='font-size: 18px; line-height: 2; margin: 10px 50px; text-align: justify;'>O objetivo deste treinamento será estimar um modelo de <b>Machine Learning</b> utilizando a técnica de <b>Regressão Linear</b> para demonstrar os impactos das variáveis disponibilizadas neste dataset sobre o consumo de cerveja (Y). No final do projeto teremos um modelo de previsão para o consumo médio de cerveja segundo os inputs de um conjunto de variáveis (X's).</p>\n",
        "\n",
        "<p style='font-size: 18px; line-height: 2; margin: 10px 50px; text-align: justify;'>Os dados (amostra) foram coletados em São Paulo - Brasil, em uma área universitária, onde existem algumas festas com grupos de alunos de 18 a 28 anos de idade (média).</p>\n",
        "\n",
        "### Dados:\n",
        "<ul style='font-size: 18px; line-height: 2; text-align: justify;'>\n",
        "    <li><b>data</b> - Data</li>\n",
        "    <li><b>temp_media</b> - Temperatura Média (°C)</li>\n",
        "    <li><b>temp_min</b> - Temperatura Mínima (°C)</li>\n",
        "    <li><b>temp_max</b> - Temperatura Máxima (°C)</li>\n",
        "    <li><b>chuva</b> - Precipitação (mm)</li>\n",
        "    <li><b>fds</b> - Final de Semana (1 = Sim; 0 = Não)</li>\n",
        "    <li><b>consumo</b> - Consumo de Cerveja (litros)</li>\n",
        "</ul>"
      ]
    },
    {
      "cell_type": "markdown",
      "metadata": {
        "id": "yFf5mqSIq6yU",
        "colab_type": "text"
      },
      "source": [
        "## Leitura dos dados"
      ]
    },
    {
      "cell_type": "code",
      "metadata": {
        "id": "3oLHFAV8q6yW",
        "colab_type": "code",
        "colab": {}
      },
      "source": [
        "dados = pd.read_csv(data,sep=';')"
      ],
      "execution_count": 0,
      "outputs": []
    },
    {
      "cell_type": "markdown",
      "metadata": {
        "id": "aEeyw8JHq6ye",
        "colab_type": "text"
      },
      "source": [
        "## Visualizar os dados"
      ]
    },
    {
      "cell_type": "code",
      "metadata": {
        "scrolled": true,
        "id": "iL2jrPuWq6yf",
        "colab_type": "code",
        "colab": {
          "base_uri": "https://localhost:8080/",
          "height": 204
        },
        "outputId": "54b440ca-4dc3-442a-a7ef-e80807a87c66"
      },
      "source": [
        "dados.head()"
      ],
      "execution_count": 10,
      "outputs": [
        {
          "output_type": "execute_result",
          "data": {
            "text/html": [
              "<div>\n",
              "<style scoped>\n",
              "    .dataframe tbody tr th:only-of-type {\n",
              "        vertical-align: middle;\n",
              "    }\n",
              "\n",
              "    .dataframe tbody tr th {\n",
              "        vertical-align: top;\n",
              "    }\n",
              "\n",
              "    .dataframe thead th {\n",
              "        text-align: right;\n",
              "    }\n",
              "</style>\n",
              "<table border=\"1\" class=\"dataframe\">\n",
              "  <thead>\n",
              "    <tr style=\"text-align: right;\">\n",
              "      <th></th>\n",
              "      <th>data</th>\n",
              "      <th>temp_media</th>\n",
              "      <th>temp_min</th>\n",
              "      <th>temp_max</th>\n",
              "      <th>chuva</th>\n",
              "      <th>fds</th>\n",
              "      <th>consumo</th>\n",
              "    </tr>\n",
              "  </thead>\n",
              "  <tbody>\n",
              "    <tr>\n",
              "      <th>0</th>\n",
              "      <td>01/01/2015</td>\n",
              "      <td>27.30</td>\n",
              "      <td>23.9</td>\n",
              "      <td>32.5</td>\n",
              "      <td>0.0</td>\n",
              "      <td>0</td>\n",
              "      <td>25461</td>\n",
              "    </tr>\n",
              "    <tr>\n",
              "      <th>1</th>\n",
              "      <td>02/01/2015</td>\n",
              "      <td>27.02</td>\n",
              "      <td>24.5</td>\n",
              "      <td>33.5</td>\n",
              "      <td>0.0</td>\n",
              "      <td>0</td>\n",
              "      <td>28972</td>\n",
              "    </tr>\n",
              "    <tr>\n",
              "      <th>2</th>\n",
              "      <td>03/01/2015</td>\n",
              "      <td>24.82</td>\n",
              "      <td>22.4</td>\n",
              "      <td>29.9</td>\n",
              "      <td>0.0</td>\n",
              "      <td>1</td>\n",
              "      <td>30814</td>\n",
              "    </tr>\n",
              "    <tr>\n",
              "      <th>3</th>\n",
              "      <td>04/01/2015</td>\n",
              "      <td>23.98</td>\n",
              "      <td>21.5</td>\n",
              "      <td>28.6</td>\n",
              "      <td>1.2</td>\n",
              "      <td>1</td>\n",
              "      <td>29799</td>\n",
              "    </tr>\n",
              "    <tr>\n",
              "      <th>4</th>\n",
              "      <td>05/01/2015</td>\n",
              "      <td>23.82</td>\n",
              "      <td>21.0</td>\n",
              "      <td>28.3</td>\n",
              "      <td>0.0</td>\n",
              "      <td>0</td>\n",
              "      <td>28900</td>\n",
              "    </tr>\n",
              "  </tbody>\n",
              "</table>\n",
              "</div>"
            ],
            "text/plain": [
              "         data  temp_media  temp_min  temp_max  chuva  fds  consumo\n",
              "0  01/01/2015       27.30      23.9      32.5    0.0    0    25461\n",
              "1  02/01/2015       27.02      24.5      33.5    0.0    0    28972\n",
              "2  03/01/2015       24.82      22.4      29.9    0.0    1    30814\n",
              "3  04/01/2015       23.98      21.5      28.6    1.2    1    29799\n",
              "4  05/01/2015       23.82      21.0      28.3    0.0    0    28900"
            ]
          },
          "metadata": {
            "tags": []
          },
          "execution_count": 10
        }
      ]
    },
    {
      "cell_type": "markdown",
      "metadata": {
        "id": "ouN0eJecq6yl",
        "colab_type": "text"
      },
      "source": [
        "## Verificando o tamanho do dataset"
      ]
    },
    {
      "cell_type": "code",
      "metadata": {
        "id": "sA2y9S8Pq6yn",
        "colab_type": "code",
        "colab": {
          "base_uri": "https://localhost:8080/",
          "height": 34
        },
        "outputId": "61d5f1d3-2756-4b8b-88bc-3eb2cd7e440b"
      },
      "source": [
        "dados.shape"
      ],
      "execution_count": 11,
      "outputs": [
        {
          "output_type": "execute_result",
          "data": {
            "text/plain": [
              "(365, 7)"
            ]
          },
          "metadata": {
            "tags": []
          },
          "execution_count": 11
        }
      ]
    },
    {
      "cell_type": "markdown",
      "metadata": {
        "id": "_Fi4jfR0q6yu",
        "colab_type": "text"
      },
      "source": [
        "# <font color='red' style='font-size: 30px;'>Análises Preliminares</font>\n",
        "<hr style='border: 2px solid red;'>"
      ]
    },
    {
      "cell_type": "markdown",
      "metadata": {
        "id": "TiawvWY9q6yv",
        "colab_type": "text"
      },
      "source": [
        "## Estatísticas descritivas"
      ]
    },
    {
      "cell_type": "code",
      "metadata": {
        "id": "dXryBbadq6yx",
        "colab_type": "code",
        "colab": {
          "base_uri": "https://localhost:8080/",
          "height": 297
        },
        "outputId": "b2d32110-f2a8-43b0-fa06-de9a90f73c24"
      },
      "source": [
        "dados.describe()"
      ],
      "execution_count": 12,
      "outputs": [
        {
          "output_type": "execute_result",
          "data": {
            "text/html": [
              "<div>\n",
              "<style scoped>\n",
              "    .dataframe tbody tr th:only-of-type {\n",
              "        vertical-align: middle;\n",
              "    }\n",
              "\n",
              "    .dataframe tbody tr th {\n",
              "        vertical-align: top;\n",
              "    }\n",
              "\n",
              "    .dataframe thead th {\n",
              "        text-align: right;\n",
              "    }\n",
              "</style>\n",
              "<table border=\"1\" class=\"dataframe\">\n",
              "  <thead>\n",
              "    <tr style=\"text-align: right;\">\n",
              "      <th></th>\n",
              "      <th>temp_media</th>\n",
              "      <th>temp_min</th>\n",
              "      <th>temp_max</th>\n",
              "      <th>chuva</th>\n",
              "      <th>fds</th>\n",
              "      <th>consumo</th>\n",
              "    </tr>\n",
              "  </thead>\n",
              "  <tbody>\n",
              "    <tr>\n",
              "      <th>count</th>\n",
              "      <td>365.000000</td>\n",
              "      <td>365.000000</td>\n",
              "      <td>365.000000</td>\n",
              "      <td>365.000000</td>\n",
              "      <td>365.000000</td>\n",
              "      <td>365.000000</td>\n",
              "    </tr>\n",
              "    <tr>\n",
              "      <th>mean</th>\n",
              "      <td>21.226356</td>\n",
              "      <td>17.461370</td>\n",
              "      <td>26.611507</td>\n",
              "      <td>5.196712</td>\n",
              "      <td>0.284932</td>\n",
              "      <td>25401.367123</td>\n",
              "    </tr>\n",
              "    <tr>\n",
              "      <th>std</th>\n",
              "      <td>3.180108</td>\n",
              "      <td>2.826185</td>\n",
              "      <td>4.317366</td>\n",
              "      <td>12.417844</td>\n",
              "      <td>0.452001</td>\n",
              "      <td>4399.142703</td>\n",
              "    </tr>\n",
              "    <tr>\n",
              "      <th>min</th>\n",
              "      <td>12.900000</td>\n",
              "      <td>10.600000</td>\n",
              "      <td>14.500000</td>\n",
              "      <td>0.000000</td>\n",
              "      <td>0.000000</td>\n",
              "      <td>14343.000000</td>\n",
              "    </tr>\n",
              "    <tr>\n",
              "      <th>25%</th>\n",
              "      <td>19.020000</td>\n",
              "      <td>15.300000</td>\n",
              "      <td>23.800000</td>\n",
              "      <td>0.000000</td>\n",
              "      <td>0.000000</td>\n",
              "      <td>22008.000000</td>\n",
              "    </tr>\n",
              "    <tr>\n",
              "      <th>50%</th>\n",
              "      <td>21.380000</td>\n",
              "      <td>17.900000</td>\n",
              "      <td>26.900000</td>\n",
              "      <td>0.000000</td>\n",
              "      <td>0.000000</td>\n",
              "      <td>24867.000000</td>\n",
              "    </tr>\n",
              "    <tr>\n",
              "      <th>75%</th>\n",
              "      <td>23.280000</td>\n",
              "      <td>19.600000</td>\n",
              "      <td>29.400000</td>\n",
              "      <td>3.200000</td>\n",
              "      <td>1.000000</td>\n",
              "      <td>28631.000000</td>\n",
              "    </tr>\n",
              "    <tr>\n",
              "      <th>max</th>\n",
              "      <td>28.860000</td>\n",
              "      <td>24.500000</td>\n",
              "      <td>36.500000</td>\n",
              "      <td>94.800000</td>\n",
              "      <td>1.000000</td>\n",
              "      <td>37937.000000</td>\n",
              "    </tr>\n",
              "  </tbody>\n",
              "</table>\n",
              "</div>"
            ],
            "text/plain": [
              "       temp_media    temp_min    temp_max       chuva         fds       consumo\n",
              "count  365.000000  365.000000  365.000000  365.000000  365.000000    365.000000\n",
              "mean    21.226356   17.461370   26.611507    5.196712    0.284932  25401.367123\n",
              "std      3.180108    2.826185    4.317366   12.417844    0.452001   4399.142703\n",
              "min     12.900000   10.600000   14.500000    0.000000    0.000000  14343.000000\n",
              "25%     19.020000   15.300000   23.800000    0.000000    0.000000  22008.000000\n",
              "50%     21.380000   17.900000   26.900000    0.000000    0.000000  24867.000000\n",
              "75%     23.280000   19.600000   29.400000    3.200000    1.000000  28631.000000\n",
              "max     28.860000   24.500000   36.500000   94.800000    1.000000  37937.000000"
            ]
          },
          "metadata": {
            "tags": []
          },
          "execution_count": 12
        }
      ]
    },
    {
      "cell_type": "markdown",
      "metadata": {
        "id": "GvzPywNoq6y6",
        "colab_type": "text"
      },
      "source": [
        "## Matriz de correlação\n",
        "\n",
        "<p style='font-size: 18px; line-height: 2; margin: 10px 50px; text-align: justify;'>O <b>coeficiente de correlação</b> é uma medida de associação linear entre duas variáveis e situa-se entre <b>-1</b> e <b>+1</b> sendo que <b>-1</b> indica associação negativa perfeita e <b>+1</b> indica associação positiva perfeita.</p>"
      ]
    },
    {
      "cell_type": "code",
      "metadata": {
        "id": "pt-WVmjhq6y7",
        "colab_type": "code",
        "colab": {
          "base_uri": "https://localhost:8080/",
          "height": 235
        },
        "outputId": "98b87618-fa2c-4aa8-e6f5-cb0997992631"
      },
      "source": [
        "dados.corr().round(4)"
      ],
      "execution_count": 14,
      "outputs": [
        {
          "output_type": "execute_result",
          "data": {
            "text/html": [
              "<div>\n",
              "<style scoped>\n",
              "    .dataframe tbody tr th:only-of-type {\n",
              "        vertical-align: middle;\n",
              "    }\n",
              "\n",
              "    .dataframe tbody tr th {\n",
              "        vertical-align: top;\n",
              "    }\n",
              "\n",
              "    .dataframe thead th {\n",
              "        text-align: right;\n",
              "    }\n",
              "</style>\n",
              "<table border=\"1\" class=\"dataframe\">\n",
              "  <thead>\n",
              "    <tr style=\"text-align: right;\">\n",
              "      <th></th>\n",
              "      <th>temp_media</th>\n",
              "      <th>temp_min</th>\n",
              "      <th>temp_max</th>\n",
              "      <th>chuva</th>\n",
              "      <th>fds</th>\n",
              "      <th>consumo</th>\n",
              "    </tr>\n",
              "  </thead>\n",
              "  <tbody>\n",
              "    <tr>\n",
              "      <th>temp_media</th>\n",
              "      <td>1.0000</td>\n",
              "      <td>0.8628</td>\n",
              "      <td>0.9225</td>\n",
              "      <td>0.0244</td>\n",
              "      <td>-0.0508</td>\n",
              "      <td>0.5746</td>\n",
              "    </tr>\n",
              "    <tr>\n",
              "      <th>temp_min</th>\n",
              "      <td>0.8628</td>\n",
              "      <td>1.0000</td>\n",
              "      <td>0.6729</td>\n",
              "      <td>0.0986</td>\n",
              "      <td>-0.0595</td>\n",
              "      <td>0.3925</td>\n",
              "    </tr>\n",
              "    <tr>\n",
              "      <th>temp_max</th>\n",
              "      <td>0.9225</td>\n",
              "      <td>0.6729</td>\n",
              "      <td>1.0000</td>\n",
              "      <td>-0.0493</td>\n",
              "      <td>-0.0403</td>\n",
              "      <td>0.6427</td>\n",
              "    </tr>\n",
              "    <tr>\n",
              "      <th>chuva</th>\n",
              "      <td>0.0244</td>\n",
              "      <td>0.0986</td>\n",
              "      <td>-0.0493</td>\n",
              "      <td>1.0000</td>\n",
              "      <td>0.0016</td>\n",
              "      <td>-0.1938</td>\n",
              "    </tr>\n",
              "    <tr>\n",
              "      <th>fds</th>\n",
              "      <td>-0.0508</td>\n",
              "      <td>-0.0595</td>\n",
              "      <td>-0.0403</td>\n",
              "      <td>0.0016</td>\n",
              "      <td>1.0000</td>\n",
              "      <td>0.5060</td>\n",
              "    </tr>\n",
              "    <tr>\n",
              "      <th>consumo</th>\n",
              "      <td>0.5746</td>\n",
              "      <td>0.3925</td>\n",
              "      <td>0.6427</td>\n",
              "      <td>-0.1938</td>\n",
              "      <td>0.5060</td>\n",
              "      <td>1.0000</td>\n",
              "    </tr>\n",
              "  </tbody>\n",
              "</table>\n",
              "</div>"
            ],
            "text/plain": [
              "            temp_media  temp_min  temp_max   chuva     fds  consumo\n",
              "temp_media      1.0000    0.8628    0.9225  0.0244 -0.0508   0.5746\n",
              "temp_min        0.8628    1.0000    0.6729  0.0986 -0.0595   0.3925\n",
              "temp_max        0.9225    0.6729    1.0000 -0.0493 -0.0403   0.6427\n",
              "chuva           0.0244    0.0986   -0.0493  1.0000  0.0016  -0.1938\n",
              "fds            -0.0508   -0.0595   -0.0403  0.0016  1.0000   0.5060\n",
              "consumo         0.5746    0.3925    0.6427 -0.1938  0.5060   1.0000"
            ]
          },
          "metadata": {
            "tags": []
          },
          "execution_count": 14
        }
      ]
    },
    {
      "cell_type": "markdown",
      "metadata": {
        "id": "aObmCvlaq6zD",
        "colab_type": "text"
      },
      "source": [
        "# <font color='red' style='font-size: 30px;'>Comportamento da Variável Dependente (Y)</font>\n",
        "<hr style='border: 2px solid red;'>"
      ]
    },
    {
      "cell_type": "markdown",
      "metadata": {
        "id": "UkMYyGTGq6zE",
        "colab_type": "text"
      },
      "source": [
        "# Análises gráficas"
      ]
    },
    {
      "cell_type": "markdown",
      "metadata": {
        "id": "a1A3NT29q6zG",
        "colab_type": "text"
      },
      "source": [
        "## Plotando a variável *dependente* (y)\n",
        "https://pandas.pydata.org/pandas-docs/stable/visualization.html"
      ]
    },
    {
      "cell_type": "code",
      "metadata": {
        "id": "3Os6XB40q6zH",
        "colab_type": "code",
        "colab": {}
      },
      "source": [
        ""
      ],
      "execution_count": 0,
      "outputs": []
    },
    {
      "cell_type": "markdown",
      "metadata": {
        "id": "fYDlNpY4q6zO",
        "colab_type": "text"
      },
      "source": [
        "# <font color='red' style='font-size: 30px;'>Box Plot</font>\n",
        "<hr style='border: 2px solid red;'>"
      ]
    },
    {
      "cell_type": "markdown",
      "metadata": {
        "id": "ErydiWttq6zP",
        "colab_type": "text"
      },
      "source": [
        "<img width='700px' src='/content/drive/My Drive/DadosAlura/img/Box-Plot.png'>"
      ]
    },
    {
      "cell_type": "markdown",
      "metadata": {
        "id": "KwrVQgwWq6zQ",
        "colab_type": "text"
      },
      "source": [
        "## Importando biblioteca seaborn\n",
        "https://seaborn.pydata.org/\n",
        "<p style='font-size: 18px; line-height: 2; margin: 10px 50px; text-align: justify;'>O Seaborn é uma biblioteca Python de visualização de dados baseada no matplotlib. Ela fornece uma interface de alto nível para desenhar gráficos estatísticos.</p>"
      ]
    },
    {
      "cell_type": "code",
      "metadata": {
        "id": "BO8KwoEQq6zT",
        "colab_type": "code",
        "colab": {}
      },
      "source": [
        ""
      ],
      "execution_count": 0,
      "outputs": []
    },
    {
      "cell_type": "markdown",
      "metadata": {
        "id": "SAq4vClbq6za",
        "colab_type": "text"
      },
      "source": [
        "## Box plot da variável *dependente* (y)"
      ]
    },
    {
      "cell_type": "markdown",
      "metadata": {
        "id": "2DXf4sjQq6zc",
        "colab_type": "text"
      },
      "source": [
        "https://seaborn.pydata.org/generated/seaborn.boxplot.html?highlight=boxplot#seaborn.boxplot"
      ]
    },
    {
      "cell_type": "code",
      "metadata": {
        "id": "Uq35aUdcq6zd",
        "colab_type": "code",
        "colab": {}
      },
      "source": [
        ""
      ],
      "execution_count": 0,
      "outputs": []
    },
    {
      "cell_type": "markdown",
      "metadata": {
        "id": "Tn7aUS6sq6zi",
        "colab_type": "text"
      },
      "source": [
        "# <font color='red' style='font-size: 30px;'>Box Plot com Duas Variáveis</font>\n",
        "<hr style='border: 2px solid red;'>"
      ]
    },
    {
      "cell_type": "markdown",
      "metadata": {
        "id": "31fyMZneq6zj",
        "colab_type": "text"
      },
      "source": [
        "## Investigando a variável *dependente* (y) segundo determinada característica"
      ]
    },
    {
      "cell_type": "code",
      "metadata": {
        "id": "skpXnGuGq6zk",
        "colab_type": "code",
        "colab": {}
      },
      "source": [
        ""
      ],
      "execution_count": 0,
      "outputs": []
    },
    {
      "cell_type": "markdown",
      "metadata": {
        "id": "sPhuMuLHq6zr",
        "colab_type": "text"
      },
      "source": [
        "## Configurações de estilo e cor da biblioteca *seaborn*\n",
        "\n",
        "### Controle de estilo\n",
        "\n",
        "> ####  API\n",
        "> https://seaborn.pydata.org/api.html#style-api\n",
        "\n",
        "> #### Tutorial\n",
        "> https://seaborn.pydata.org/tutorial/aesthetics.html#aesthetics-tutorial\n",
        "\n",
        "### Paleta de cores\n",
        "\n",
        "> #### API\n",
        "> https://seaborn.pydata.org/api.html#palette-api\n",
        "\n",
        "> #### Tutorial\n",
        "> https://seaborn.pydata.org/tutorial/color_palettes.html#palette-tutorial"
      ]
    },
    {
      "cell_type": "code",
      "metadata": {
        "id": "POrPsPDUq6zt",
        "colab_type": "code",
        "colab": {}
      },
      "source": [
        ""
      ],
      "execution_count": 0,
      "outputs": []
    },
    {
      "cell_type": "code",
      "metadata": {
        "id": "ffrhq_yGq6zy",
        "colab_type": "code",
        "colab": {}
      },
      "source": [
        ""
      ],
      "execution_count": 0,
      "outputs": []
    },
    {
      "cell_type": "markdown",
      "metadata": {
        "id": "qusvUo64q6z5",
        "colab_type": "text"
      },
      "source": [
        "# <font color='red' style='font-size: 30px;'>Distribuição de Frequências</font>\n",
        "<hr style='border: 2px solid red;'>"
      ]
    },
    {
      "cell_type": "markdown",
      "metadata": {
        "id": "ZylV_mgpq6z8",
        "colab_type": "text"
      },
      "source": [
        "## Distribuição de frequências da variável *dependente* (y)"
      ]
    },
    {
      "cell_type": "markdown",
      "metadata": {
        "id": "jmpfI1TOq6z-",
        "colab_type": "text"
      },
      "source": [
        "https://seaborn.pydata.org/generated/seaborn.distplot.html?highlight=distplot#seaborn.distplot"
      ]
    },
    {
      "cell_type": "code",
      "metadata": {
        "id": "rawt673Oq60A",
        "colab_type": "code",
        "colab": {}
      },
      "source": [
        ""
      ],
      "execution_count": 0,
      "outputs": []
    },
    {
      "cell_type": "markdown",
      "metadata": {
        "id": "gXnqZQgVq60G",
        "colab_type": "text"
      },
      "source": [
        "# <font color='red' style='font-size: 30px;'>Variável Dependente X Variáveis Explicativas (pairplot)</font>\n",
        "<hr style='border: 2px solid red;'>"
      ]
    },
    {
      "cell_type": "markdown",
      "metadata": {
        "id": "oUkmxNoRq60H",
        "colab_type": "text"
      },
      "source": [
        "## Gráficos de dispersão entre as variáveis do dataset"
      ]
    },
    {
      "cell_type": "markdown",
      "metadata": {
        "id": "duVXlNt9q60J",
        "colab_type": "text"
      },
      "source": [
        "## seaborn.pairplot\n",
        "\n",
        "https://seaborn.pydata.org/generated/seaborn.pairplot.html?highlight=pairplot#seaborn.pairplot\n",
        "\n",
        "<p style='font-size: 18px; line-height: 2; margin: 10px 50px; text-align: justify;'>Plota o relacionamento entre pares de variáveis em um dataset.</p>"
      ]
    },
    {
      "cell_type": "code",
      "metadata": {
        "id": "2tiO7IHDq60K",
        "colab_type": "code",
        "colab": {}
      },
      "source": [
        ""
      ],
      "execution_count": 0,
      "outputs": []
    },
    {
      "cell_type": "markdown",
      "metadata": {
        "id": "pCoAEm9Wq60Q",
        "colab_type": "text"
      },
      "source": [
        "## Plotando o pairplot fixando somente uma variável no eixo y"
      ]
    },
    {
      "cell_type": "code",
      "metadata": {
        "id": "0MSLhYEqq60R",
        "colab_type": "code",
        "colab": {}
      },
      "source": [
        ""
      ],
      "execution_count": 0,
      "outputs": []
    },
    {
      "cell_type": "code",
      "metadata": {
        "id": "NRVNL74-q60W",
        "colab_type": "code",
        "colab": {}
      },
      "source": [
        ""
      ],
      "execution_count": 0,
      "outputs": []
    },
    {
      "cell_type": "markdown",
      "metadata": {
        "id": "uctTgs-Gq60b",
        "colab_type": "text"
      },
      "source": [
        "# <font color='red' style='font-size: 30px;'>Variável Dependente X Variáveis Explicativas (jointplot)</font>\n",
        "<hr style='border: 2px solid red;'>"
      ]
    },
    {
      "cell_type": "markdown",
      "metadata": {
        "id": "1JgC93Y9q60c",
        "colab_type": "text"
      },
      "source": [
        "## seaborn.jointplot\n",
        "\n",
        "https://seaborn.pydata.org/generated/seaborn.jointplot.html?highlight=jointplot#seaborn.jointplot\n",
        "\n",
        "<p style='font-size: 18px; line-height: 2; margin: 10px 50px; text-align: justify;'>Plota o relacionamento entre duas variáveis e suas respectivas distribuições de frequência.</p>"
      ]
    },
    {
      "cell_type": "code",
      "metadata": {
        "id": "jQxSdIQKq60d",
        "colab_type": "code",
        "colab": {}
      },
      "source": [
        ""
      ],
      "execution_count": 0,
      "outputs": []
    },
    {
      "cell_type": "markdown",
      "metadata": {
        "id": "r_kBngjtq60i",
        "colab_type": "text"
      },
      "source": [
        "## Plotando um jointplot com a reta de regressão estimada"
      ]
    },
    {
      "cell_type": "code",
      "metadata": {
        "id": "Y4XWpLOHq60k",
        "colab_type": "code",
        "colab": {}
      },
      "source": [
        ""
      ],
      "execution_count": 0,
      "outputs": []
    },
    {
      "cell_type": "markdown",
      "metadata": {
        "id": "URzmius1q60r",
        "colab_type": "text"
      },
      "source": [
        "# <font color='red' style='font-size: 30px;'>Variável Dependente X Variáveis Explicativas (lmplot)</font>\n",
        "<hr style='border: 2px solid red;'>"
      ]
    },
    {
      "cell_type": "markdown",
      "metadata": {
        "id": "D565To8Aq60s",
        "colab_type": "text"
      },
      "source": [
        "## seaborn.lmplot\n",
        "\n",
        "https://seaborn.pydata.org/generated/seaborn.lmplot.html?highlight=lmplot#seaborn.lmplot\n",
        "\n",
        "<p style='font-size: 18px; line-height: 2; margin: 10px 50px; text-align: justify;'>Plota a reta de regressão entre duas variáveis juntamente com a dispersão entre elas.</p>"
      ]
    },
    {
      "cell_type": "code",
      "metadata": {
        "id": "dMR4SO6Rq60u",
        "colab_type": "code",
        "colab": {}
      },
      "source": [
        ""
      ],
      "execution_count": 0,
      "outputs": []
    },
    {
      "cell_type": "markdown",
      "metadata": {
        "id": "OhxkpNP8q601",
        "colab_type": "text"
      },
      "source": [
        "## Plotando um lmplot utilizando uma terceira variável na análise (tipo I)"
      ]
    },
    {
      "cell_type": "code",
      "metadata": {
        "id": "6YWDeU8Xq602",
        "colab_type": "code",
        "colab": {}
      },
      "source": [
        ""
      ],
      "execution_count": 0,
      "outputs": []
    },
    {
      "cell_type": "markdown",
      "metadata": {
        "id": "WhOmKwvmq606",
        "colab_type": "text"
      },
      "source": [
        "## Plotando um lmplot utilizando uma terceira variável na análise (tipo II)"
      ]
    },
    {
      "cell_type": "code",
      "metadata": {
        "scrolled": false,
        "id": "8trZ5SKaq607",
        "colab_type": "code",
        "colab": {}
      },
      "source": [
        ""
      ],
      "execution_count": 0,
      "outputs": []
    },
    {
      "cell_type": "markdown",
      "metadata": {
        "id": "yHw6er7cq61D",
        "colab_type": "text"
      },
      "source": [
        "# <font color='red' style='font-size: 30px;'>Estimando um Modelo de Regressão Linear para o Consumo</font>\n",
        "<hr style='border: 2px solid red;'>"
      ]
    },
    {
      "cell_type": "markdown",
      "metadata": {
        "id": "-J27sDS-q61E",
        "colab_type": "text"
      },
      "source": [
        "# Regresão Linear\n",
        "<hr>\n",
        "\n",
        "<p style='font-size: 20px; line-height: 2; margin: 10px 50px; text-align: justify;'>A análise de regressão diz respeito ao estudo da dependência de uma variável (a variável <b>dependente</b>) em relação a uma ou mais variáveis, as variáveis explanatórias, visando estimar e/ou prever o valor médio da primeira em termos dos valores conhecidos ou fixados das segundas.</p>\n",
        "\n",
        "\n",
        "## scikit-learn (https://scikit-learn.org/stable/)\n",
        "\n",
        "<p style='font-size: 20px; line-height: 2; margin: 10px 50px; text-align: justify;'>O *scikit-learn* é um módulo Python especializado em soluções para *machine learning*.</p>\n",
        "\n"
      ]
    },
    {
      "cell_type": "markdown",
      "metadata": {
        "id": "Se102Ojkq61F",
        "colab_type": "text"
      },
      "source": [
        "## Importando o *train_test_split* da biblioteca *scikit-learn*\n",
        "\n",
        "https://scikit-learn.org/stable/modules/generated/sklearn.model_selection.train_test_split.html"
      ]
    },
    {
      "cell_type": "code",
      "metadata": {
        "id": "SE7XE13pq61G",
        "colab_type": "code",
        "colab": {}
      },
      "source": [
        ""
      ],
      "execution_count": 0,
      "outputs": []
    },
    {
      "cell_type": "markdown",
      "metadata": {
        "id": "qAMUKCaYq61M",
        "colab_type": "text"
      },
      "source": [
        "## Criando uma Series (pandas) para armazenar o Consumo de Cerveja (y)"
      ]
    },
    {
      "cell_type": "code",
      "metadata": {
        "id": "62a3JVZjq61O",
        "colab_type": "code",
        "colab": {}
      },
      "source": [
        ""
      ],
      "execution_count": 0,
      "outputs": []
    },
    {
      "cell_type": "markdown",
      "metadata": {
        "id": "hQ1xB9K6q61U",
        "colab_type": "text"
      },
      "source": [
        "## Criando um DataFrame (pandas) para armazenar as variáveis explicativas (X)"
      ]
    },
    {
      "cell_type": "code",
      "metadata": {
        "id": "07iKqkQWq61V",
        "colab_type": "code",
        "colab": {}
      },
      "source": [
        ""
      ],
      "execution_count": 0,
      "outputs": []
    },
    {
      "cell_type": "markdown",
      "metadata": {
        "id": "PWNNw551q61Z",
        "colab_type": "text"
      },
      "source": [
        "## Criando os datasets de treino e de teste"
      ]
    },
    {
      "cell_type": "code",
      "metadata": {
        "id": "g_EBQt6Tq61a",
        "colab_type": "code",
        "colab": {}
      },
      "source": [
        ""
      ],
      "execution_count": 0,
      "outputs": []
    },
    {
      "cell_type": "markdown",
      "metadata": {
        "id": "1ftltPcxq61i",
        "colab_type": "text"
      },
      "source": [
        "## Verificando os tamanhos dos arquivos gerados pela função *train_test_split*"
      ]
    },
    {
      "cell_type": "code",
      "metadata": {
        "id": "Krt7w99Pq61i",
        "colab_type": "code",
        "colab": {}
      },
      "source": [
        ""
      ],
      "execution_count": 0,
      "outputs": []
    },
    {
      "cell_type": "code",
      "metadata": {
        "id": "gJuqmrBaq61n",
        "colab_type": "code",
        "colab": {}
      },
      "source": [
        ""
      ],
      "execution_count": 0,
      "outputs": []
    },
    {
      "cell_type": "code",
      "metadata": {
        "id": "U10wRZHuq61r",
        "colab_type": "code",
        "colab": {}
      },
      "source": [
        ""
      ],
      "execution_count": 0,
      "outputs": []
    },
    {
      "cell_type": "code",
      "metadata": {
        "id": "odK8DZNcq61z",
        "colab_type": "code",
        "colab": {}
      },
      "source": [
        ""
      ],
      "execution_count": 0,
      "outputs": []
    },
    {
      "cell_type": "code",
      "metadata": {
        "id": "5en-W9KNq614",
        "colab_type": "code",
        "colab": {}
      },
      "source": [
        ""
      ],
      "execution_count": 0,
      "outputs": []
    },
    {
      "cell_type": "markdown",
      "metadata": {
        "id": "ym2WkR7Tq619",
        "colab_type": "text"
      },
      "source": [
        "<img width='600px' src='../Dados/img/reg_01.jpg'>"
      ]
    },
    {
      "cell_type": "markdown",
      "metadata": {
        "id": "Fq8z4nYyq61-",
        "colab_type": "text"
      },
      "source": [
        "## Importando *LinearRegression* e *metrics* da biblioteca *scikit-learn*\n",
        "\n",
        "https://scikit-learn.org/stable/modules/generated/sklearn.linear_model.LinearRegression.html\n",
        "\n",
        "https://scikit-learn.org/stable/modules/classes.html#regression-metrics"
      ]
    },
    {
      "cell_type": "code",
      "metadata": {
        "id": "rGNT7M3nq61_",
        "colab_type": "code",
        "colab": {}
      },
      "source": [
        ""
      ],
      "execution_count": 0,
      "outputs": []
    },
    {
      "cell_type": "markdown",
      "metadata": {
        "id": "4JbDj4PKq62H",
        "colab_type": "text"
      },
      "source": [
        "## Instanciando a classe *LinearRegression()*"
      ]
    },
    {
      "cell_type": "code",
      "metadata": {
        "id": "emz4e7yHq62I",
        "colab_type": "code",
        "colab": {}
      },
      "source": [
        ""
      ],
      "execution_count": 0,
      "outputs": []
    },
    {
      "cell_type": "markdown",
      "metadata": {
        "id": "QvhI-gfeq62O",
        "colab_type": "text"
      },
      "source": [
        "## Utilizando o método *fit()* do objeto \"modelo\" para estimar nosso modelo linear utilizando os dados de TREINO (y_train e X_train)\n",
        "\n",
        "https://scikit-learn.org/stable/modules/generated/sklearn.linear_model.LinearRegression.html#sklearn.linear_model.LinearRegression.fit"
      ]
    },
    {
      "cell_type": "code",
      "metadata": {
        "id": "jVubm4EAq62R",
        "colab_type": "code",
        "colab": {}
      },
      "source": [
        ""
      ],
      "execution_count": 0,
      "outputs": []
    },
    {
      "cell_type": "markdown",
      "metadata": {
        "id": "5ZhKNd8oq62a",
        "colab_type": "text"
      },
      "source": [
        "## Obtendo o coeficiente de determinação (R²) do modelo estimado com os dados de TREINO\n",
        "\n",
        "https://scikit-learn.org/stable/modules/generated/sklearn.linear_model.LinearRegression.html#sklearn.linear_model.LinearRegression.score\n",
        "\n",
        "### Coeficiente de Determinação - R²\n",
        "\n",
        "O coeficiente de determinação (R²) é uma medida resumida que diz quanto a linha de regressão ajusta-se aos dados. É um valor entra 0 e 1.\n",
        "\n",
        "$$R^2(y, \\hat{y}) = 1 - \\frac {\\sum_{i=0}^{n-1}(y_i-\\hat{y}_i)^2}{\\sum_{i=0}^{n-1}(y_i-\\bar{y}_i)^2}$$"
      ]
    },
    {
      "cell_type": "code",
      "metadata": {
        "id": "_KhD6TN4q62b",
        "colab_type": "code",
        "colab": {}
      },
      "source": [
        ""
      ],
      "execution_count": 0,
      "outputs": []
    },
    {
      "cell_type": "markdown",
      "metadata": {
        "id": "M6kwWgJsq62m",
        "colab_type": "text"
      },
      "source": [
        "## Gerando previsões para os dados de TESTE (X_test) utilizando o método *predict()* do objeto \"modelo\"\n",
        "\n",
        "https://scikit-learn.org/stable/modules/generated/sklearn.linear_model.LinearRegression.html#sklearn.linear_model.LinearRegression.predict"
      ]
    },
    {
      "cell_type": "code",
      "metadata": {
        "id": "m_mq2YVqq62n",
        "colab_type": "code",
        "colab": {}
      },
      "source": [
        ""
      ],
      "execution_count": 0,
      "outputs": []
    },
    {
      "cell_type": "markdown",
      "metadata": {
        "id": "uU8-M9A4q62t",
        "colab_type": "text"
      },
      "source": [
        "## Obtendo o coeficiente de determinação (R²) para as previsões do nosso modelo\n",
        "\n",
        "https://scikit-learn.org/stable/modules/generated/sklearn.metrics.r2_score.html#sklearn.metrics.r2_score"
      ]
    },
    {
      "cell_type": "code",
      "metadata": {
        "id": "prJ_DE82q62u",
        "colab_type": "code",
        "colab": {}
      },
      "source": [
        ""
      ],
      "execution_count": 0,
      "outputs": []
    },
    {
      "cell_type": "markdown",
      "metadata": {
        "id": "EAMbRUtnq622",
        "colab_type": "text"
      },
      "source": [
        "# <font color='red' style='font-size: 30px;'>Obtendo Previsões Pontuais</font>\n",
        "<hr style='border: 2px solid red;'>"
      ]
    },
    {
      "cell_type": "markdown",
      "metadata": {
        "id": "oLMN_nGLq623",
        "colab_type": "text"
      },
      "source": [
        "## Dados de entrada"
      ]
    },
    {
      "cell_type": "code",
      "metadata": {
        "id": "dqLxTsYiq624",
        "colab_type": "code",
        "colab": {}
      },
      "source": [
        ""
      ],
      "execution_count": 0,
      "outputs": []
    },
    {
      "cell_type": "markdown",
      "metadata": {
        "id": "sBbKhhNHq62_",
        "colab_type": "text"
      },
      "source": [
        "## Gerando previsão pontual"
      ]
    },
    {
      "cell_type": "code",
      "metadata": {
        "id": "XP3Q282sq63A",
        "colab_type": "code",
        "colab": {}
      },
      "source": [
        ""
      ],
      "execution_count": 0,
      "outputs": []
    },
    {
      "cell_type": "markdown",
      "metadata": {
        "id": "3qhEpKnLq63H",
        "colab_type": "text"
      },
      "source": [
        "## Criando um simulador simples"
      ]
    },
    {
      "cell_type": "code",
      "metadata": {
        "id": "ZRMk9hhcq63H",
        "colab_type": "code",
        "colab": {}
      },
      "source": [
        ""
      ],
      "execution_count": 0,
      "outputs": []
    },
    {
      "cell_type": "markdown",
      "metadata": {
        "id": "s4_f4Iymq63Q",
        "colab_type": "text"
      },
      "source": [
        "# <font color='red' style='font-size: 30px;'>Interpretação dos Coeficientes Estimados</font>\n",
        "<hr style='border: 2px solid red;'>"
      ]
    },
    {
      "cell_type": "markdown",
      "metadata": {
        "id": "yfL07fypq63R",
        "colab_type": "text"
      },
      "source": [
        "<img width='600px' src='../Dados/img/reg_02.jpg'>"
      ]
    },
    {
      "cell_type": "markdown",
      "metadata": {
        "id": "Kc6nzQNGq63S",
        "colab_type": "text"
      },
      "source": [
        "## Obtendo o intercepto do modelo\n",
        "\n",
        "<p style='font-size: 20px; line-height: 2; margin: 10px 50px; text-align: justify;'>O <b>intercepto</b> representa o efeito médio em $Y$ (Consumo de Cerveja) tendo todas as variáveis explicativas excluídas do modelo. De forma mais simples, o <b>intercepto</b> representa o efeito médio em $Y$ (Consumo de Cerveja) quando $X_2$ (Temperatura Máxima), $X_3$ (Chuva) e $X_4$ (Final de Semana) são iguais a zero.</p>"
      ]
    },
    {
      "cell_type": "code",
      "metadata": {
        "id": "Eb7VcyEQq63T",
        "colab_type": "code",
        "colab": {}
      },
      "source": [
        ""
      ],
      "execution_count": 0,
      "outputs": []
    },
    {
      "cell_type": "code",
      "metadata": {
        "id": "qaVHF7Pnq63a",
        "colab_type": "code",
        "colab": {}
      },
      "source": [
        ""
      ],
      "execution_count": 0,
      "outputs": []
    },
    {
      "cell_type": "markdown",
      "metadata": {
        "id": "cYSZJcT_q63k",
        "colab_type": "text"
      },
      "source": [
        "## Obtendo os coeficientes de regressão\n",
        "\n",
        "<p style='font-size: 20px; line-height: 2; margin: 10px 50px; text-align: justify;'>Os <b>coeficientes de regressão</b> $\\beta_2$, $\\beta_3$ e $\\beta_4$ são conhecidos como <b>coeficientes parciais de regressão</b> ou <b>coeficientes parciais angulares</b>. Considerando o número de variáveis explicativas de nosso modelo, seu significado seria o seguinte: $\\beta_2$ mede a variação no valor médio de $Y$ (Consumo de Cerveja), por unidade de variação em $X_2$ (Temperatura Máxima), mantendo-se os valores de $X_3$ (Chuva) e $X_4$ (Final de Semana) constantes. Em outras palavras, ele nos dá o efeito \"direto\" ou \"líquido\" de uma unidade de variação em $X_2$ sobre o valor médio de $Y$, excluídos os efeitos que $X_3$ e $X_4$ possam ter sobre a média de $Y$. De modo análogo podemos interpretar os demais coeficientes de regressão.</p>"
      ]
    },
    {
      "cell_type": "code",
      "metadata": {
        "id": "tvRQDzxRq63m",
        "colab_type": "code",
        "colab": {}
      },
      "source": [
        ""
      ],
      "execution_count": 0,
      "outputs": []
    },
    {
      "cell_type": "code",
      "metadata": {
        "id": "ABJnVwBGq63s",
        "colab_type": "code",
        "colab": {}
      },
      "source": [
        ""
      ],
      "execution_count": 0,
      "outputs": []
    },
    {
      "cell_type": "markdown",
      "metadata": {
        "id": "wshwptd4q63z",
        "colab_type": "text"
      },
      "source": [
        "## Confirmando a ordem das variáveis explicativas no DataFrame"
      ]
    },
    {
      "cell_type": "code",
      "metadata": {
        "id": "ulDKuGENq630",
        "colab_type": "code",
        "colab": {}
      },
      "source": [
        ""
      ],
      "execution_count": 0,
      "outputs": []
    },
    {
      "cell_type": "markdown",
      "metadata": {
        "id": "a87f96ujq63-",
        "colab_type": "text"
      },
      "source": [
        "## Criando uma lista com os nomes das variáveis do modelo"
      ]
    },
    {
      "cell_type": "code",
      "metadata": {
        "id": "fr34a1bOq63_",
        "colab_type": "code",
        "colab": {}
      },
      "source": [
        ""
      ],
      "execution_count": 0,
      "outputs": []
    },
    {
      "cell_type": "markdown",
      "metadata": {
        "id": "rJ-AY9J5q64E",
        "colab_type": "text"
      },
      "source": [
        "## Criando um DataFrame para armazenar os coeficientes do modelo\n",
        "\n",
        "https://docs.scipy.org/doc/numpy/reference/generated/numpy.append.html?#numpy.append"
      ]
    },
    {
      "cell_type": "code",
      "metadata": {
        "scrolled": true,
        "id": "OIbc45noq64G",
        "colab_type": "code",
        "colab": {}
      },
      "source": [
        ""
      ],
      "execution_count": 0,
      "outputs": []
    },
    {
      "cell_type": "markdown",
      "metadata": {
        "id": "6eYPNshMq64L",
        "colab_type": "text"
      },
      "source": [
        "## Interpretação dos Coeficientes Estimados\n",
        "\n",
        "<p style='font-size: 20px; line-height: 2; margin: 10px 50px; text-align: justify;'>\n",
        "<b>Intercepto</b> → Excluindo o efeito das variáveis explicativas ($X_2=X_3=X_4=0$) o efeito médio no Consumo de Cerveja seria de <b>5951,98 litros</b>.\n",
        "</p>\n",
        "\n",
        "<p style='font-size: 20px; line-height: 2; margin: 10px 50px; text-align: justify;'>\n",
        "<b>Temperatura Máxima (°C)</b> → Mantendo-se os valores de $X_3$ (Chuva) e $X_4$ (Final de Semana) constantes, o acréscimo de 1°C na Temperatura Máxima gera uma variação média no Consumo de Cerveja de <b>684,74 litros</b>.\n",
        "</p>\n",
        "\n",
        "<p style='font-size: 20px; line-height: 2; margin: 10px 50px; text-align: justify;'>\n",
        "<b>Chuva (mm)</b> → Mantendo-se os valores de $X_2$ (Temperatura Máxima) e $X_4$ (Final de Semana) constantes, o acréscimo de 1mm de Chuva gera uma variação média no Consumo de Cerveja de <b>-60,78 litros</b>.\n",
        "</p>\n",
        "\n",
        "<p style='font-size: 20px; line-height: 2; margin: 10px 50px; text-align: justify;'>\n",
        "<b>Final de Semana (Sim/Não)</b> → Mantendo-se os valores de $X_2$ (Temperatura Máxima) e $X_3$ (Chuva) constantes, o fato de o dia ser classificado como Final de Semana gera uma variação média no Consumo de Cerveja de <b>5401,08 litros</b>.\n",
        "</p>"
      ]
    },
    {
      "cell_type": "markdown",
      "metadata": {
        "id": "QK2dVaMNq64M",
        "colab_type": "text"
      },
      "source": [
        "# <font color='red' style='font-size: 30px;'>Análises Gráficas das Previsões do Modelo</font>\n",
        "<hr style='border: 2px solid red;'>"
      ]
    },
    {
      "cell_type": "markdown",
      "metadata": {
        "id": "LXdH3QxNq64N",
        "colab_type": "text"
      },
      "source": [
        "## Gerando as previsões do modelo para os dados de TREINO"
      ]
    },
    {
      "cell_type": "code",
      "metadata": {
        "id": "CjPoviOrq64P",
        "colab_type": "code",
        "colab": {}
      },
      "source": [
        ""
      ],
      "execution_count": 0,
      "outputs": []
    },
    {
      "cell_type": "markdown",
      "metadata": {
        "id": "tD76BhMuq64U",
        "colab_type": "text"
      },
      "source": [
        "## Gráfico de dispersão entre valor estimado e valor real\n",
        "\n",
        "https://seaborn.pydata.org/generated/seaborn.scatterplot.html"
      ]
    },
    {
      "cell_type": "code",
      "metadata": {
        "id": "ItbaMNduq64W",
        "colab_type": "code",
        "colab": {}
      },
      "source": [
        ""
      ],
      "execution_count": 0,
      "outputs": []
    },
    {
      "cell_type": "markdown",
      "metadata": {
        "id": "RmKdIrU6q64d",
        "colab_type": "text"
      },
      "source": [
        "## Obtendo os resíduos"
      ]
    },
    {
      "cell_type": "code",
      "metadata": {
        "id": "vZU-1zYbq64e",
        "colab_type": "code",
        "colab": {}
      },
      "source": [
        ""
      ],
      "execution_count": 0,
      "outputs": []
    },
    {
      "cell_type": "markdown",
      "metadata": {
        "id": "AvneppNuq64h",
        "colab_type": "text"
      },
      "source": [
        "## Gráfico de dispersão entre valor estimado e resíduos\n",
        "\n",
        "Método informal de verificação da hipótese de variância constante dos resíduos (homocedasticidade)"
      ]
    },
    {
      "cell_type": "code",
      "metadata": {
        "id": "qM1KrhWJq64i",
        "colab_type": "code",
        "colab": {}
      },
      "source": [
        ""
      ],
      "execution_count": 0,
      "outputs": []
    },
    {
      "cell_type": "markdown",
      "metadata": {
        "id": "dsISyn62q64n",
        "colab_type": "text"
      },
      "source": [
        "## Utilizando os resíduos ao quadrado"
      ]
    },
    {
      "cell_type": "markdown",
      "metadata": {
        "id": "YiNAES5Xq64o",
        "colab_type": "text"
      },
      "source": [
        "<img width='800px' src='../Dados/img/var_u.jpg'>\n",
        "Fonte: Econometria Básica - 5ª edição - Gujarati e Porter"
      ]
    },
    {
      "cell_type": "code",
      "metadata": {
        "id": "fd9EypNfq64p",
        "colab_type": "code",
        "colab": {}
      },
      "source": [
        ""
      ],
      "execution_count": 0,
      "outputs": []
    },
    {
      "cell_type": "markdown",
      "metadata": {
        "id": "mCMbUmkqq64s",
        "colab_type": "text"
      },
      "source": [
        "## Plotando a distribuição de frequências dos resíduos"
      ]
    },
    {
      "cell_type": "code",
      "metadata": {
        "id": "0OY9dUVHq64t",
        "colab_type": "code",
        "colab": {}
      },
      "source": [
        ""
      ],
      "execution_count": 0,
      "outputs": []
    },
    {
      "cell_type": "markdown",
      "metadata": {
        "id": "CjcCER2xq64w",
        "colab_type": "text"
      },
      "source": [
        "# <font color='red' style='font-size: 30px;'>Comparando Modelos</font>\n",
        "<hr style='border: 2px solid red;'>"
      ]
    },
    {
      "cell_type": "markdown",
      "metadata": {
        "id": "d1GtcL9Oq64w",
        "colab_type": "text"
      },
      "source": [
        "## Estimando um novo modelo com a substituição da variável explicativa Temperatura Máxima pela Temperatuda Média"
      ]
    },
    {
      "cell_type": "code",
      "metadata": {
        "id": "_YryVb6-q64x",
        "colab_type": "code",
        "colab": {}
      },
      "source": [
        ""
      ],
      "execution_count": 0,
      "outputs": []
    },
    {
      "cell_type": "markdown",
      "metadata": {
        "id": "DwX7x7_Tq640",
        "colab_type": "text"
      },
      "source": [
        "## Criando os datasets de treino e de teste"
      ]
    },
    {
      "cell_type": "code",
      "metadata": {
        "id": "tSLSUqLMq640",
        "colab_type": "code",
        "colab": {}
      },
      "source": [
        ""
      ],
      "execution_count": 0,
      "outputs": []
    },
    {
      "cell_type": "markdown",
      "metadata": {
        "id": "8MuaWvPpq645",
        "colab_type": "text"
      },
      "source": [
        "## Instanciando a classe *LinearRegression()*"
      ]
    },
    {
      "cell_type": "code",
      "metadata": {
        "id": "rtMOeQ39q646",
        "colab_type": "code",
        "colab": {}
      },
      "source": [
        ""
      ],
      "execution_count": 0,
      "outputs": []
    },
    {
      "cell_type": "markdown",
      "metadata": {
        "id": "NzCVqmlEq649",
        "colab_type": "text"
      },
      "source": [
        "## Utilizando o método *fit()* do objeto \"modelo_2\" para estimar nosso modelo linear utilizando os dados de TREINO (y2_train e X2_train)"
      ]
    },
    {
      "cell_type": "code",
      "metadata": {
        "id": "E7CSEJY7q64-",
        "colab_type": "code",
        "colab": {}
      },
      "source": [
        ""
      ],
      "execution_count": 0,
      "outputs": []
    },
    {
      "cell_type": "markdown",
      "metadata": {
        "id": "tJdOUsajq65B",
        "colab_type": "text"
      },
      "source": [
        "## Obtendo o coeficiente de determinação (R²) do novo modelo estimado e comparando com o resultado do modelo anterior"
      ]
    },
    {
      "cell_type": "code",
      "metadata": {
        "id": "eFz9bRqoq65C",
        "colab_type": "code",
        "colab": {}
      },
      "source": [
        ""
      ],
      "execution_count": 0,
      "outputs": []
    },
    {
      "cell_type": "code",
      "metadata": {
        "id": "dP8KJm5fq65K",
        "colab_type": "code",
        "colab": {}
      },
      "source": [
        ""
      ],
      "execution_count": 0,
      "outputs": []
    },
    {
      "cell_type": "markdown",
      "metadata": {
        "id": "ro8mTqYZq65P",
        "colab_type": "text"
      },
      "source": [
        "## Gerando previsões para os dados de TESTE (X_test e X2_test) utilizando o método *predict()* dos objetos \"modelo\" e \"modelo_2\""
      ]
    },
    {
      "cell_type": "code",
      "metadata": {
        "id": "ga8GOO2Nq65Q",
        "colab_type": "code",
        "colab": {}
      },
      "source": [
        ""
      ],
      "execution_count": 0,
      "outputs": []
    },
    {
      "cell_type": "markdown",
      "metadata": {
        "id": "4s--tUp-q65Y",
        "colab_type": "text"
      },
      "source": [
        "## Obtendo o coeficiente de determinação (R²) para as previsões dos dois modelos"
      ]
    },
    {
      "cell_type": "code",
      "metadata": {
        "id": "pt0Sy4bUq65a",
        "colab_type": "code",
        "colab": {}
      },
      "source": [
        ""
      ],
      "execution_count": 0,
      "outputs": []
    },
    {
      "cell_type": "code",
      "metadata": {
        "id": "X5Djn8z4q65g",
        "colab_type": "code",
        "colab": {}
      },
      "source": [
        ""
      ],
      "execution_count": 0,
      "outputs": []
    },
    {
      "cell_type": "markdown",
      "metadata": {
        "id": "skgp-IFlq65m",
        "colab_type": "text"
      },
      "source": [
        "# <font color='red' style='font-size: 30px;'>Outras Métricas de Regressão</font>\n",
        "<hr style='border: 2px solid red;'>"
      ]
    },
    {
      "cell_type": "markdown",
      "metadata": {
        "id": "QhapSNLEq65n",
        "colab_type": "text"
      },
      "source": [
        "## Métricas da regressão\n",
        "<hr>\n",
        "\n",
        "fonte: https://scikit-learn.org/stable/modules/model_evaluation.html#regression-metrics\n",
        "\n",
        "Algumas estatísticas obtidas do modelo de regressão são muito úteis como critério de comparação entre modelos estimados e de seleção do melhor modelo, as principais métricas de regressão que o scikit-learn disponibiliza para modelos lineares são as seguintes:\n",
        "\n",
        "### Erro Quadrático Médio\n",
        "\n",
        "Média dos quadrados dos erros. Ajustes melhores apresentam $EQM$ mais baixo.\n",
        "\n",
        "$$EQM(y, \\hat{y}) = \\frac 1n\\sum_{i=0}^{n-1}(y_i-\\hat{y}_i)^2$$\n",
        "\n",
        "### Raíz do Erro Quadrático Médio\n",
        "\n",
        "Raíz quadrada da média dos quadrados dos erros. Ajustes melhores apresentam $\\sqrt{EQM}$ mais baixo.\n",
        "\n",
        "$$\\sqrt{EQM(y, \\hat{y})} = \\sqrt{\\frac 1n\\sum_{i=0}^{n-1}(y_i-\\hat{y}_i)^2}$$\n",
        "\n"
      ]
    },
    {
      "cell_type": "markdown",
      "metadata": {
        "id": "qbIooXXXq65n",
        "colab_type": "text"
      },
      "source": [
        "## Obtendo métricas para o modelo com Temperatura Média"
      ]
    },
    {
      "cell_type": "code",
      "metadata": {
        "id": "ZN_xU6noq65o",
        "colab_type": "code",
        "colab": {}
      },
      "source": [
        ""
      ],
      "execution_count": 0,
      "outputs": []
    },
    {
      "cell_type": "markdown",
      "metadata": {
        "id": "P8b2nqwUq65t",
        "colab_type": "text"
      },
      "source": [
        "## Obtendo métricas para o modelo com Temperatura Máxima"
      ]
    },
    {
      "cell_type": "code",
      "metadata": {
        "id": "uIkboKCzq65u",
        "colab_type": "code",
        "colab": {}
      },
      "source": [
        ""
      ],
      "execution_count": 0,
      "outputs": []
    },
    {
      "cell_type": "markdown",
      "metadata": {
        "id": "HrKb1mo1q65y",
        "colab_type": "text"
      },
      "source": [
        "# <font color='red' style='font-size: 30px;'>Salvando e Carregando o Modelo Estimado</font>\n",
        "<hr style='border: 2px solid red;'>"
      ]
    },
    {
      "cell_type": "markdown",
      "metadata": {
        "id": "Wal-fefJq65z",
        "colab_type": "text"
      },
      "source": [
        "## Dados de entrada"
      ]
    },
    {
      "cell_type": "code",
      "metadata": {
        "id": "vkphIICCq65z",
        "colab_type": "code",
        "colab": {}
      },
      "source": [
        ""
      ],
      "execution_count": 0,
      "outputs": []
    },
    {
      "cell_type": "code",
      "metadata": {
        "id": "GjJQ1S_eq655",
        "colab_type": "code",
        "colab": {}
      },
      "source": [
        ""
      ],
      "execution_count": 0,
      "outputs": []
    },
    {
      "cell_type": "markdown",
      "metadata": {
        "id": "-9h2igynq65_",
        "colab_type": "text"
      },
      "source": [
        "## Gerando previsão pontual"
      ]
    },
    {
      "cell_type": "code",
      "metadata": {
        "id": "wX7tpToyq66A",
        "colab_type": "code",
        "colab": {}
      },
      "source": [
        ""
      ],
      "execution_count": 0,
      "outputs": []
    },
    {
      "cell_type": "markdown",
      "metadata": {
        "id": "86kqDSjRq66F",
        "colab_type": "text"
      },
      "source": [
        "## Criando um simulador simples"
      ]
    },
    {
      "cell_type": "code",
      "metadata": {
        "id": "PTVxR_i0q66G",
        "colab_type": "code",
        "colab": {}
      },
      "source": [
        ""
      ],
      "execution_count": 0,
      "outputs": []
    },
    {
      "cell_type": "markdown",
      "metadata": {
        "id": "hsMtcKKKq66K",
        "colab_type": "text"
      },
      "source": [
        "## Salvando o modelo estimado"
      ]
    },
    {
      "cell_type": "markdown",
      "metadata": {
        "id": "mPRxu4gEq66M",
        "colab_type": "text"
      },
      "source": [
        "## pickle (https://docs.python.org/3/library/pickle.html)\n",
        "\n",
        "<p style='font-size: 20px; line-height: 2; margin: 10px 50px; text-align: justify;'>O módulo <b>pickle</b> implementa protocolos binários para serializar e desserializar a estrutura de um objeto Python.</p>"
      ]
    },
    {
      "cell_type": "code",
      "metadata": {
        "id": "G3neI5tpq66N",
        "colab_type": "code",
        "colab": {}
      },
      "source": [
        ""
      ],
      "execution_count": 0,
      "outputs": []
    },
    {
      "cell_type": "code",
      "metadata": {
        "id": "ij_ayMmiq66S",
        "colab_type": "code",
        "colab": {}
      },
      "source": [
        ""
      ],
      "execution_count": 0,
      "outputs": []
    },
    {
      "cell_type": "markdown",
      "metadata": {
        "id": "DkrkPaaAq66V",
        "colab_type": "text"
      },
      "source": [
        "### Em um novo notebook/projeto Python\n",
        "\n",
        "<h4 style='color: blue; font-weight: normal'>In [1]:</h4>\n",
        "\n",
        "```sh\n",
        "import pickle\n",
        "\n",
        "modelo = open('modelo_consumo_cerveja','rb')\n",
        "lm_new = pickle.load(modelo)\n",
        "modelo.close()\n",
        "\n",
        "temp_max = 30.5\n",
        "chuva = 12.2\n",
        "fds = 0\n",
        "entrada = [[temp_max, chuva, fds]]\n",
        "print('{0:.2f} litros'.format(lm_new.predict(entrada)[0]))\n",
        "```\n",
        "\n",
        "<h4 style='color: red; font-weight: normal'>Out [1]:</h4>\n",
        "\n",
        "```\n",
        "26094.90 litros\n",
        "```"
      ]
    },
    {
      "cell_type": "code",
      "metadata": {
        "id": "K4foHrnPq66W",
        "colab_type": "code",
        "colab": {}
      },
      "source": [
        ""
      ],
      "execution_count": 0,
      "outputs": []
    }
  ]
}